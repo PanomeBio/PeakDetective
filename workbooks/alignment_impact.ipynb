{
 "cells": [
  {
   "cell_type": "code",
   "execution_count": 1,
   "metadata": {},
   "outputs": [],
   "source": [
    "import deimos\n",
    "import numpy as np\n",
    "import pandas as pd\n",
    "import time\n",
    "import matplotlib.pyplot as plt\n",
    "import os\n",
    "from sklearn.decomposition import PCA\n",
    "from sklearn.model_selection import train_test_split, KFold\n",
    "import random as rd\n",
    "import matplotlib\n",
    "matplotlib.rcParams['figure.dpi'] = 100\n",
    "import sys\n",
    "import PeakDetective\n",
    "import PeakDetective.detection_helper as detection_helper\n",
    "import scipy.stats as stats\n",
    "import seaborn as sb\n",
    "from matplotlib.colors import LinearSegmentedColormap\n",
    "from sklearn.metrics import confusion_matrix\n",
    "import sklearn.metrics as met\n",
    "import random as rd\n",
    "import importlib\n",
    "import pickle as pkl\n",
    "import NeatMS as ntms\n",
    "from copy import deepcopy\n",
    "\n",
    "def makePRCPlot(pred,true,noSkill=True,label=\"\"):\n",
    "\n",
    "    prec, recall, threshs = met.precision_recall_curve(true, pred)\n",
    "\n",
    "    auc = np.round(met.auc(recall, prec), 4)\n",
    "\n",
    "    plt.plot(recall, prec, label=label + \" prAUC=\" + str(auc))\n",
    "    plt.xlabel(\"Recall\")\n",
    "    plt.ylabel(\"Precision\")\n",
    "    if noSkill:\n",
    "        numPositive = len([x for x in true if x > 0.5])\n",
    "        numNegative = len(true) - numPositive\n",
    "        plt.plot([0, 1.0],\n",
    "                 [numPositive / float(numPositive + numNegative), numPositive / float(numPositive + numNegative)],\n",
    "                 label=\"NSL prAUC=\" + str(\n",
    "                     np.round(numPositive / float(numPositive + numNegative), 4)))\n",
    "    plt.legend()\n",
    "    return auc\n",
    "\n",
    "def makeViolinPlot(pred,true):\n",
    "    \n",
    "    plt_dict = {}\n",
    "    \n",
    "    for p,t in zip(pred,true):\n",
    "        if t > 0.5:\n",
    "            group = \"true peak\"\n",
    "        else:\n",
    "            group = \"artifact\"\n",
    "        plt_dict[len(plt_dict)] = {\"group\":group,\"prediction\":p}\n",
    "        \n",
    "    plt_dict = pd.DataFrame.from_dict(plt_dict,orient=\"index\")\n",
    "    \n",
    "    sb.violinplot(data=plt_dict,x=\"group\",y=\"prediction\",cut=0)\n",
    "    \n",
    "def makeROCPlot(pred,true,label=\"\",noSkill=True,color=None):\n",
    "\n",
    "    fpr, tpr, threshs = met.roc_curve(true, pred)\n",
    "\n",
    "    auc = np.round(met.auc(fpr, tpr), 4)\n",
    "\n",
    "    if color is None: plt.plot(fpr, tpr, label=label + \": AUROC=\" + str(auc))\n",
    "    else: plt.plot(fpr, tpr, label=label + \": AUROC=\" + str(auc),color=color)\n",
    "    plt.xlabel(\"FPR\")\n",
    "    plt.ylabel(\"TPR\")\n",
    "    if noSkill:\n",
    "        plt.plot([0, 1.0],[0,1.0],label=\"NSL\",color=\"grey\",linestyle=\"--\")\n",
    "    plt.legend()\n",
    "    return auc\n",
    "\n",
    "def plot_overlayedEIC(rawdatas,mz,rt_start,rt_end,resolution=60,smoothing=0,alpha=0.3,color=\"black\"):\n",
    "    ts = np.linspace(rt_start,rt_end,resolution)\n",
    "    for data in rawdatas:\n",
    "        s = data.interpolate_data(mz,rt_start,rt_end)\n",
    "        ints  = [np.max([x,0]) for x in s(ts)]\n",
    "        plt.plot(ts,ints,alpha=alpha)"
   ]
  },
  {
   "cell_type": "code",
   "execution_count": 2,
   "metadata": {},
   "outputs": [],
   "source": [
    "#importlib.reload(PeakDetective)"
   ]
  },
  {
   "cell_type": "code",
   "execution_count": 3,
   "metadata": {},
   "outputs": [],
   "source": [
    "resolution = 60\n",
    "window = 1.0\n",
    "\n",
    "align = True"
   ]
  },
  {
   "cell_type": "code",
   "execution_count": 4,
   "metadata": {},
   "outputs": [],
   "source": [
    "#covid_plasma\n",
    "datadir = \"D:/PeakDetective/data/covid_plasma/\"\n",
    "ms1ppm = 25.5\n",
    "peakWidth = (13.8,114.6)\n",
    "s2n = 13.6\n",
    "noise = 1\n",
    "mzDiff = 0.0144\n",
    "prefilter = 5\n",
    "cutoff = 0.75 #default cutoff from last run"
   ]
  },
  {
   "cell_type": "code",
   "execution_count": 46,
   "metadata": {},
   "outputs": [],
   "source": [
    "#ST000081\n",
    "datadir = \"D:/PeakDetective/data/ST000081/\"\n",
    "ms1ppm = 11.5\n",
    "peakWidth = (8.5,31.3)\n",
    "s2n = 6.81\n",
    "noise = 1\n",
    "mzDiff = 0.0144\n",
    "prefilter = 5.4\n",
    "cutoff = 0.6 #default cutoff from last run"
   ]
  },
  {
   "cell_type": "code",
   "execution_count": 79,
   "metadata": {},
   "outputs": [],
   "source": [
    "#ST001882_GT_RP_Positive\n",
    "datadir = \"D:/PeakDetective/data/ST001882_GT_RP_Positive/\"\n",
    "ms1ppm = 11.5\n",
    "peakWidth = (8.576,30)\n",
    "s2n = 9.1\n",
    "noise = 12970\n",
    "mzDiff = 0.0144\n",
    "prefilter = 1\n",
    "cutoff = 0.5 #default cutoff from last run"
   ]
  },
  {
   "cell_type": "code",
   "execution_count": 2,
   "metadata": {},
   "outputs": [],
   "source": [
    "#ST000992\n",
    "datadir = \"D:/PeakDetective/data/ST000992/\"\n",
    "ms1ppm = 45\n",
    "peakWidth = (5,20)\n",
    "s2n = 1.46\n",
    "noise = 1\n",
    "mzDiff = 0.0012\n",
    "prefilter = 5.4\n",
    "cutoff = 0.5 #default cutoff from last run"
   ]
  },
  {
   "cell_type": "code",
   "execution_count": 47,
   "metadata": {},
   "outputs": [
    {
     "data": {
      "text/html": [
       "<div>\n",
       "<style scoped>\n",
       "    .dataframe tbody tr th:only-of-type {\n",
       "        vertical-align: middle;\n",
       "    }\n",
       "\n",
       "    .dataframe tbody tr th {\n",
       "        vertical-align: top;\n",
       "    }\n",
       "\n",
       "    .dataframe thead th {\n",
       "        text-align: right;\n",
       "    }\n",
       "</style>\n",
       "<table border=\"1\" class=\"dataframe\">\n",
       "  <thead>\n",
       "    <tr style=\"text-align: right;\">\n",
       "      <th></th>\n",
       "      <th>mz</th>\n",
       "      <th>rt</th>\n",
       "      <th>rt_start</th>\n",
       "      <th>rt_end</th>\n",
       "      <th>CSH_QC 02_neg_0314.mzML</th>\n",
       "      <th>CSH_QC 03_neg_0314.mzML</th>\n",
       "      <th>CSH_QC 04_neg_0314.mzML</th>\n",
       "      <th>CSH_QC 05_neg_0314.mzML</th>\n",
       "      <th>CSH_QC 06_neg_0314.mzML</th>\n",
       "      <th>CSH_QC01_neg_0314.mzML</th>\n",
       "    </tr>\n",
       "  </thead>\n",
       "  <tbody>\n",
       "    <tr>\n",
       "      <th>FT0001</th>\n",
       "      <td>91.005820</td>\n",
       "      <td>9.560227</td>\n",
       "      <td>9.560227</td>\n",
       "      <td>9.560227</td>\n",
       "      <td>485.777941</td>\n",
       "      <td>0.000000</td>\n",
       "      <td>0.000000</td>\n",
       "      <td>0.000000</td>\n",
       "      <td>3110.835558</td>\n",
       "      <td>16744.833372</td>\n",
       "    </tr>\n",
       "    <tr>\n",
       "      <th>FT0002</th>\n",
       "      <td>100.935555</td>\n",
       "      <td>9.643209</td>\n",
       "      <td>9.643209</td>\n",
       "      <td>9.643209</td>\n",
       "      <td>0.000000</td>\n",
       "      <td>0.000000</td>\n",
       "      <td>0.000000</td>\n",
       "      <td>0.000000</td>\n",
       "      <td>0.000000</td>\n",
       "      <td>2916.834364</td>\n",
       "    </tr>\n",
       "    <tr>\n",
       "      <th>FT0003</th>\n",
       "      <td>102.958559</td>\n",
       "      <td>9.676374</td>\n",
       "      <td>9.676374</td>\n",
       "      <td>9.676374</td>\n",
       "      <td>0.000000</td>\n",
       "      <td>0.000000</td>\n",
       "      <td>0.000000</td>\n",
       "      <td>0.000000</td>\n",
       "      <td>0.000000</td>\n",
       "      <td>5683.065903</td>\n",
       "    </tr>\n",
       "    <tr>\n",
       "      <th>FT0004</th>\n",
       "      <td>104.023052</td>\n",
       "      <td>0.465233</td>\n",
       "      <td>0.465204</td>\n",
       "      <td>0.465253</td>\n",
       "      <td>10364.592212</td>\n",
       "      <td>20588.189441</td>\n",
       "      <td>21412.490127</td>\n",
       "      <td>18892.308099</td>\n",
       "      <td>7529.377449</td>\n",
       "      <td>12672.578047</td>\n",
       "    </tr>\n",
       "    <tr>\n",
       "      <th>FT0005</th>\n",
       "      <td>105.019255</td>\n",
       "      <td>0.465253</td>\n",
       "      <td>0.465233</td>\n",
       "      <td>0.473517</td>\n",
       "      <td>40604.911223</td>\n",
       "      <td>40533.364635</td>\n",
       "      <td>42035.413412</td>\n",
       "      <td>34037.576180</td>\n",
       "      <td>9155.274744</td>\n",
       "      <td>37203.250919</td>\n",
       "    </tr>\n",
       "    <tr>\n",
       "      <th>...</th>\n",
       "      <td>...</td>\n",
       "      <td>...</td>\n",
       "      <td>...</td>\n",
       "      <td>...</td>\n",
       "      <td>...</td>\n",
       "      <td>...</td>\n",
       "      <td>...</td>\n",
       "      <td>...</td>\n",
       "      <td>...</td>\n",
       "      <td>...</td>\n",
       "    </tr>\n",
       "    <tr>\n",
       "      <th>FT1830</th>\n",
       "      <td>1502.081893</td>\n",
       "      <td>5.672045</td>\n",
       "      <td>5.672045</td>\n",
       "      <td>5.672045</td>\n",
       "      <td>865.726513</td>\n",
       "      <td>1316.500685</td>\n",
       "      <td>846.628051</td>\n",
       "      <td>1171.188893</td>\n",
       "      <td>1373.243643</td>\n",
       "      <td>886.594990</td>\n",
       "    </tr>\n",
       "    <tr>\n",
       "      <th>FT1831</th>\n",
       "      <td>1502.149000</td>\n",
       "      <td>8.532183</td>\n",
       "      <td>8.532183</td>\n",
       "      <td>8.532183</td>\n",
       "      <td>6209.532937</td>\n",
       "      <td>1416.036881</td>\n",
       "      <td>397.042454</td>\n",
       "      <td>472.230287</td>\n",
       "      <td>836.116128</td>\n",
       "      <td>1482.583942</td>\n",
       "    </tr>\n",
       "    <tr>\n",
       "      <th>FT1832</th>\n",
       "      <td>1509.110701</td>\n",
       "      <td>5.638857</td>\n",
       "      <td>5.638857</td>\n",
       "      <td>5.638857</td>\n",
       "      <td>266.986125</td>\n",
       "      <td>497.067846</td>\n",
       "      <td>0.000000</td>\n",
       "      <td>158.431769</td>\n",
       "      <td>1196.585734</td>\n",
       "      <td>203.374788</td>\n",
       "    </tr>\n",
       "    <tr>\n",
       "      <th>FT1833</th>\n",
       "      <td>1510.115836</td>\n",
       "      <td>5.647000</td>\n",
       "      <td>5.647000</td>\n",
       "      <td>5.647000</td>\n",
       "      <td>349.866058</td>\n",
       "      <td>666.100117</td>\n",
       "      <td>441.358264</td>\n",
       "      <td>422.254199</td>\n",
       "      <td>566.142752</td>\n",
       "      <td>1040.143830</td>\n",
       "    </tr>\n",
       "    <tr>\n",
       "      <th>FT1834</th>\n",
       "      <td>1522.061853</td>\n",
       "      <td>5.663574</td>\n",
       "      <td>5.663566</td>\n",
       "      <td>5.663583</td>\n",
       "      <td>1114.413816</td>\n",
       "      <td>875.202492</td>\n",
       "      <td>661.341486</td>\n",
       "      <td>1015.536519</td>\n",
       "      <td>455.043338</td>\n",
       "      <td>492.017659</td>\n",
       "    </tr>\n",
       "  </tbody>\n",
       "</table>\n",
       "<p>1834 rows × 10 columns</p>\n",
       "</div>"
      ],
      "text/plain": [
       "                 mz        rt  rt_start    rt_end  CSH_QC 02_neg_0314.mzML  \\\n",
       "FT0001    91.005820  9.560227  9.560227  9.560227               485.777941   \n",
       "FT0002   100.935555  9.643209  9.643209  9.643209                 0.000000   \n",
       "FT0003   102.958559  9.676374  9.676374  9.676374                 0.000000   \n",
       "FT0004   104.023052  0.465233  0.465204  0.465253             10364.592212   \n",
       "FT0005   105.019255  0.465253  0.465233  0.473517             40604.911223   \n",
       "...             ...       ...       ...       ...                      ...   \n",
       "FT1830  1502.081893  5.672045  5.672045  5.672045               865.726513   \n",
       "FT1831  1502.149000  8.532183  8.532183  8.532183              6209.532937   \n",
       "FT1832  1509.110701  5.638857  5.638857  5.638857               266.986125   \n",
       "FT1833  1510.115836  5.647000  5.647000  5.647000               349.866058   \n",
       "FT1834  1522.061853  5.663574  5.663566  5.663583              1114.413816   \n",
       "\n",
       "        CSH_QC 03_neg_0314.mzML  CSH_QC 04_neg_0314.mzML  \\\n",
       "FT0001                 0.000000                 0.000000   \n",
       "FT0002                 0.000000                 0.000000   \n",
       "FT0003                 0.000000                 0.000000   \n",
       "FT0004             20588.189441             21412.490127   \n",
       "FT0005             40533.364635             42035.413412   \n",
       "...                         ...                      ...   \n",
       "FT1830              1316.500685               846.628051   \n",
       "FT1831              1416.036881               397.042454   \n",
       "FT1832               497.067846                 0.000000   \n",
       "FT1833               666.100117               441.358264   \n",
       "FT1834               875.202492               661.341486   \n",
       "\n",
       "        CSH_QC 05_neg_0314.mzML  CSH_QC 06_neg_0314.mzML  \\\n",
       "FT0001                 0.000000              3110.835558   \n",
       "FT0002                 0.000000                 0.000000   \n",
       "FT0003                 0.000000                 0.000000   \n",
       "FT0004             18892.308099              7529.377449   \n",
       "FT0005             34037.576180              9155.274744   \n",
       "...                         ...                      ...   \n",
       "FT1830              1171.188893              1373.243643   \n",
       "FT1831               472.230287               836.116128   \n",
       "FT1832               158.431769              1196.585734   \n",
       "FT1833               422.254199               566.142752   \n",
       "FT1834              1015.536519               455.043338   \n",
       "\n",
       "        CSH_QC01_neg_0314.mzML  \n",
       "FT0001            16744.833372  \n",
       "FT0002             2916.834364  \n",
       "FT0003             5683.065903  \n",
       "FT0004            12672.578047  \n",
       "FT0005            37203.250919  \n",
       "...                        ...  \n",
       "FT1830              886.594990  \n",
       "FT1831             1482.583942  \n",
       "FT1832              203.374788  \n",
       "FT1833             1040.143830  \n",
       "FT1834              492.017659  \n",
       "\n",
       "[1834 rows x 10 columns]"
      ]
     },
     "execution_count": 47,
     "metadata": {},
     "output_type": "execute_result"
    }
   ],
   "source": [
    "det = detection_helper.PeakList()\n",
    "#det.runXCMS(datadir, \"xcms_peak_list.csv\", \"negative\", ms1ppm, peakWidth,s2n=s2n,noise=noise,mzDiff=mzDiff,prefilter=prefilter)\n",
    "det.readXCMSPeakList(datadir+\"xcms_peak_list.csv\")\n",
    "#det.to_skyline(datadir+\"xcms_peak_list_transition_list.csv\",\"Negative\",moleculeListName = \"XCMS peaks\")\n",
    "peakList = pd.DataFrame(det.peakList)\n",
    "#peakList = peakList[[\"mz\",\"rt\"]]\n",
    "peakList"
   ]
  },
  {
   "cell_type": "code",
   "execution_count": 48,
   "metadata": {},
   "outputs": [
    {
     "name": "stdout",
     "output_type": "stream",
     "text": [
      "['CSH_QC 02_neg_0314.mzML', 'CSH_QC 03_neg_0314.mzML', 'CSH_QC 04_neg_0314.mzML', 'CSH_QC 05_neg_0314.mzML', 'CSH_QC 06_neg_0314.mzML', 'CSH_QC01_neg_0314.mzML']\n"
     ]
    }
   ],
   "source": [
    "files = [x for x in os.listdir(datadir) if \".mzML\" in x]\n",
    "print(files)\n",
    "raw_data = []\n",
    "for file in files:\n",
    "    temp = PeakDetective.rawData()\n",
    "    temp.readRawDataFile(datadir + file,ms1ppm)\n",
    "    raw_data.append(temp)\n",
    "    "
   ]
  },
  {
   "cell_type": "code",
   "execution_count": 49,
   "metadata": {},
   "outputs": [],
   "source": [
    "integ = PeakDetective.PeakDetective(numCores = 15,resolution=resolution)"
   ]
  },
  {
   "cell_type": "code",
   "execution_count": 50,
   "metadata": {},
   "outputs": [],
   "source": [
    "peakList_labeled = pd.read_csv(datadir + files[0].replace(\".mzML\",\"_classified_peaks.csv\"),index_col=0)"
   ]
  },
  {
   "cell_type": "code",
   "execution_count": 51,
   "metadata": {},
   "outputs": [
    {
     "name": "stdout",
     "output_type": "stream",
     "text": [
      "forming matrix |██████████████████████████████████████████████████| 100.0% \n",
      "aligning EICs |██████████████████████████████████████████████████| 100.0% \n",
      "forming matrix |██████████████████████████████████████████████████| 100.0% \n"
     ]
    }
   ],
   "source": [
    "if __name__ == \"__main__\":\n",
    "    rts = peakList_labeled[\"rt\"].values\n",
    "    X_labeled_aligned = integ.makeDataMatrix(raw_data,peakList_labeled[\"mz\"],peakList_labeled[\"rt\"],align=True)\n",
    "    X_labeled_unaligned = integ.makeDataMatrix(raw_data,peakList_labeled[\"mz\"],peakList_labeled[\"rt\"],align=False)\n"
   ]
  },
  {
   "cell_type": "code",
   "execution_count": 52,
   "metadata": {},
   "outputs": [],
   "source": [
    "y_labeled = np.concatenate([peakList_labeled[\"classification\"].values for _ in range(len(raw_data))])\n",
    "y_labeled = np.array([[-1*y + 1,y] for y in y_labeled])"
   ]
  },
  {
   "cell_type": "code",
   "execution_count": 53,
   "metadata": {},
   "outputs": [
    {
     "name": "stdout",
     "output_type": "stream",
     "text": [
      "WARNING:tensorflow:No training configuration found in the save file, so the model was *not* compiled. Compile it manually.\n"
     ]
    }
   ],
   "source": [
    "integ.load(datadir + \"active/\")"
   ]
  },
  {
   "cell_type": "code",
   "execution_count": 54,
   "metadata": {},
   "outputs": [
    {
     "name": "stdout",
     "output_type": "stream",
     "text": [
      "94/94 [==============================] - 1s 11ms/step\n",
      "94/94 [==============================] - 0s 2ms/step\n"
     ]
    }
   ],
   "source": [
    "y_pred_aligned = integ.classifyMatrix(X_labeled_aligned)"
   ]
  },
  {
   "cell_type": "code",
   "execution_count": 55,
   "metadata": {},
   "outputs": [
    {
     "name": "stdout",
     "output_type": "stream",
     "text": [
      "94/94 [==============================] - 1s 11ms/step\n",
      "94/94 [==============================] - 0s 2ms/step\n"
     ]
    }
   ],
   "source": [
    "y_pred_unligned = integ.classifyMatrix(X_labeled_unaligned)"
   ]
  },
  {
   "cell_type": "code",
   "execution_count": 56,
   "metadata": {},
   "outputs": [
    {
     "data": {
      "image/png": "[encoded data removed]",
      "text/plain": [
       "<Figure size 432x288 with 1 Axes>"
      ]
     },
     "metadata": {
      "needs_background": "light"
     },
     "output_type": "display_data"
    }
   ],
   "source": [
    "makeROCPlot(y_pred_aligned[:,1],y_labeled[:,1],noSkill=True,label=\"aligned\")\n",
    "makeROCPlot(y_pred_unligned[:,1],y_labeled[:,1],noSkill=False,label=\"unaligned\")\n",
    "plt.tight_layout()\n",
    "plt.savefig(datadir+\"ROC_alignment.png\",dpi=300)"
   ]
  },
  {
   "cell_type": "code",
   "execution_count": null,
   "metadata": {},
   "outputs": [
    {
     "name": "stdout",
     "output_type": "stream",
     "text": [
      "forming matrix |██████████████████████████████████████████████████| 100.0% \n"
     ]
    }
   ],
   "source": [
    "if __name__ == \"__main__\":\n",
    "    Xs = {}\n",
    "    shifts = [0,0.025,0.05,0.075,0.1]\n",
    "    for shift in shifts:\n",
    "        Xs[shift] = integ.makeDataMatrix(raw_data[:1],peakList_labeled[\"mz\"],peakList_labeled[\"rt\"] + shift,align=False)\n"
   ]
  },
  {
   "cell_type": "code",
   "execution_count": null,
   "metadata": {},
   "outputs": [],
   "source": [
    "y = peakList_labeled[\"classification\"].values\n",
    "y = np.array([[-1*y + 1,y] for y in y])\n",
    "shiftOrder = list(Xs.keys())\n",
    "shiftOrder.sort(key=lambda x: abs(x))\n",
    "\n",
    "for shift in shiftOrder[:-1]:\n",
    "    y_pred = integ.classifyMatrix(Xs[shift])\n",
    "    makeROCPlot(y_pred[:,1],y[:,1],noSkill=False,label=\"shift=\" + str(shift))\n",
    "    \n",
    "shift = shiftOrder[-1]\n",
    "y_pred = integ.classifyMatrix(Xs[shift])\n",
    "makeROCPlot(y_pred[:,1],y[:,1],noSkill=True,label=\"shift=\" + str(shift))\n",
    "\n",
    "plt.tight_layout()\n",
    "plt.savefig(datadir+\"ROC_shift.png\",dpi=300)"
   ]
  },
  {
   "cell_type": "code",
   "execution_count": null,
   "metadata": {},
   "outputs": [],
   "source": []
  }
 ],
 "metadata": {
  "kernelspec": {
   "display_name": "PyCharm (imaging)",
   "language": "python",
   "name": "pycharm-19caf1f8"
  },
  "language_info": {
   "codemirror_mode": {
    "name": "ipython",
    "version": 3
   },
   "file_extension": ".py",
   "mimetype": "text/x-python",
   "name": "python",
   "nbconvert_exporter": "python",
   "pygments_lexer": "ipython3",
   "version": "3.7.6"
  }
 },
 "nbformat": 4,
 "nbformat_minor": 4
}
