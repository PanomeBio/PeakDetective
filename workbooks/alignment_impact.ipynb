{
 "cells": [
  {
   "cell_type": "code",
   "execution_count": 1,
   "metadata": {},
   "outputs": [],
   "source": [
    "import deimos\n",
    "import numpy as np\n",
    "import pandas as pd\n",
    "import time\n",
    "import matplotlib.pyplot as plt\n",
    "import os\n",
    "from sklearn.decomposition import PCA\n",
    "from sklearn.model_selection import train_test_split, KFold\n",
    "import random as rd\n",
    "import matplotlib\n",
    "matplotlib.rcParams['figure.dpi'] = 100\n",
    "import sys\n",
    "import PeakDetective\n",
    "import PeakDetective.detection_helper as detection_helper\n",
    "import scipy.stats as stats\n",
    "import seaborn as sb\n",
    "from matplotlib.colors import LinearSegmentedColormap\n",
    "from sklearn.metrics import confusion_matrix\n",
    "import sklearn.metrics as met\n",
    "import random as rd\n",
    "import importlib\n",
    "import pickle as pkl\n",
    "import NeatMS as ntms\n",
    "from copy import deepcopy\n",
    "\n",
    "def makePRCPlot(pred,true,noSkill=True,label=\"\"):\n",
    "\n",
    "    prec, recall, threshs = met.precision_recall_curve(true, pred)\n",
    "\n",
    "    auc = np.round(met.auc(recall, prec), 4)\n",
    "\n",
    "    plt.plot(recall, prec, label=label + \" prAUC=\" + str(auc))\n",
    "    plt.xlabel(\"Recall\")\n",
    "    plt.ylabel(\"Precision\")\n",
    "    if noSkill:\n",
    "        numPositive = len([x for x in true if x > 0.5])\n",
    "        numNegative = len(true) - numPositive\n",
    "        plt.plot([0, 1.0],\n",
    "                 [numPositive / float(numPositive + numNegative), numPositive / float(numPositive + numNegative)],\n",
    "                 label=\"NSL prAUC=\" + str(\n",
    "                     np.round(numPositive / float(numPositive + numNegative), 4)))\n",
    "    plt.legend()\n",
    "    return auc\n",
    "\n",
    "def makeViolinPlot(pred,true):\n",
    "    \n",
    "    plt_dict = {}\n",
    "    \n",
    "    for p,t in zip(pred,true):\n",
    "        if t > 0.5:\n",
    "            group = \"true peak\"\n",
    "        else:\n",
    "            group = \"artifact\"\n",
    "        plt_dict[len(plt_dict)] = {\"group\":group,\"prediction\":p}\n",
    "        \n",
    "    plt_dict = pd.DataFrame.from_dict(plt_dict,orient=\"index\")\n",
    "    \n",
    "    sb.violinplot(data=plt_dict,x=\"group\",y=\"prediction\",cut=0)\n",
    "    \n",
    "def makeROCPlot(pred,true,label=\"\",noSkill=True,color=None):\n",
    "\n",
    "    fpr, tpr, threshs = met.roc_curve(true, pred)\n",
    "\n",
    "    auc = np.round(met.auc(fpr, tpr), 4)\n",
    "\n",
    "    if color is None: plt.plot(fpr, tpr, label=label + \": AUROC=\" + str(auc))\n",
    "    else: plt.plot(fpr, tpr, label=label + \": AUROC=\" + str(auc),color=color)\n",
    "    plt.xlabel(\"FPR\")\n",
    "    plt.ylabel(\"TPR\")\n",
    "    if noSkill:\n",
    "        plt.plot([0, 1.0],[0,1.0],label=\"NSL\",color=\"grey\",linestyle=\"--\")\n",
    "    plt.legend()\n",
    "    return auc\n",
    "\n",
    "def plot_overlayedEIC(rawdatas,mz,rt_start,rt_end,resolution=60,smoothing=0,alpha=0.3,color=\"black\"):\n",
    "    ts = np.linspace(rt_start,rt_end,resolution)\n",
    "    for data in rawdatas:\n",
    "        s = data.interpolate_data(mz,rt_start,rt_end)\n",
    "        ints  = [np.max([x,0]) for x in s(ts)]\n",
    "        plt.plot(ts,ints,alpha=alpha)"
   ]
  },
  {
   "cell_type": "code",
   "execution_count": 2,
   "metadata": {},
   "outputs": [],
   "source": [
    "#importlib.reload(PeakDetective)"
   ]
  },
  {
   "cell_type": "code",
   "execution_count": 3,
   "metadata": {},
   "outputs": [],
   "source": [
    "resolution = 60\n",
    "window = 1.0\n",
    "\n",
    "align = True"
   ]
  },
  {
   "cell_type": "code",
   "execution_count": 4,
   "metadata": {},
   "outputs": [],
   "source": [
    "#covid_plasma\n",
    "datadir = \"D:/PeakDetective/data/covid_plasma/\"\n",
    "ms1ppm = 25.5\n",
    "peakWidth = (13.8,114.6)\n",
    "s2n = 13.6\n",
    "noise = 1\n",
    "mzDiff = 0.0144\n",
    "prefilter = 5\n",
    "cutoff = 0.75 #default cutoff from last run"
   ]
  },
  {
   "cell_type": "code",
   "execution_count": 46,
   "metadata": {},
   "outputs": [],
   "source": [
    "#ST000081\n",
    "datadir = \"D:/PeakDetective/data/ST000081/\"\n",
    "ms1ppm = 11.5\n",
    "peakWidth = (8.5,31.3)\n",
    "s2n = 6.81\n",
    "noise = 1\n",
    "mzDiff = 0.0144\n",
    "prefilter = 5.4\n",
    "cutoff = 0.6 #default cutoff from last run"
   ]
  },
  {
   "cell_type": "code",
   "execution_count": 59,
   "metadata": {},
   "outputs": [],
   "source": [
    "#ST001882_GT_RP_Positive\n",
    "datadir = \"D:/PeakDetective/data/ST001882_GT_RP_Positive/\"\n",
    "ms1ppm = 11.5\n",
    "peakWidth = (8.576,30)\n",
    "s2n = 9.1\n",
    "noise = 12970\n",
    "mzDiff = 0.0144\n",
    "prefilter = 1\n",
    "cutoff = 0.5 #default cutoff from last run"
   ]
  },
  {
   "cell_type": "code",
   "execution_count": 72,
   "metadata": {},
   "outputs": [],
   "source": [
    "#ST000992\n",
    "datadir = \"D:/PeakDetective/data/ST000992/\"\n",
    "ms1ppm = 45\n",
    "peakWidth = (5,20)\n",
    "s2n = 1.46\n",
    "noise = 1\n",
    "mzDiff = 0.0012\n",
    "prefilter = 5.4\n",
    "cutoff = 0.5 #default cutoff from last run"
   ]
  },
  {
   "cell_type": "code",
   "execution_count": 73,
   "metadata": {},
   "outputs": [
    {
     "data": {
      "text/html": [
       "<div>\n",
       "<style scoped>\n",
       "    .dataframe tbody tr th:only-of-type {\n",
       "        vertical-align: middle;\n",
       "    }\n",
       "\n",
       "    .dataframe tbody tr th {\n",
       "        vertical-align: top;\n",
       "    }\n",
       "\n",
       "    .dataframe thead th {\n",
       "        text-align: right;\n",
       "    }\n",
       "</style>\n",
       "<table border=\"1\" class=\"dataframe\">\n",
       "  <thead>\n",
       "    <tr style=\"text-align: right;\">\n",
       "      <th></th>\n",
       "      <th>mz</th>\n",
       "      <th>rt</th>\n",
       "      <th>rt_start</th>\n",
       "      <th>rt_end</th>\n",
       "      <th>20150811-EX00468-A003-IN0016-PO-CS0000009.1-P.mzML</th>\n",
       "      <th>20150811-EX00468-A003-IN0016-PO-CS0000009.2-P.mzML</th>\n",
       "      <th>20150811-EX00468-A003-IN0016-PO-CS0000009.3-P.mzML</th>\n",
       "    </tr>\n",
       "  </thead>\n",
       "  <tbody>\n",
       "    <tr>\n",
       "      <th>FT00001</th>\n",
       "      <td>55.054837</td>\n",
       "      <td>0.909417</td>\n",
       "      <td>0.901114</td>\n",
       "      <td>1.000666</td>\n",
       "      <td>34692.470386</td>\n",
       "      <td>37445.955582</td>\n",
       "      <td>52001.188664</td>\n",
       "    </tr>\n",
       "    <tr>\n",
       "      <th>FT00002</th>\n",
       "      <td>55.002434</td>\n",
       "      <td>3.730101</td>\n",
       "      <td>3.730100</td>\n",
       "      <td>3.738400</td>\n",
       "      <td>2357.065214</td>\n",
       "      <td>2046.382657</td>\n",
       "      <td>2782.086266</td>\n",
       "    </tr>\n",
       "    <tr>\n",
       "      <th>FT00003</th>\n",
       "      <td>55.018809</td>\n",
       "      <td>1.933970</td>\n",
       "      <td>1.896627</td>\n",
       "      <td>1.962994</td>\n",
       "      <td>533.653993</td>\n",
       "      <td>7203.163504</td>\n",
       "      <td>10286.867705</td>\n",
       "    </tr>\n",
       "    <tr>\n",
       "      <th>FT00004</th>\n",
       "      <td>55.054653</td>\n",
       "      <td>0.743483</td>\n",
       "      <td>0.743483</td>\n",
       "      <td>0.743483</td>\n",
       "      <td>14567.430064</td>\n",
       "      <td>12742.963550</td>\n",
       "      <td>13199.919427</td>\n",
       "    </tr>\n",
       "    <tr>\n",
       "      <th>FT00005</th>\n",
       "      <td>55.054752</td>\n",
       "      <td>4.476767</td>\n",
       "      <td>4.476766</td>\n",
       "      <td>4.476767</td>\n",
       "      <td>1558.607357</td>\n",
       "      <td>1328.057506</td>\n",
       "      <td>1783.424362</td>\n",
       "    </tr>\n",
       "    <tr>\n",
       "      <th>...</th>\n",
       "      <td>...</td>\n",
       "      <td>...</td>\n",
       "      <td>...</td>\n",
       "      <td>...</td>\n",
       "      <td>...</td>\n",
       "      <td>...</td>\n",
       "      <td>...</td>\n",
       "    </tr>\n",
       "    <tr>\n",
       "      <th>FT50838</th>\n",
       "      <td>999.498535</td>\n",
       "      <td>24.910350</td>\n",
       "      <td>24.910350</td>\n",
       "      <td>24.910350</td>\n",
       "      <td>1644.995349</td>\n",
       "      <td>3396.741659</td>\n",
       "      <td>1508.138291</td>\n",
       "    </tr>\n",
       "    <tr>\n",
       "      <th>FT50839</th>\n",
       "      <td>999.430941</td>\n",
       "      <td>19.841367</td>\n",
       "      <td>19.841367</td>\n",
       "      <td>19.841367</td>\n",
       "      <td>83.674609</td>\n",
       "      <td>1188.739090</td>\n",
       "      <td>487.026611</td>\n",
       "    </tr>\n",
       "    <tr>\n",
       "      <th>FT50840</th>\n",
       "      <td>999.512648</td>\n",
       "      <td>23.624417</td>\n",
       "      <td>23.624417</td>\n",
       "      <td>23.624417</td>\n",
       "      <td>58.621953</td>\n",
       "      <td>2588.143328</td>\n",
       "      <td>0.000000</td>\n",
       "    </tr>\n",
       "    <tr>\n",
       "      <th>FT50841</th>\n",
       "      <td>999.513860</td>\n",
       "      <td>25.316866</td>\n",
       "      <td>25.316866</td>\n",
       "      <td>25.316866</td>\n",
       "      <td>5278.523244</td>\n",
       "      <td>5318.153099</td>\n",
       "      <td>6574.284243</td>\n",
       "    </tr>\n",
       "    <tr>\n",
       "      <th>FT50842</th>\n",
       "      <td>999.519426</td>\n",
       "      <td>25.441300</td>\n",
       "      <td>25.441300</td>\n",
       "      <td>25.441300</td>\n",
       "      <td>360.989334</td>\n",
       "      <td>1761.552729</td>\n",
       "      <td>706.587443</td>\n",
       "    </tr>\n",
       "  </tbody>\n",
       "</table>\n",
       "<p>50842 rows × 7 columns</p>\n",
       "</div>"
      ],
      "text/plain": [
       "                 mz         rt   rt_start     rt_end  \\\n",
       "FT00001   55.054837   0.909417   0.901114   1.000666   \n",
       "FT00002   55.002434   3.730101   3.730100   3.738400   \n",
       "FT00003   55.018809   1.933970   1.896627   1.962994   \n",
       "FT00004   55.054653   0.743483   0.743483   0.743483   \n",
       "FT00005   55.054752   4.476767   4.476766   4.476767   \n",
       "...             ...        ...        ...        ...   \n",
       "FT50838  999.498535  24.910350  24.910350  24.910350   \n",
       "FT50839  999.430941  19.841367  19.841367  19.841367   \n",
       "FT50840  999.512648  23.624417  23.624417  23.624417   \n",
       "FT50841  999.513860  25.316866  25.316866  25.316866   \n",
       "FT50842  999.519426  25.441300  25.441300  25.441300   \n",
       "\n",
       "         20150811-EX00468-A003-IN0016-PO-CS0000009.1-P.mzML  \\\n",
       "FT00001                                       34692.470386    \n",
       "FT00002                                        2357.065214    \n",
       "FT00003                                         533.653993    \n",
       "FT00004                                       14567.430064    \n",
       "FT00005                                        1558.607357    \n",
       "...                                                    ...    \n",
       "FT50838                                        1644.995349    \n",
       "FT50839                                          83.674609    \n",
       "FT50840                                          58.621953    \n",
       "FT50841                                        5278.523244    \n",
       "FT50842                                         360.989334    \n",
       "\n",
       "         20150811-EX00468-A003-IN0016-PO-CS0000009.2-P.mzML  \\\n",
       "FT00001                                       37445.955582    \n",
       "FT00002                                        2046.382657    \n",
       "FT00003                                        7203.163504    \n",
       "FT00004                                       12742.963550    \n",
       "FT00005                                        1328.057506    \n",
       "...                                                    ...    \n",
       "FT50838                                        3396.741659    \n",
       "FT50839                                        1188.739090    \n",
       "FT50840                                        2588.143328    \n",
       "FT50841                                        5318.153099    \n",
       "FT50842                                        1761.552729    \n",
       "\n",
       "         20150811-EX00468-A003-IN0016-PO-CS0000009.3-P.mzML  \n",
       "FT00001                                       52001.188664   \n",
       "FT00002                                        2782.086266   \n",
       "FT00003                                       10286.867705   \n",
       "FT00004                                       13199.919427   \n",
       "FT00005                                        1783.424362   \n",
       "...                                                    ...   \n",
       "FT50838                                        1508.138291   \n",
       "FT50839                                         487.026611   \n",
       "FT50840                                           0.000000   \n",
       "FT50841                                        6574.284243   \n",
       "FT50842                                         706.587443   \n",
       "\n",
       "[50842 rows x 7 columns]"
      ]
     },
     "execution_count": 73,
     "metadata": {},
     "output_type": "execute_result"
    }
   ],
   "source": [
    "det = detection_helper.PeakList()\n",
    "#det.runXCMS(datadir, \"xcms_peak_list.csv\", \"negative\", ms1ppm, peakWidth,s2n=s2n,noise=noise,mzDiff=mzDiff,prefilter=prefilter)\n",
    "det.readXCMSPeakList(datadir+\"xcms_peak_list.csv\")\n",
    "#det.to_skyline(datadir+\"xcms_peak_list_transition_list.csv\",\"Negative\",moleculeListName = \"XCMS peaks\")\n",
    "peakList = pd.DataFrame(det.peakList)\n",
    "#peakList = peakList[[\"mz\",\"rt\"]]\n",
    "peakList"
   ]
  },
  {
   "cell_type": "code",
   "execution_count": 74,
   "metadata": {},
   "outputs": [
    {
     "name": "stdout",
     "output_type": "stream",
     "text": [
      "['20150811-EX00468-A003-IN0016-PO-CS0000009.1-P.mzML', '20150811-EX00468-A003-IN0016-PO-CS0000009.2-P.mzML', '20150811-EX00468-A003-IN0016-PO-CS0000009.3-P.mzML']\n"
     ]
    }
   ],
   "source": [
    "files = [x for x in os.listdir(datadir) if \".mzML\" in x]\n",
    "print(files)\n",
    "raw_data = []\n",
    "for file in files:\n",
    "    temp = PeakDetective.rawData()\n",
    "    temp.readRawDataFile(datadir + file,ms1ppm)\n",
    "    raw_data.append(temp)\n",
    "    "
   ]
  },
  {
   "cell_type": "code",
   "execution_count": 75,
   "metadata": {},
   "outputs": [],
   "source": [
    "integ = PeakDetective.PeakDetective(numCores = 15,resolution=resolution)"
   ]
  },
  {
   "cell_type": "code",
   "execution_count": 76,
   "metadata": {},
   "outputs": [],
   "source": [
    "peakList_labeled = pd.read_csv(datadir + files[0].replace(\".mzML\",\"_classified_peaks.csv\"),index_col=0)"
   ]
  },
  {
   "cell_type": "code",
   "execution_count": 77,
   "metadata": {},
   "outputs": [
    {
     "name": "stdout",
     "output_type": "stream",
     "text": [
      "forming matrix |██████████████████████████████████████████████████| 100.0% \n",
      "aligning EICs |██████████████████████████████████████████████████| 100.0% \n",
      "forming matrix |██████████████████████████████████████████████████| 100.0% \n"
     ]
    }
   ],
   "source": [
    "if __name__ == \"__main__\":\n",
    "    rts = peakList_labeled[\"rt\"].values\n",
    "    X_labeled_aligned = integ.makeDataMatrix(raw_data,peakList_labeled[\"mz\"],peakList_labeled[\"rt\"],align=True)\n",
    "    X_labeled_unaligned = integ.makeDataMatrix(raw_data,peakList_labeled[\"mz\"],peakList_labeled[\"rt\"],align=False)\n"
   ]
  },
  {
   "cell_type": "code",
   "execution_count": 78,
   "metadata": {},
   "outputs": [],
   "source": [
    "y_labeled = np.concatenate([peakList_labeled[\"classification\"].values for _ in range(len(raw_data))])\n",
    "y_labeled = np.array([[-1*y + 1,y] for y in y_labeled])"
   ]
  },
  {
   "cell_type": "code",
   "execution_count": 79,
   "metadata": {},
   "outputs": [
    {
     "name": "stdout",
     "output_type": "stream",
     "text": [
      "WARNING:tensorflow:No training configuration found in the save file, so the model was *not* compiled. Compile it manually.\n"
     ]
    }
   ],
   "source": [
    "integ.load(datadir + \"active/\")"
   ]
  },
  {
   "cell_type": "code",
   "execution_count": 80,
   "metadata": {},
   "outputs": [
    {
     "name": "stdout",
     "output_type": "stream",
     "text": [
      "47/47 [==============================] - 0s 3ms/step\n",
      "47/47 [==============================] - 0s 1ms/step\n"
     ]
    }
   ],
   "source": [
    "y_pred_aligned = integ.classifyMatrix(X_labeled_aligned)"
   ]
  },
  {
   "cell_type": "code",
   "execution_count": 81,
   "metadata": {},
   "outputs": [
    {
     "name": "stdout",
     "output_type": "stream",
     "text": [
      "47/47 [==============================] - 0s 3ms/step\n",
      "47/47 [==============================] - 0s 2ms/step\n"
     ]
    }
   ],
   "source": [
    "y_pred_unligned = integ.classifyMatrix(X_labeled_unaligned)"
   ]
  },
  {
   "cell_type": "code",
   "execution_count": 82,
   "metadata": {},
   "outputs": [
    {
     "data": {
      "image/png": "[encoded data removed]",
      "text/plain": [
       "<Figure size 432x288 with 1 Axes>"
      ]
     },
     "metadata": {
      "needs_background": "light"
     },
     "output_type": "display_data"
    }
   ],
   "source": [
    "makeROCPlot(y_pred_aligned[:,1],y_labeled[:,1],noSkill=True,label=\"aligned\")\n",
    "makeROCPlot(y_pred_unligned[:,1],y_labeled[:,1],noSkill=False,label=\"unaligned\")\n",
    "plt.tight_layout()\n",
    "plt.savefig(datadir+\"ROC_alignment.png\",dpi=300)"
   ]
  },
  {
   "cell_type": "code",
   "execution_count": 83,
   "metadata": {},
   "outputs": [
    {
     "name": "stdout",
     "output_type": "stream",
     "text": [
      "forming matrix |██████████████████████████████████████████████████| 100.0% \n",
      "forming matrix |██████████████████████████████████████████████████| 100.0% \n",
      "forming matrix |██████████████████████████████████████████████████| 100.0% \n",
      "forming matrix |██████████████████████████████████████████████████| 100.0% \n",
      "forming matrix |██████████████████████████████████████████████████| 100.0% \n"
     ]
    }
   ],
   "source": [
    "if __name__ == \"__main__\":\n",
    "    Xs = {}\n",
    "    shifts = [0,0.025,0.05,0.075,0.1]\n",
    "    for shift in shifts:\n",
    "        Xs[shift] = integ.makeDataMatrix(raw_data[:1],peakList_labeled[\"mz\"],peakList_labeled[\"rt\"] + shift,align=False)\n"
   ]
  },
  {
   "cell_type": "code",
   "execution_count": 84,
   "metadata": {},
   "outputs": [
    {
     "name": "stdout",
     "output_type": "stream",
     "text": [
      "16/16 [==============================] - 0s 4ms/step\n",
      "16/16 [==============================] - 0s 1ms/step\n",
      "16/16 [==============================] - 0s 3ms/step\n",
      "16/16 [==============================] - 0s 1ms/step\n",
      "16/16 [==============================] - 0s 2ms/step\n",
      "16/16 [==============================] - 0s 2ms/step\n",
      "16/16 [==============================] - 0s 3ms/step\n",
      "16/16 [==============================] - 0s 938us/step\n",
      "16/16 [==============================] - 0s 3ms/step\n",
      "16/16 [==============================] - 0s 1ms/step\n"
     ]
    },
    {
     "data": {
      "image/png": "[encoded data removed]",
      "text/plain": [
       "<Figure size 432x288 with 1 Axes>"
      ]
     },
     "metadata": {
      "needs_background": "light"
     },
     "output_type": "display_data"
    }
   ],
   "source": [
    "y = peakList_labeled[\"classification\"].values\n",
    "y = np.array([[-1*y + 1,y] for y in y])\n",
    "shiftOrder = list(Xs.keys())\n",
    "shiftOrder.sort(key=lambda x: abs(x))\n",
    "\n",
    "for shift in shiftOrder[:-1]:\n",
    "    y_pred = integ.classifyMatrix(Xs[shift])\n",
    "    makeROCPlot(y_pred[:,1],y[:,1],noSkill=False,label=\"shift=\" + str(shift))\n",
    "    \n",
    "shift = shiftOrder[-1]\n",
    "y_pred = integ.classifyMatrix(Xs[shift])\n",
    "makeROCPlot(y_pred[:,1],y[:,1],noSkill=True,label=\"shift=\" + str(shift))\n",
    "\n",
    "plt.tight_layout()\n",
    "plt.savefig(datadir+\"ROC_shift.png\",dpi=300)"
   ]
  },
  {
   "cell_type": "code",
   "execution_count": null,
   "metadata": {},
   "outputs": [],
   "source": []
  },
  {
   "cell_type": "code",
   "execution_count": null,
   "metadata": {},
   "outputs": [],
   "source": []
  }
 ],
 "metadata": {
  "kernelspec": {
   "display_name": "PyCharm (imaging)",
   "language": "python",
   "name": "pycharm-19caf1f8"
  },
  "language_info": {
   "codemirror_mode": {
    "name": "ipython",
    "version": 3
   },
   "file_extension": ".py",
   "mimetype": "text/x-python",
   "name": "python",
   "nbconvert_exporter": "python",
   "pygments_lexer": "ipython3",
   "version": "3.7.6"
  }
 },
 "nbformat": 4,
 "nbformat_minor": 4
}
