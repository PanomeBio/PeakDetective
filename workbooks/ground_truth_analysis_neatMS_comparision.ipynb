{
 "cells": [
  {
   "cell_type": "code",
   "execution_count": 1,
   "metadata": {},
   "outputs": [],
   "source": [
    "import deimos\n",
    "import numpy as np\n",
    "import pandas as pd\n",
    "import time\n",
    "import matplotlib.pyplot as plt\n",
    "import os\n",
    "from sklearn.decomposition import PCA\n",
    "from sklearn.model_selection import train_test_split, KFold\n",
    "import random as rd\n",
    "import matplotlib\n",
    "matplotlib.rcParams['figure.dpi'] = 100\n",
    "import sys\n",
    "sys.path.append(\"../src/\")\n",
    "sys.path.append(\"D:/metabolome_inference/metabolome_inference/src/\")\n",
    "from PeakDetective import rawData,PeakDetective,Classifier,Smoother,normalizeMatrix,safeNormalize\n",
    "import detection_helper\n",
    "import scipy.stats as stats\n",
    "import seaborn as sb\n",
    "from matplotlib.colors import LinearSegmentedColormap\n",
    "from sklearn.metrics import confusion_matrix\n",
    "import sklearn.metrics as met\n",
    "import NeatMS as ntms\n",
    "from copy import deepcopy"
   ]
  },
  {
   "cell_type": "code",
   "execution_count": 2,
   "metadata": {},
   "outputs": [],
   "source": [
    "datadir = \"../data/NIST/\"\n",
    "rawDataDir = datadir + \"raw_data/\"\n",
    "resolution = 60"
   ]
  },
  {
   "cell_type": "code",
   "execution_count": 3,
   "metadata": {},
   "outputs": [
    {
     "data": {
      "text/html": [
       "<div>\n",
       "<style scoped>\n",
       "    .dataframe tbody tr th:only-of-type {\n",
       "        vertical-align: middle;\n",
       "    }\n",
       "\n",
       "    .dataframe tbody tr th {\n",
       "        vertical-align: top;\n",
       "    }\n",
       "\n",
       "    .dataframe thead th {\n",
       "        text-align: right;\n",
       "    }\n",
       "</style>\n",
       "<table border=\"1\" class=\"dataframe\">\n",
       "  <thead>\n",
       "    <tr style=\"text-align: right;\">\n",
       "      <th></th>\n",
       "      <th>mz</th>\n",
       "      <th>rt</th>\n",
       "    </tr>\n",
       "  </thead>\n",
       "  <tbody>\n",
       "    <tr>\n",
       "      <th>1</th>\n",
       "      <td>68.084575</td>\n",
       "      <td>0.903144</td>\n",
       "    </tr>\n",
       "    <tr>\n",
       "      <th>2</th>\n",
       "      <td>69.009349</td>\n",
       "      <td>0.821771</td>\n",
       "    </tr>\n",
       "    <tr>\n",
       "      <th>3</th>\n",
       "      <td>69.009343</td>\n",
       "      <td>13.699052</td>\n",
       "    </tr>\n",
       "    <tr>\n",
       "      <th>4</th>\n",
       "      <td>69.009343</td>\n",
       "      <td>14.196510</td>\n",
       "    </tr>\n",
       "    <tr>\n",
       "      <th>5</th>\n",
       "      <td>68.995698</td>\n",
       "      <td>0.965815</td>\n",
       "    </tr>\n",
       "    <tr>\n",
       "      <th>...</th>\n",
       "      <td>...</td>\n",
       "      <td>...</td>\n",
       "    </tr>\n",
       "    <tr>\n",
       "      <th>10288</th>\n",
       "      <td>896.688251</td>\n",
       "      <td>12.321862</td>\n",
       "    </tr>\n",
       "    <tr>\n",
       "      <th>10289</th>\n",
       "      <td>896.662404</td>\n",
       "      <td>8.147289</td>\n",
       "    </tr>\n",
       "    <tr>\n",
       "      <th>10290</th>\n",
       "      <td>897.707274</td>\n",
       "      <td>12.739011</td>\n",
       "    </tr>\n",
       "    <tr>\n",
       "      <th>10291</th>\n",
       "      <td>897.787089</td>\n",
       "      <td>9.544567</td>\n",
       "    </tr>\n",
       "    <tr>\n",
       "      <th>10292</th>\n",
       "      <td>897.732226</td>\n",
       "      <td>10.801036</td>\n",
       "    </tr>\n",
       "  </tbody>\n",
       "</table>\n",
       "<p>10292 rows × 2 columns</p>\n",
       "</div>"
      ],
      "text/plain": [
       "               mz         rt\n",
       "1       68.084575   0.903144\n",
       "2       69.009349   0.821771\n",
       "3       69.009343  13.699052\n",
       "4       69.009343  14.196510\n",
       "5       68.995698   0.965815\n",
       "...           ...        ...\n",
       "10288  896.688251  12.321862\n",
       "10289  896.662404   8.147289\n",
       "10290  897.707274  12.739011\n",
       "10291  897.787089   9.544567\n",
       "10292  897.732226  10.801036\n",
       "\n",
       "[10292 rows x 2 columns]"
      ]
     },
     "execution_count": 3,
     "metadata": {},
     "output_type": "execute_result"
    }
   ],
   "source": [
    "ms1ppm = 10\n",
    "peakWidth = (10,85)\n",
    "s2n = 5\n",
    "noise = 100\n",
    "det = detection_helper.PeakList()\n",
    "#det.runXCMS(rawDataDir, \"xcms_peak_list.csv\", \"negative\", ms1ppm, peakWidth,s2n=s2n,noise=noise)\n",
    "det.readXCMSPeakList(datadir+\"xcms_peak_list.csv\")\n",
    "det.to_skyline(datadir+\"xcms_peak_list_transition_list.csv\",\"Negative\",moleculeListName = \"XCMS peaks\")\n",
    "peakList = pd.DataFrame(det.peakList)\n",
    "peakList[\"rt\"] = .5 * peakList[\"rt_start\"] + .5 * peakList[\"rt_end\"]\n",
    "peakList = peakList[[\"mz\",\"rt\"]]\n",
    "peakList"
   ]
  },
  {
   "cell_type": "code",
   "execution_count": 4,
   "metadata": {},
   "outputs": [
    {
     "data": {
      "text/html": [
       "<div>\n",
       "<style scoped>\n",
       "    .dataframe tbody tr th:only-of-type {\n",
       "        vertical-align: middle;\n",
       "    }\n",
       "\n",
       "    .dataframe tbody tr th {\n",
       "        vertical-align: top;\n",
       "    }\n",
       "\n",
       "    .dataframe thead th {\n",
       "        text-align: right;\n",
       "    }\n",
       "</style>\n",
       "<table border=\"1\" class=\"dataframe\">\n",
       "  <thead>\n",
       "    <tr style=\"text-align: right;\">\n",
       "      <th></th>\n",
       "      <th>mz</th>\n",
       "      <th>rt</th>\n",
       "      <th>rtmin</th>\n",
       "      <th>rtmax</th>\n",
       "      <th>feature_id</th>\n",
       "      <th>sample</th>\n",
       "      <th>into</th>\n",
       "      <th>mzmin</th>\n",
       "      <th>mzmax</th>\n",
       "      <th>intb</th>\n",
       "      <th>maxo</th>\n",
       "      <th>sn</th>\n",
       "      <th>sample_name</th>\n",
       "    </tr>\n",
       "  </thead>\n",
       "  <tbody>\n",
       "    <tr>\n",
       "      <th>0</th>\n",
       "      <td>68.084575</td>\n",
       "      <td>54.272102</td>\n",
       "      <td>41.630024</td>\n",
       "      <td>53.630024</td>\n",
       "      <td>0</td>\n",
       "      <td>NIST1950_neg_ID_01.mzML</td>\n",
       "      <td>1.121746e+06</td>\n",
       "      <td>68.083894</td>\n",
       "      <td>68.085255</td>\n",
       "      <td>1.121746e+06</td>\n",
       "      <td>1.121746e+06</td>\n",
       "      <td>10</td>\n",
       "      <td>NIST1950_neg_ID_01.mzML</td>\n",
       "    </tr>\n",
       "    <tr>\n",
       "      <th>1</th>\n",
       "      <td>69.009349</td>\n",
       "      <td>49.641574</td>\n",
       "      <td>36.053491</td>\n",
       "      <td>48.053491</td>\n",
       "      <td>1</td>\n",
       "      <td>NIST1950_neg_ID_01.mzML</td>\n",
       "      <td>4.396395e+06</td>\n",
       "      <td>69.008659</td>\n",
       "      <td>69.010039</td>\n",
       "      <td>4.396395e+06</td>\n",
       "      <td>4.396395e+06</td>\n",
       "      <td>10</td>\n",
       "      <td>NIST1950_neg_ID_01.mzML</td>\n",
       "    </tr>\n",
       "    <tr>\n",
       "      <th>2</th>\n",
       "      <td>69.009343</td>\n",
       "      <td>821.943145</td>\n",
       "      <td>809.943145</td>\n",
       "      <td>821.943145</td>\n",
       "      <td>2</td>\n",
       "      <td>NIST1950_neg_ID_01.mzML</td>\n",
       "      <td>1.274843e+05</td>\n",
       "      <td>69.008653</td>\n",
       "      <td>69.010033</td>\n",
       "      <td>1.274843e+05</td>\n",
       "      <td>1.274843e+05</td>\n",
       "      <td>10</td>\n",
       "      <td>NIST1950_neg_ID_01.mzML</td>\n",
       "    </tr>\n",
       "    <tr>\n",
       "      <th>3</th>\n",
       "      <td>69.009343</td>\n",
       "      <td>851.790617</td>\n",
       "      <td>839.790617</td>\n",
       "      <td>851.790617</td>\n",
       "      <td>3</td>\n",
       "      <td>NIST1950_neg_ID_01.mzML</td>\n",
       "      <td>3.760104e+05</td>\n",
       "      <td>69.008653</td>\n",
       "      <td>69.010033</td>\n",
       "      <td>3.760104e+05</td>\n",
       "      <td>3.760104e+05</td>\n",
       "      <td>10</td>\n",
       "      <td>NIST1950_neg_ID_01.mzML</td>\n",
       "    </tr>\n",
       "    <tr>\n",
       "      <th>4</th>\n",
       "      <td>68.995698</td>\n",
       "      <td>57.948913</td>\n",
       "      <td>45.948913</td>\n",
       "      <td>57.948913</td>\n",
       "      <td>4</td>\n",
       "      <td>NIST1950_neg_ID_01.mzML</td>\n",
       "      <td>3.504610e+05</td>\n",
       "      <td>68.995008</td>\n",
       "      <td>68.996388</td>\n",
       "      <td>3.504610e+05</td>\n",
       "      <td>3.504610e+05</td>\n",
       "      <td>10</td>\n",
       "      <td>NIST1950_neg_ID_01.mzML</td>\n",
       "    </tr>\n",
       "    <tr>\n",
       "      <th>...</th>\n",
       "      <td>...</td>\n",
       "      <td>...</td>\n",
       "      <td>...</td>\n",
       "      <td>...</td>\n",
       "      <td>...</td>\n",
       "      <td>...</td>\n",
       "      <td>...</td>\n",
       "      <td>...</td>\n",
       "      <td>...</td>\n",
       "      <td>...</td>\n",
       "      <td>...</td>\n",
       "      <td>...</td>\n",
       "      <td>...</td>\n",
       "    </tr>\n",
       "    <tr>\n",
       "      <th>30871</th>\n",
       "      <td>896.688251</td>\n",
       "      <td>739.311741</td>\n",
       "      <td>727.311741</td>\n",
       "      <td>739.311741</td>\n",
       "      <td>10287</td>\n",
       "      <td>NIST1950_neg_ID_04.mzML</td>\n",
       "      <td>6.359928e+04</td>\n",
       "      <td>896.679284</td>\n",
       "      <td>896.697218</td>\n",
       "      <td>6.359928e+04</td>\n",
       "      <td>6.359928e+04</td>\n",
       "      <td>10</td>\n",
       "      <td>NIST1950_neg_ID_04.mzML</td>\n",
       "    </tr>\n",
       "    <tr>\n",
       "      <th>30872</th>\n",
       "      <td>896.662404</td>\n",
       "      <td>488.837344</td>\n",
       "      <td>476.837344</td>\n",
       "      <td>488.837344</td>\n",
       "      <td>10288</td>\n",
       "      <td>NIST1950_neg_ID_04.mzML</td>\n",
       "      <td>7.203653e+04</td>\n",
       "      <td>896.653437</td>\n",
       "      <td>896.671371</td>\n",
       "      <td>7.203653e+04</td>\n",
       "      <td>7.203653e+04</td>\n",
       "      <td>10</td>\n",
       "      <td>NIST1950_neg_ID_04.mzML</td>\n",
       "    </tr>\n",
       "    <tr>\n",
       "      <th>30873</th>\n",
       "      <td>897.707274</td>\n",
       "      <td>764.340641</td>\n",
       "      <td>751.999461</td>\n",
       "      <td>763.999461</td>\n",
       "      <td>10289</td>\n",
       "      <td>NIST1950_neg_ID_04.mzML</td>\n",
       "      <td>5.920523e+04</td>\n",
       "      <td>897.698297</td>\n",
       "      <td>897.716251</td>\n",
       "      <td>5.920523e+04</td>\n",
       "      <td>5.920523e+04</td>\n",
       "      <td>10</td>\n",
       "      <td>NIST1950_neg_ID_04.mzML</td>\n",
       "    </tr>\n",
       "    <tr>\n",
       "      <th>30874</th>\n",
       "      <td>897.787089</td>\n",
       "      <td>572.674027</td>\n",
       "      <td>560.674027</td>\n",
       "      <td>572.674027</td>\n",
       "      <td>10290</td>\n",
       "      <td>NIST1950_neg_ID_04.mzML</td>\n",
       "      <td>8.790525e+04</td>\n",
       "      <td>897.778112</td>\n",
       "      <td>897.796067</td>\n",
       "      <td>8.790525e+04</td>\n",
       "      <td>8.790525e+04</td>\n",
       "      <td>10</td>\n",
       "      <td>NIST1950_neg_ID_04.mzML</td>\n",
       "    </tr>\n",
       "    <tr>\n",
       "      <th>30875</th>\n",
       "      <td>897.732226</td>\n",
       "      <td>648.062173</td>\n",
       "      <td>636.062173</td>\n",
       "      <td>648.062173</td>\n",
       "      <td>10291</td>\n",
       "      <td>NIST1950_neg_ID_04.mzML</td>\n",
       "      <td>9.205596e+03</td>\n",
       "      <td>897.723249</td>\n",
       "      <td>897.741204</td>\n",
       "      <td>9.205596e+03</td>\n",
       "      <td>9.205596e+03</td>\n",
       "      <td>10</td>\n",
       "      <td>NIST1950_neg_ID_04.mzML</td>\n",
       "    </tr>\n",
       "  </tbody>\n",
       "</table>\n",
       "<p>30876 rows × 13 columns</p>\n",
       "</div>"
      ],
      "text/plain": [
       "               mz          rt       rtmin       rtmax  feature_id  \\\n",
       "0       68.084575   54.272102   41.630024   53.630024           0   \n",
       "1       69.009349   49.641574   36.053491   48.053491           1   \n",
       "2       69.009343  821.943145  809.943145  821.943145           2   \n",
       "3       69.009343  851.790617  839.790617  851.790617           3   \n",
       "4       68.995698   57.948913   45.948913   57.948913           4   \n",
       "...           ...         ...         ...         ...         ...   \n",
       "30871  896.688251  739.311741  727.311741  739.311741       10287   \n",
       "30872  896.662404  488.837344  476.837344  488.837344       10288   \n",
       "30873  897.707274  764.340641  751.999461  763.999461       10289   \n",
       "30874  897.787089  572.674027  560.674027  572.674027       10290   \n",
       "30875  897.732226  648.062173  636.062173  648.062173       10291   \n",
       "\n",
       "                        sample          into       mzmin       mzmax  \\\n",
       "0      NIST1950_neg_ID_01.mzML  1.121746e+06   68.083894   68.085255   \n",
       "1      NIST1950_neg_ID_01.mzML  4.396395e+06   69.008659   69.010039   \n",
       "2      NIST1950_neg_ID_01.mzML  1.274843e+05   69.008653   69.010033   \n",
       "3      NIST1950_neg_ID_01.mzML  3.760104e+05   69.008653   69.010033   \n",
       "4      NIST1950_neg_ID_01.mzML  3.504610e+05   68.995008   68.996388   \n",
       "...                        ...           ...         ...         ...   \n",
       "30871  NIST1950_neg_ID_04.mzML  6.359928e+04  896.679284  896.697218   \n",
       "30872  NIST1950_neg_ID_04.mzML  7.203653e+04  896.653437  896.671371   \n",
       "30873  NIST1950_neg_ID_04.mzML  5.920523e+04  897.698297  897.716251   \n",
       "30874  NIST1950_neg_ID_04.mzML  8.790525e+04  897.778112  897.796067   \n",
       "30875  NIST1950_neg_ID_04.mzML  9.205596e+03  897.723249  897.741204   \n",
       "\n",
       "               intb          maxo  sn              sample_name  \n",
       "0      1.121746e+06  1.121746e+06  10  NIST1950_neg_ID_01.mzML  \n",
       "1      4.396395e+06  4.396395e+06  10  NIST1950_neg_ID_01.mzML  \n",
       "2      1.274843e+05  1.274843e+05  10  NIST1950_neg_ID_01.mzML  \n",
       "3      3.760104e+05  3.760104e+05  10  NIST1950_neg_ID_01.mzML  \n",
       "4      3.504610e+05  3.504610e+05  10  NIST1950_neg_ID_01.mzML  \n",
       "...             ...           ...  ..                      ...  \n",
       "30871  6.359928e+04  6.359928e+04  10  NIST1950_neg_ID_04.mzML  \n",
       "30872  7.203653e+04  7.203653e+04  10  NIST1950_neg_ID_04.mzML  \n",
       "30873  5.920523e+04  5.920523e+04  10  NIST1950_neg_ID_04.mzML  \n",
       "30874  8.790525e+04  8.790525e+04  10  NIST1950_neg_ID_04.mzML  \n",
       "30875  9.205596e+03  9.205596e+03  10  NIST1950_neg_ID_04.mzML  \n",
       "\n",
       "[30876 rows x 13 columns]"
      ]
     },
     "execution_count": 4,
     "metadata": {},
     "output_type": "execute_result"
    }
   ],
   "source": [
    "neatMSPeakList = pd.read_csv(datadir + \"xcms_peak_list.csv\")\n",
    "neatMSPeakList[\"feature_id\"] = neatMSPeakList.index.values\n",
    "neatMSPeakList[\"feature_id2\"] = neatMSPeakList.index.values\n",
    "neatMSPeakList = neatMSPeakList.melt(id_vars = [\"mz\",\"rt\",\"rtmin\",\"rtmax\",\"feature_id\"],\n",
    "                    value_vars = [x for x in neatMSPeakList.columns.values if \".mzML\" in x],\n",
    "                   var_name=\"sample\", value_name=\"into\")\n",
    "neatMSPeakList[\"mzmin\"] = neatMSPeakList[\"mz\"].values - (ms1ppm * neatMSPeakList[\"mz\"].values) / 1e6\n",
    "neatMSPeakList[\"mzmax\"] = neatMSPeakList[\"mz\"].values + (ms1ppm * neatMSPeakList[\"mz\"].values) / 1e6\n",
    "neatMSPeakList[\"intb\"] = neatMSPeakList[\"into\"].values\n",
    "neatMSPeakList[\"maxo\"] = neatMSPeakList[\"into\"].values\n",
    "neatMSPeakList[\"sn\"] = [10 for _ in range(len(neatMSPeakList))]\n",
    "neatMSPeakList[\"sample_name\"] = neatMSPeakList[\"sample\"].values\n",
    "neatMSPeakList[\"rtmin\"] = neatMSPeakList[\"rtmin\"].values - .2 * 60\n",
    "neatMSPeakList[\"rtmax\"] = neatMSPeakList[\"rtmin\"].values + .2 * 60\n",
    "\n",
    "neatMSPeakList.to_csv(datadir + \"neatms_peak_list.csv\",index=False)\n",
    "neatMSPeakList\n"
   ]
  },
  {
   "cell_type": "code",
   "execution_count": 5,
   "metadata": {},
   "outputs": [],
   "source": [
    "feature_table_path = datadir+\"neatms_peak_list.csv\"\n",
    "input_data = 'xcms'\n",
    "experiment = ntms.Experiment(rawDataDir, feature_table_path, input_data)"
   ]
  },
  {
   "cell_type": "code",
   "execution_count": 7,
   "metadata": {},
   "outputs": [
    {
     "ename": "FileNotFoundError",
     "evalue": "[Errno 2] No such file or directory: '../data/NIST/NeatMS_nist.pkl'",
     "output_type": "error",
     "traceback": [
      "\u001b[1;31m---------------------------------------------------------------------------\u001b[0m",
      "\u001b[1;31mFileNotFoundError\u001b[0m                         Traceback (most recent call last)",
      "\u001b[1;32m<ipython-input-7-b32e46bfa790>\u001b[0m in \u001b[0;36m<module>\u001b[1;34m\u001b[0m\n\u001b[0;32m      1\u001b[0m \u001b[0mpkl_file\u001b[0m \u001b[1;33m=\u001b[0m  \u001b[0mdatadir\u001b[0m \u001b[1;33m+\u001b[0m \u001b[1;34m\"NeatMS_nist.pkl\"\u001b[0m\u001b[1;33m\u001b[0m\u001b[1;33m\u001b[0m\u001b[0m\n\u001b[0;32m      2\u001b[0m \u001b[1;32mimport\u001b[0m \u001b[0mpickle\u001b[0m\u001b[1;33m\u001b[0m\u001b[1;33m\u001b[0m\u001b[0m\n\u001b[1;32m----> 3\u001b[1;33m \u001b[1;32mwith\u001b[0m \u001b[0mopen\u001b[0m\u001b[1;33m(\u001b[0m\u001b[0mpkl_file\u001b[0m\u001b[1;33m,\u001b[0m \u001b[1;34m'rb'\u001b[0m\u001b[1;33m)\u001b[0m \u001b[1;32mas\u001b[0m \u001b[0mf\u001b[0m\u001b[1;33m:\u001b[0m\u001b[1;33m\u001b[0m\u001b[1;33m\u001b[0m\u001b[0m\n\u001b[0m\u001b[0;32m      4\u001b[0m     \u001b[0mexperiment\u001b[0m \u001b[1;33m=\u001b[0m \u001b[0mpickle\u001b[0m\u001b[1;33m.\u001b[0m\u001b[0mload\u001b[0m\u001b[1;33m(\u001b[0m\u001b[0mf\u001b[0m\u001b[1;33m)\u001b[0m\u001b[1;33m\u001b[0m\u001b[1;33m\u001b[0m\u001b[0m\n",
      "\u001b[1;31mFileNotFoundError\u001b[0m: [Errno 2] No such file or directory: '../data/NIST/NeatMS_nist.pkl'"
     ]
    }
   ],
   "source": [
    "pkl_file =  datadir + \"NeatMS_nist.pkl\"\n",
    "import pickle\n",
    "with open(pkl_file, 'rb') as f:\n",
    "    experiment = pickle.load(f)"
   ]
  },
  {
   "cell_type": "code",
   "execution_count": 6,
   "metadata": {},
   "outputs": [],
   "source": [
    "nn_handler = ntms.NN_handler(experiment,min_scan_num=0)"
   ]
  },
  {
   "cell_type": "code",
   "execution_count": 7,
   "metadata": {},
   "outputs": [
    {
     "name": "stdout",
     "output_type": "stream",
     "text": [
      "Model: \"model_1\"\n",
      "_________________________________________________________________\n",
      " Layer (type)                Output Shape              Param #   \n",
      "=================================================================\n",
      " input_1 (InputLayer)        [(None, 2, 120, 1)]       0         \n",
      "                                                                 \n",
      " conv2d_1 (Conv2D)           (None, 2, 120, 32)        832       \n",
      "                                                                 \n",
      " max_pooling2d_1 (MaxPooling  (None, 2, 60, 32)        0         \n",
      " 2D)                                                             \n",
      "                                                                 \n",
      " conv2d_2 (Conv2D)           (None, 2, 60, 64)         18496     \n",
      "                                                                 \n",
      " flatten_1 (Flatten)         (None, 7680)              0         \n",
      "                                                                 \n",
      " dense_1 (Dense)             (None, 128)               983168    \n",
      "                                                                 \n",
      " dropout_1 (Dropout)         (None, 128)               0         \n",
      "                                                                 \n",
      " dense_prediction (Dense)    (None, 3)                 387       \n",
      "                                                                 \n",
      "=================================================================\n",
      "Total params: 1,002,883\n",
      "Trainable params: 1,002,883\n",
      "Non-trainable params: 0\n",
      "_________________________________________________________________\n"
     ]
    }
   ],
   "source": [
    "model_path = \"../data/neatms/neatms_default_model.h5\"\n",
    "nn_handler.create_model(model = model_path)\n",
    "nn_handler.get_model_summary()"
   ]
  },
  {
   "cell_type": "code",
   "execution_count": 8,
   "metadata": {},
   "outputs": [
    {
     "name": "stdout",
     "output_type": "stream",
     "text": [
      "307/307 [==============================] - 2s 5ms/step\n",
      "307/307 [==============================] - 2s 6ms/step\n",
      "308/308 [==============================] - 2s 6ms/step\n"
     ]
    }
   ],
   "source": [
    "# Set the threshold to 0.22\n",
    "threshold=0.22\n",
    "# Run the prediction\n",
    "nn_handler.predict_peaks(threshold)"
   ]
  },
  {
   "cell_type": "code",
   "execution_count": 9,
   "metadata": {},
   "outputs": [
    {
     "data": {
      "text/html": [
       "<div>\n",
       "<style scoped>\n",
       "    .dataframe tbody tr th:only-of-type {\n",
       "        vertical-align: middle;\n",
       "    }\n",
       "\n",
       "    .dataframe tbody tr th {\n",
       "        vertical-align: top;\n",
       "    }\n",
       "\n",
       "    .dataframe thead th {\n",
       "        text-align: right;\n",
       "    }\n",
       "</style>\n",
       "<table border=\"1\" class=\"dataframe\">\n",
       "  <thead>\n",
       "    <tr style=\"text-align: right;\">\n",
       "      <th></th>\n",
       "      <th>feature ID</th>\n",
       "      <th>sample</th>\n",
       "      <th>m/z</th>\n",
       "      <th>retention time</th>\n",
       "      <th>height</th>\n",
       "      <th>area</th>\n",
       "      <th>label</th>\n",
       "    </tr>\n",
       "  </thead>\n",
       "  <tbody>\n",
       "    <tr>\n",
       "      <th>0</th>\n",
       "      <td>0</td>\n",
       "      <td>NIST1950_neg_ID_01</td>\n",
       "      <td>68.084575</td>\n",
       "      <td>0.904535</td>\n",
       "      <td>1.121746e+06</td>\n",
       "      <td>1.121746e+06</td>\n",
       "      <td>High_quality</td>\n",
       "    </tr>\n",
       "    <tr>\n",
       "      <th>1</th>\n",
       "      <td>0</td>\n",
       "      <td>NIST1950_neg_ID_03</td>\n",
       "      <td>68.084575</td>\n",
       "      <td>0.904535</td>\n",
       "      <td>1.323590e+06</td>\n",
       "      <td>1.323590e+06</td>\n",
       "      <td>Noise</td>\n",
       "    </tr>\n",
       "    <tr>\n",
       "      <th>2</th>\n",
       "      <td>0</td>\n",
       "      <td>NIST1950_neg_ID_04</td>\n",
       "      <td>68.084575</td>\n",
       "      <td>0.904535</td>\n",
       "      <td>1.221669e+06</td>\n",
       "      <td>1.221669e+06</td>\n",
       "      <td>Noise</td>\n",
       "    </tr>\n",
       "    <tr>\n",
       "      <th>3</th>\n",
       "      <td>1</td>\n",
       "      <td>NIST1950_neg_ID_01</td>\n",
       "      <td>69.009349</td>\n",
       "      <td>0.827360</td>\n",
       "      <td>4.396395e+06</td>\n",
       "      <td>4.396395e+06</td>\n",
       "      <td>Noise</td>\n",
       "    </tr>\n",
       "    <tr>\n",
       "      <th>4</th>\n",
       "      <td>1</td>\n",
       "      <td>NIST1950_neg_ID_03</td>\n",
       "      <td>69.009349</td>\n",
       "      <td>0.827360</td>\n",
       "      <td>5.184098e+06</td>\n",
       "      <td>5.184098e+06</td>\n",
       "      <td>Noise</td>\n",
       "    </tr>\n",
       "    <tr>\n",
       "      <th>...</th>\n",
       "      <td>...</td>\n",
       "      <td>...</td>\n",
       "      <td>...</td>\n",
       "      <td>...</td>\n",
       "      <td>...</td>\n",
       "      <td>...</td>\n",
       "      <td>...</td>\n",
       "    </tr>\n",
       "    <tr>\n",
       "      <th>29451</th>\n",
       "      <td>10290</td>\n",
       "      <td>NIST1950_neg_ID_03</td>\n",
       "      <td>897.787089</td>\n",
       "      <td>9.544567</td>\n",
       "      <td>5.937995e+04</td>\n",
       "      <td>5.937995e+04</td>\n",
       "      <td>Low_quality</td>\n",
       "    </tr>\n",
       "    <tr>\n",
       "      <th>29452</th>\n",
       "      <td>10290</td>\n",
       "      <td>NIST1950_neg_ID_04</td>\n",
       "      <td>897.787089</td>\n",
       "      <td>9.544567</td>\n",
       "      <td>8.790525e+04</td>\n",
       "      <td>8.790525e+04</td>\n",
       "      <td>Low_quality</td>\n",
       "    </tr>\n",
       "    <tr>\n",
       "      <th>29453</th>\n",
       "      <td>10291</td>\n",
       "      <td>NIST1950_neg_ID_01</td>\n",
       "      <td>897.732226</td>\n",
       "      <td>10.801036</td>\n",
       "      <td>NaN</td>\n",
       "      <td>NaN</td>\n",
       "      <td>High_quality</td>\n",
       "    </tr>\n",
       "    <tr>\n",
       "      <th>29454</th>\n",
       "      <td>10291</td>\n",
       "      <td>NIST1950_neg_ID_03</td>\n",
       "      <td>897.732226</td>\n",
       "      <td>10.801036</td>\n",
       "      <td>3.747974e+04</td>\n",
       "      <td>3.747974e+04</td>\n",
       "      <td>Noise</td>\n",
       "    </tr>\n",
       "    <tr>\n",
       "      <th>29455</th>\n",
       "      <td>10291</td>\n",
       "      <td>NIST1950_neg_ID_04</td>\n",
       "      <td>897.732226</td>\n",
       "      <td>10.801036</td>\n",
       "      <td>9.205596e+03</td>\n",
       "      <td>9.205596e+03</td>\n",
       "      <td>Noise</td>\n",
       "    </tr>\n",
       "  </tbody>\n",
       "</table>\n",
       "<p>29456 rows × 7 columns</p>\n",
       "</div>"
      ],
      "text/plain": [
       "       feature ID              sample         m/z  retention time  \\\n",
       "0               0  NIST1950_neg_ID_01   68.084575        0.904535   \n",
       "1               0  NIST1950_neg_ID_03   68.084575        0.904535   \n",
       "2               0  NIST1950_neg_ID_04   68.084575        0.904535   \n",
       "3               1  NIST1950_neg_ID_01   69.009349        0.827360   \n",
       "4               1  NIST1950_neg_ID_03   69.009349        0.827360   \n",
       "...           ...                 ...         ...             ...   \n",
       "29451       10290  NIST1950_neg_ID_03  897.787089        9.544567   \n",
       "29452       10290  NIST1950_neg_ID_04  897.787089        9.544567   \n",
       "29453       10291  NIST1950_neg_ID_01  897.732226       10.801036   \n",
       "29454       10291  NIST1950_neg_ID_03  897.732226       10.801036   \n",
       "29455       10291  NIST1950_neg_ID_04  897.732226       10.801036   \n",
       "\n",
       "             height          area         label  \n",
       "0      1.121746e+06  1.121746e+06  High_quality  \n",
       "1      1.323590e+06  1.323590e+06         Noise  \n",
       "2      1.221669e+06  1.221669e+06         Noise  \n",
       "3      4.396395e+06  4.396395e+06         Noise  \n",
       "4      5.184098e+06  5.184098e+06         Noise  \n",
       "...             ...           ...           ...  \n",
       "29451  5.937995e+04  5.937995e+04   Low_quality  \n",
       "29452  8.790525e+04  8.790525e+04   Low_quality  \n",
       "29453           NaN           NaN  High_quality  \n",
       "29454  3.747974e+04  3.747974e+04         Noise  \n",
       "29455  9.205596e+03  9.205596e+03         Noise  \n",
       "\n",
       "[29456 rows x 7 columns]"
      ]
     },
     "execution_count": 9,
     "metadata": {},
     "output_type": "execute_result"
    }
   ],
   "source": [
    "# We create the dataframe using this function\n",
    "NeatMS_output_df = experiment.export_to_dataframe()\n",
    "# And display it\n",
    "NeatMS_output_df"
   ]
  },
  {
   "cell_type": "code",
   "execution_count": 10,
   "metadata": {},
   "outputs": [
    {
     "name": "stdout",
     "output_type": "stream",
     "text": [
      "['NIST1950_neg_ID_01.mzML', 'NIST1950_neg_ID_03.mzML', 'NIST1950_neg_ID_04.mzML']\n"
     ]
    }
   ],
   "source": [
    "files = [x for x in os.listdir(rawDataDir) if \".mzML\" in x]\n",
    "print(files)\n",
    "raw_data = []\n",
    "for file in files:\n",
    "    temp = rawData()\n",
    "    temp.readRawDataFile(rawDataDir + file,ms1ppm)\n",
    "    raw_data.append(temp)"
   ]
  },
  {
   "cell_type": "code",
   "execution_count": 11,
   "metadata": {},
   "outputs": [],
   "source": [
    "integ = PeakDetective(numCores = 20,resolution=resolution)"
   ]
  },
  {
   "cell_type": "code",
   "execution_count": null,
   "metadata": {},
   "outputs": [],
   "source": [
    "if __name__ == \"__main__\":\n",
    "    inds = list(peakList.index.values)\n",
    "    inds = rd.sample(inds,500)\n",
    "    tmp = peakList.loc[inds,:]\n",
    "    print(tmp)\n",
    "    peakList_labeled = integ.label_peaks(raw_data[0],tmp)"
   ]
  },
  {
   "cell_type": "code",
   "execution_count": 17,
   "metadata": {},
   "outputs": [],
   "source": [
    "peakList_labeled.to_csv(datadir + files[0].replace(\".mzML\",\"_classified_peaks.csv\"))"
   ]
  },
  {
   "cell_type": "code",
   "execution_count": 12,
   "metadata": {},
   "outputs": [],
   "source": [
    "peakList_labeled = pd.read_csv(datadir + files[0].replace(\".mzML\",\"_classified_peaks.csv\"),index_col=0)"
   ]
  },
  {
   "cell_type": "code",
   "execution_count": 13,
   "metadata": {},
   "outputs": [
    {
     "data": {
      "text/html": [
       "<div>\n",
       "<style scoped>\n",
       "    .dataframe tbody tr th:only-of-type {\n",
       "        vertical-align: middle;\n",
       "    }\n",
       "\n",
       "    .dataframe tbody tr th {\n",
       "        vertical-align: top;\n",
       "    }\n",
       "\n",
       "    .dataframe thead th {\n",
       "        text-align: right;\n",
       "    }\n",
       "</style>\n",
       "<table border=\"1\" class=\"dataframe\">\n",
       "  <thead>\n",
       "    <tr style=\"text-align: right;\">\n",
       "      <th></th>\n",
       "      <th>mz</th>\n",
       "      <th>rt</th>\n",
       "      <th>classification</th>\n",
       "    </tr>\n",
       "  </thead>\n",
       "  <tbody>\n",
       "    <tr>\n",
       "      <th>1552</th>\n",
       "      <td>134.865146</td>\n",
       "      <td>6.840321</td>\n",
       "      <td>0.0</td>\n",
       "    </tr>\n",
       "    <tr>\n",
       "      <th>66</th>\n",
       "      <td>74.990680</td>\n",
       "      <td>0.903144</td>\n",
       "      <td>1.0</td>\n",
       "    </tr>\n",
       "    <tr>\n",
       "      <th>420</th>\n",
       "      <td>92.006901</td>\n",
       "      <td>3.023998</td>\n",
       "      <td>0.0</td>\n",
       "    </tr>\n",
       "    <tr>\n",
       "      <th>2512</th>\n",
       "      <td>173.118210</td>\n",
       "      <td>0.835005</td>\n",
       "      <td>1.0</td>\n",
       "    </tr>\n",
       "    <tr>\n",
       "      <th>2544</th>\n",
       "      <td>174.956426</td>\n",
       "      <td>10.107568</td>\n",
       "      <td>0.0</td>\n",
       "    </tr>\n",
       "    <tr>\n",
       "      <th>...</th>\n",
       "      <td>...</td>\n",
       "      <td>...</td>\n",
       "      <td>...</td>\n",
       "    </tr>\n",
       "    <tr>\n",
       "      <th>8874</th>\n",
       "      <td>556.848995</td>\n",
       "      <td>10.699781</td>\n",
       "      <td>0.0</td>\n",
       "    </tr>\n",
       "    <tr>\n",
       "      <th>5815</th>\n",
       "      <td>307.001415</td>\n",
       "      <td>6.182090</td>\n",
       "      <td>1.0</td>\n",
       "    </tr>\n",
       "    <tr>\n",
       "      <th>322</th>\n",
       "      <td>89.042770</td>\n",
       "      <td>1.062223</td>\n",
       "      <td>1.0</td>\n",
       "    </tr>\n",
       "    <tr>\n",
       "      <th>9560</th>\n",
       "      <td>658.828502</td>\n",
       "      <td>11.983876</td>\n",
       "      <td>0.0</td>\n",
       "    </tr>\n",
       "    <tr>\n",
       "      <th>8196</th>\n",
       "      <td>471.342262</td>\n",
       "      <td>12.490786</td>\n",
       "      <td>0.0</td>\n",
       "    </tr>\n",
       "  </tbody>\n",
       "</table>\n",
       "<p>500 rows × 3 columns</p>\n",
       "</div>"
      ],
      "text/plain": [
       "              mz         rt  classification\n",
       "1552  134.865146   6.840321             0.0\n",
       "66     74.990680   0.903144             1.0\n",
       "420    92.006901   3.023998             0.0\n",
       "2512  173.118210   0.835005             1.0\n",
       "2544  174.956426  10.107568             0.0\n",
       "...          ...        ...             ...\n",
       "8874  556.848995  10.699781             0.0\n",
       "5815  307.001415   6.182090             1.0\n",
       "322    89.042770   1.062223             1.0\n",
       "9560  658.828502  11.983876             0.0\n",
       "8196  471.342262  12.490786             0.0\n",
       "\n",
       "[500 rows x 3 columns]"
      ]
     },
     "execution_count": 13,
     "metadata": {},
     "output_type": "execute_result"
    }
   ],
   "source": [
    "peakList_labeled"
   ]
  },
  {
   "cell_type": "code",
   "execution_count": 14,
   "metadata": {},
   "outputs": [
    {
     "data": {
      "text/html": [
       "<div>\n",
       "<style scoped>\n",
       "    .dataframe tbody tr th:only-of-type {\n",
       "        vertical-align: middle;\n",
       "    }\n",
       "\n",
       "    .dataframe tbody tr th {\n",
       "        vertical-align: top;\n",
       "    }\n",
       "\n",
       "    .dataframe thead th {\n",
       "        text-align: right;\n",
       "    }\n",
       "</style>\n",
       "<table border=\"1\" class=\"dataframe\">\n",
       "  <thead>\n",
       "    <tr style=\"text-align: right;\">\n",
       "      <th></th>\n",
       "      <th>feature ID</th>\n",
       "      <th>sample</th>\n",
       "      <th>m/z</th>\n",
       "      <th>retention time</th>\n",
       "      <th>height</th>\n",
       "      <th>area</th>\n",
       "      <th>label</th>\n",
       "    </tr>\n",
       "  </thead>\n",
       "  <tbody>\n",
       "    <tr>\n",
       "      <th>0</th>\n",
       "      <td>0</td>\n",
       "      <td>NIST1950_neg_ID_01</td>\n",
       "      <td>68.084575</td>\n",
       "      <td>0.904535</td>\n",
       "      <td>1.121746e+06</td>\n",
       "      <td>1.121746e+06</td>\n",
       "      <td>High_quality</td>\n",
       "    </tr>\n",
       "    <tr>\n",
       "      <th>3</th>\n",
       "      <td>1</td>\n",
       "      <td>NIST1950_neg_ID_01</td>\n",
       "      <td>69.009349</td>\n",
       "      <td>0.827360</td>\n",
       "      <td>4.396395e+06</td>\n",
       "      <td>4.396395e+06</td>\n",
       "      <td>Noise</td>\n",
       "    </tr>\n",
       "    <tr>\n",
       "      <th>6</th>\n",
       "      <td>2</td>\n",
       "      <td>NIST1950_neg_ID_01</td>\n",
       "      <td>69.009343</td>\n",
       "      <td>13.699052</td>\n",
       "      <td>1.274843e+05</td>\n",
       "      <td>1.274843e+05</td>\n",
       "      <td>Noise</td>\n",
       "    </tr>\n",
       "    <tr>\n",
       "      <th>9</th>\n",
       "      <td>3</td>\n",
       "      <td>NIST1950_neg_ID_01</td>\n",
       "      <td>69.009343</td>\n",
       "      <td>14.196510</td>\n",
       "      <td>3.760104e+05</td>\n",
       "      <td>3.760104e+05</td>\n",
       "      <td>Noise</td>\n",
       "    </tr>\n",
       "    <tr>\n",
       "      <th>12</th>\n",
       "      <td>4</td>\n",
       "      <td>NIST1950_neg_ID_01</td>\n",
       "      <td>68.995698</td>\n",
       "      <td>0.965815</td>\n",
       "      <td>3.504610e+05</td>\n",
       "      <td>3.504610e+05</td>\n",
       "      <td>Low_quality</td>\n",
       "    </tr>\n",
       "    <tr>\n",
       "      <th>...</th>\n",
       "      <td>...</td>\n",
       "      <td>...</td>\n",
       "      <td>...</td>\n",
       "      <td>...</td>\n",
       "      <td>...</td>\n",
       "      <td>...</td>\n",
       "      <td>...</td>\n",
       "    </tr>\n",
       "    <tr>\n",
       "      <th>29441</th>\n",
       "      <td>10287</td>\n",
       "      <td>NIST1950_neg_ID_01</td>\n",
       "      <td>896.688251</td>\n",
       "      <td>12.321862</td>\n",
       "      <td>4.690073e+04</td>\n",
       "      <td>4.690073e+04</td>\n",
       "      <td>High_quality</td>\n",
       "    </tr>\n",
       "    <tr>\n",
       "      <th>29444</th>\n",
       "      <td>10288</td>\n",
       "      <td>NIST1950_neg_ID_01</td>\n",
       "      <td>896.662404</td>\n",
       "      <td>8.147289</td>\n",
       "      <td>2.021502e+04</td>\n",
       "      <td>2.021502e+04</td>\n",
       "      <td>Noise</td>\n",
       "    </tr>\n",
       "    <tr>\n",
       "      <th>29447</th>\n",
       "      <td>10289</td>\n",
       "      <td>NIST1950_neg_ID_01</td>\n",
       "      <td>897.707274</td>\n",
       "      <td>12.739011</td>\n",
       "      <td>8.267920e+04</td>\n",
       "      <td>8.267920e+04</td>\n",
       "      <td>Noise</td>\n",
       "    </tr>\n",
       "    <tr>\n",
       "      <th>29450</th>\n",
       "      <td>10290</td>\n",
       "      <td>NIST1950_neg_ID_01</td>\n",
       "      <td>897.787089</td>\n",
       "      <td>9.544567</td>\n",
       "      <td>7.860615e+04</td>\n",
       "      <td>7.860615e+04</td>\n",
       "      <td>Low_quality</td>\n",
       "    </tr>\n",
       "    <tr>\n",
       "      <th>29453</th>\n",
       "      <td>10291</td>\n",
       "      <td>NIST1950_neg_ID_01</td>\n",
       "      <td>897.732226</td>\n",
       "      <td>10.801036</td>\n",
       "      <td>NaN</td>\n",
       "      <td>NaN</td>\n",
       "      <td>High_quality</td>\n",
       "    </tr>\n",
       "  </tbody>\n",
       "</table>\n",
       "<p>9817 rows × 7 columns</p>\n",
       "</div>"
      ],
      "text/plain": [
       "       feature ID              sample         m/z  retention time  \\\n",
       "0               0  NIST1950_neg_ID_01   68.084575        0.904535   \n",
       "3               1  NIST1950_neg_ID_01   69.009349        0.827360   \n",
       "6               2  NIST1950_neg_ID_01   69.009343       13.699052   \n",
       "9               3  NIST1950_neg_ID_01   69.009343       14.196510   \n",
       "12              4  NIST1950_neg_ID_01   68.995698        0.965815   \n",
       "...           ...                 ...         ...             ...   \n",
       "29441       10287  NIST1950_neg_ID_01  896.688251       12.321862   \n",
       "29444       10288  NIST1950_neg_ID_01  896.662404        8.147289   \n",
       "29447       10289  NIST1950_neg_ID_01  897.707274       12.739011   \n",
       "29450       10290  NIST1950_neg_ID_01  897.787089        9.544567   \n",
       "29453       10291  NIST1950_neg_ID_01  897.732226       10.801036   \n",
       "\n",
       "             height          area         label  \n",
       "0      1.121746e+06  1.121746e+06  High_quality  \n",
       "3      4.396395e+06  4.396395e+06         Noise  \n",
       "6      1.274843e+05  1.274843e+05         Noise  \n",
       "9      3.760104e+05  3.760104e+05         Noise  \n",
       "12     3.504610e+05  3.504610e+05   Low_quality  \n",
       "...             ...           ...           ...  \n",
       "29441  4.690073e+04  4.690073e+04  High_quality  \n",
       "29444  2.021502e+04  2.021502e+04         Noise  \n",
       "29447  8.267920e+04  8.267920e+04         Noise  \n",
       "29450  7.860615e+04  7.860615e+04   Low_quality  \n",
       "29453           NaN           NaN  High_quality  \n",
       "\n",
       "[9817 rows x 7 columns]"
      ]
     },
     "execution_count": 14,
     "metadata": {},
     "output_type": "execute_result"
    }
   ],
   "source": [
    "filt = NeatMS_output_df[NeatMS_output_df[\"sample\"] == files[0].replace(\".mzML\",\"\")]\n",
    "filt"
   ]
  },
  {
   "cell_type": "code",
   "execution_count": 15,
   "metadata": {},
   "outputs": [
    {
     "name": "stdout",
     "output_type": "stream",
     "text": [
      "220\n"
     ]
    }
   ],
   "source": [
    "matchIDs = {}\n",
    "for index,row in peakList_labeled.iterrows():\n",
    "    for index2,row2 in filt.iterrows():\n",
    "        if row2[\"m/z\"] > row[\"mz\"] + 0.001:\n",
    "            break\n",
    "        if np.abs(row[\"rt\"] - row2[\"retention time\"]) < 0.03:\n",
    "            if np.abs(row[\"mz\"] - row2[\"m/z\"]) < 0.001:\n",
    "                matchIDs[index] = index2\n",
    "                break\n",
    "print(len(matchIDs))        "
   ]
  },
  {
   "cell_type": "code",
   "execution_count": 16,
   "metadata": {},
   "outputs": [
    {
     "data": {
      "text/html": [
       "<div>\n",
       "<style scoped>\n",
       "    .dataframe tbody tr th:only-of-type {\n",
       "        vertical-align: middle;\n",
       "    }\n",
       "\n",
       "    .dataframe tbody tr th {\n",
       "        vertical-align: top;\n",
       "    }\n",
       "\n",
       "    .dataframe thead th {\n",
       "        text-align: right;\n",
       "    }\n",
       "</style>\n",
       "<table border=\"1\" class=\"dataframe\">\n",
       "  <thead>\n",
       "    <tr style=\"text-align: right;\">\n",
       "      <th></th>\n",
       "      <th>feature ID</th>\n",
       "      <th>sample</th>\n",
       "      <th>m/z</th>\n",
       "      <th>retention time</th>\n",
       "      <th>height</th>\n",
       "      <th>area</th>\n",
       "      <th>label</th>\n",
       "      <th>classification</th>\n",
       "    </tr>\n",
       "  </thead>\n",
       "  <tbody>\n",
       "    <tr>\n",
       "      <th>6984</th>\n",
       "      <td>2511</td>\n",
       "      <td>NIST1950_neg_ID_01</td>\n",
       "      <td>173.118210</td>\n",
       "      <td>0.834282</td>\n",
       "      <td>1.970746e+07</td>\n",
       "      <td>1.970746e+07</td>\n",
       "      <td>Noise</td>\n",
       "      <td>0.0</td>\n",
       "    </tr>\n",
       "    <tr>\n",
       "      <th>7077</th>\n",
       "      <td>2543</td>\n",
       "      <td>NIST1950_neg_ID_01</td>\n",
       "      <td>174.956426</td>\n",
       "      <td>10.107568</td>\n",
       "      <td>1.255482e+09</td>\n",
       "      <td>1.255482e+09</td>\n",
       "      <td>Noise</td>\n",
       "      <td>0.0</td>\n",
       "    </tr>\n",
       "    <tr>\n",
       "      <th>21605</th>\n",
       "      <td>7624</td>\n",
       "      <td>NIST1950_neg_ID_01</td>\n",
       "      <td>419.821694</td>\n",
       "      <td>13.181471</td>\n",
       "      <td>4.600539e+04</td>\n",
       "      <td>4.600539e+04</td>\n",
       "      <td>Noise</td>\n",
       "      <td>0.0</td>\n",
       "    </tr>\n",
       "    <tr>\n",
       "      <th>22902</th>\n",
       "      <td>8068</td>\n",
       "      <td>NIST1950_neg_ID_01</td>\n",
       "      <td>459.343486</td>\n",
       "      <td>12.354779</td>\n",
       "      <td>8.532760e+04</td>\n",
       "      <td>8.532760e+04</td>\n",
       "      <td>Noise</td>\n",
       "      <td>0.0</td>\n",
       "    </tr>\n",
       "    <tr>\n",
       "      <th>26196</th>\n",
       "      <td>9187</td>\n",
       "      <td>NIST1950_neg_ID_01</td>\n",
       "      <td>595.817621</td>\n",
       "      <td>12.763840</td>\n",
       "      <td>3.454424e+05</td>\n",
       "      <td>3.454424e+05</td>\n",
       "      <td>Noise</td>\n",
       "      <td>0.0</td>\n",
       "    </tr>\n",
       "    <tr>\n",
       "      <th>...</th>\n",
       "      <td>...</td>\n",
       "      <td>...</td>\n",
       "      <td>...</td>\n",
       "      <td>...</td>\n",
       "      <td>...</td>\n",
       "      <td>...</td>\n",
       "      <td>...</td>\n",
       "      <td>...</td>\n",
       "    </tr>\n",
       "    <tr>\n",
       "      <th>22154</th>\n",
       "      <td>7810</td>\n",
       "      <td>NIST1950_neg_ID_01</td>\n",
       "      <td>435.251593</td>\n",
       "      <td>1.144449</td>\n",
       "      <td>1.327023e+05</td>\n",
       "      <td>1.327023e+05</td>\n",
       "      <td>Noise</td>\n",
       "      <td>0.0</td>\n",
       "    </tr>\n",
       "    <tr>\n",
       "      <th>6070</th>\n",
       "      <td>2188</td>\n",
       "      <td>NIST1950_neg_ID_01</td>\n",
       "      <td>159.950501</td>\n",
       "      <td>3.126382</td>\n",
       "      <td>1.604189e+04</td>\n",
       "      <td>1.604189e+04</td>\n",
       "      <td>High_quality</td>\n",
       "      <td>1.0</td>\n",
       "    </tr>\n",
       "    <tr>\n",
       "      <th>25269</th>\n",
       "      <td>8873</td>\n",
       "      <td>NIST1950_neg_ID_01</td>\n",
       "      <td>556.848995</td>\n",
       "      <td>10.699781</td>\n",
       "      <td>7.024736e+05</td>\n",
       "      <td>7.024736e+05</td>\n",
       "      <td>Noise</td>\n",
       "      <td>0.0</td>\n",
       "    </tr>\n",
       "    <tr>\n",
       "      <th>16350</th>\n",
       "      <td>5814</td>\n",
       "      <td>NIST1950_neg_ID_01</td>\n",
       "      <td>307.001415</td>\n",
       "      <td>6.187386</td>\n",
       "      <td>8.555102e+04</td>\n",
       "      <td>8.555102e+04</td>\n",
       "      <td>Noise</td>\n",
       "      <td>0.0</td>\n",
       "    </tr>\n",
       "    <tr>\n",
       "      <th>23275</th>\n",
       "      <td>8195</td>\n",
       "      <td>NIST1950_neg_ID_01</td>\n",
       "      <td>471.342262</td>\n",
       "      <td>12.490786</td>\n",
       "      <td>6.231416e+05</td>\n",
       "      <td>6.231416e+05</td>\n",
       "      <td>Noise</td>\n",
       "      <td>0.0</td>\n",
       "    </tr>\n",
       "  </tbody>\n",
       "</table>\n",
       "<p>220 rows × 8 columns</p>\n",
       "</div>"
      ],
      "text/plain": [
       "       feature ID              sample         m/z  retention time  \\\n",
       "6984         2511  NIST1950_neg_ID_01  173.118210        0.834282   \n",
       "7077         2543  NIST1950_neg_ID_01  174.956426       10.107568   \n",
       "21605        7624  NIST1950_neg_ID_01  419.821694       13.181471   \n",
       "22902        8068  NIST1950_neg_ID_01  459.343486       12.354779   \n",
       "26196        9187  NIST1950_neg_ID_01  595.817621       12.763840   \n",
       "...           ...                 ...         ...             ...   \n",
       "22154        7810  NIST1950_neg_ID_01  435.251593        1.144449   \n",
       "6070         2188  NIST1950_neg_ID_01  159.950501        3.126382   \n",
       "25269        8873  NIST1950_neg_ID_01  556.848995       10.699781   \n",
       "16350        5814  NIST1950_neg_ID_01  307.001415        6.187386   \n",
       "23275        8195  NIST1950_neg_ID_01  471.342262       12.490786   \n",
       "\n",
       "             height          area         label  classification  \n",
       "6984   1.970746e+07  1.970746e+07         Noise             0.0  \n",
       "7077   1.255482e+09  1.255482e+09         Noise             0.0  \n",
       "21605  4.600539e+04  4.600539e+04         Noise             0.0  \n",
       "22902  8.532760e+04  8.532760e+04         Noise             0.0  \n",
       "26196  3.454424e+05  3.454424e+05         Noise             0.0  \n",
       "...             ...           ...           ...             ...  \n",
       "22154  1.327023e+05  1.327023e+05         Noise             0.0  \n",
       "6070   1.604189e+04  1.604189e+04  High_quality             1.0  \n",
       "25269  7.024736e+05  7.024736e+05         Noise             0.0  \n",
       "16350  8.555102e+04  8.555102e+04         Noise             0.0  \n",
       "23275  6.231416e+05  6.231416e+05         Noise             0.0  \n",
       "\n",
       "[220 rows x 8 columns]"
      ]
     },
     "execution_count": 16,
     "metadata": {},
     "output_type": "execute_result"
    }
   ],
   "source": [
    "order = list(matchIDs.keys())\n",
    "filt = filt.loc[[matchIDs[x] for x in order],:]\n",
    "classification = []\n",
    "for index,row in filt.iterrows():\n",
    "    if row[\"label\"] == \"High_quality\":\n",
    "        classification.append(1.0)\n",
    "    else:\n",
    "        classification.append(0.0)\n",
    "filt[\"classification\"] = classification\n",
    "filt"
   ]
  },
  {
   "cell_type": "code",
   "execution_count": 17,
   "metadata": {},
   "outputs": [
    {
     "name": "stdout",
     "output_type": "stream",
     "text": [
      "220 [[133  12]\n",
      " [ 63  12]]\n"
     ]
    },
    {
     "data": {
      "text/plain": [
       "0.6590909090909091"
      ]
     },
     "execution_count": 17,
     "metadata": {},
     "output_type": "execute_result"
    }
   ],
   "source": [
    "true_neatms = peakList_labeled.loc[order,\"classification\"].values\n",
    "pred_neatms = filt[\"classification\"].values\n",
    "print(len(true_neatms),confusion_matrix(true_neatms,pred_neatms))\n",
    "untrained_accuracy = met.accuracy_score(true_neatms,pred_neatms)\n",
    "untrained_accuracy"
   ]
  },
  {
   "cell_type": "code",
   "execution_count": 24,
   "metadata": {},
   "outputs": [
    {
     "name": "stderr",
     "output_type": "stream",
     "text": [
      "c:\\users\\ethan\\appdata\\local\\programs\\python\\python37\\lib\\site-packages\\NeatMS\\annotation.py:175: UserWarning: \n",
      "The dash_core_components package is deprecated. Please replace\n",
      "`import dash_core_components as dcc` with `from dash import dcc`\n",
      "  import dash_core_components as dcc\n",
      "c:\\users\\ethan\\appdata\\local\\programs\\python\\python37\\lib\\site-packages\\NeatMS\\annotation.py:176: UserWarning: \n",
      "The dash_html_components package is deprecated. Please replace\n",
      "`import dash_html_components as html` with `from dash import html`\n",
      "  import dash_html_components as html\n"
     ]
    },
    {
     "data": {
      "text/html": [
       "\n",
       "        <iframe\n",
       "            width=\"100%\"\n",
       "            height=\"650\"\n",
       "            src=\"http://127.0.0.1:8050/\"\n",
       "            frameborder=\"0\"\n",
       "            allowfullscreen\n",
       "        ></iframe>\n",
       "        "
      ],
      "text/plain": [
       "<IPython.lib.display.IFrame at 0x2640ec6eec8>"
      ]
     },
     "metadata": {},
     "output_type": "display_data"
    }
   ],
   "source": [
    "annotation_tool = ntms.AnnotationTool(experiment)\n",
    "annotation_tool.launch_annotation_tool()"
   ]
  },
  {
   "cell_type": "code",
   "execution_count": 30,
   "metadata": {},
   "outputs": [
    {
     "name": "stdout",
     "output_type": "stream",
     "text": [
      "Total number of annotated peaks: 200\n",
      "High_quality 34\n",
      "Low_quality 27\n",
      "Noise 139\n"
     ]
    }
   ],
   "source": [
    "annotation_table = experiment.feature_tables[0].annotation_table\n",
    "print(\"Total number of annotated peaks:\",len(annotation_table.labelled_peaks))\n",
    "for annotation in annotation_table.annotations:\n",
    "    print(annotation.label,len(annotation.peaks))"
   ]
  },
  {
   "cell_type": "code",
   "execution_count": 31,
   "metadata": {},
   "outputs": [],
   "source": [
    "experiment.name = '../data/neatms/NeatMS_covid_data'\n",
    "experiment.save()"
   ]
  },
  {
   "cell_type": "code",
   "execution_count": 32,
   "metadata": {},
   "outputs": [
    {
     "name": "stdout",
     "output_type": "stream",
     "text": [
      "<keras.engine.input_layer.InputLayer object at 0x00000263EE1A64C8> True\n",
      "<keras.layers.convolutional.conv2d.Conv2D object at 0x00000263EE005288> False\n",
      "<keras.layers.pooling.max_pooling2d.MaxPooling2D object at 0x00000263EE005D08> False\n",
      "<keras.layers.convolutional.conv2d.Conv2D object at 0x00000263EDFE3348> False\n",
      "<keras.layers.reshaping.flatten.Flatten object at 0x00000263EDFE3D08> True\n",
      "<keras.layers.core.dense.Dense object at 0x00000263EF0BE308> True\n",
      "<keras.layers.regularization.dropout.Dropout object at 0x00000263EF0BEC48> True\n",
      "<keras.layers.core.dense.Dense object at 0x00000263EF0AF288> True\n"
     ]
    }
   ],
   "source": [
    "# Let's freeze the convolutional base\n",
    "# We can do that by selecting layers using their names\n",
    "\n",
    "layer_names = ['conv2d_1','conv2d_2','max_pooling2d_1']\n",
    "for layer_name in layer_names:\n",
    "    nn_handler.class_model.get_layer(layer_name).trainable = False\n",
    "\n",
    "# Here is how to make sure that the right layers are still trainable\n",
    "for layer in nn_handler.class_model.layers:\n",
    "    print(layer, layer.trainable)"
   ]
  },
  {
   "cell_type": "code",
   "execution_count": 33,
   "metadata": {},
   "outputs": [
    {
     "name": "stderr",
     "output_type": "stream",
     "text": [
      "c:\\users\\ethan\\appdata\\local\\programs\\python\\python37\\lib\\site-packages\\keras\\optimizers\\optimizer_v2\\adam.py:110: UserWarning:\n",
      "\n",
      "The `lr` argument is deprecated, use `learning_rate` instead.\n",
      "\n"
     ]
    }
   ],
   "source": [
    "from keras.optimizers import SGD, Adam \n",
    "lr = 0.00001\n",
    "opt = Adam(lr=lr)\n",
    "nn_handler.class_model.compile(loss = \"categorical_crossentropy\", optimizer = opt, metrics=['accuracy','mae'])"
   ]
  },
  {
   "cell_type": "code",
   "execution_count": 34,
   "metadata": {},
   "outputs": [],
   "source": [
    "nn_handler.create_batches(validation_split=0.1, normalise_class=False)"
   ]
  },
  {
   "cell_type": "code",
   "execution_count": 35,
   "metadata": {},
   "outputs": [
    {
     "name": "stdout",
     "output_type": "stream",
     "text": [
      "Epoch 1/20\n",
      "5/5 [==============================] - 1s 89ms/step - loss: 1.6988 - accuracy: 0.6258 - mae: 0.2559 - val_loss: 2.4825 - val_accuracy: 0.4737 - val_mae: 0.3239\n",
      "Epoch 2/20\n",
      "5/5 [==============================] - 0s 22ms/step - loss: 1.6319 - accuracy: 0.6194 - mae: 0.2532 - val_loss: 2.4057 - val_accuracy: 0.4737 - val_mae: 0.3271\n",
      "Epoch 3/20\n",
      "5/5 [==============================] - 0s 19ms/step - loss: 1.5640 - accuracy: 0.6129 - mae: 0.2530 - val_loss: 2.3373 - val_accuracy: 0.4737 - val_mae: 0.3292\n",
      "Epoch 4/20\n",
      "5/5 [==============================] - 0s 19ms/step - loss: 1.5820 - accuracy: 0.6194 - mae: 0.2589 - val_loss: 2.2740 - val_accuracy: 0.4737 - val_mae: 0.3306\n",
      "Epoch 5/20\n",
      "5/5 [==============================] - 0s 19ms/step - loss: 1.5775 - accuracy: 0.6258 - mae: 0.2588 - val_loss: 2.2150 - val_accuracy: 0.4737 - val_mae: 0.3315\n",
      "Epoch 6/20\n",
      "5/5 [==============================] - 0s 18ms/step - loss: 1.4968 - accuracy: 0.6129 - mae: 0.2631 - val_loss: 2.1596 - val_accuracy: 0.4737 - val_mae: 0.3317\n",
      "Epoch 7/20\n",
      "5/5 [==============================] - 0s 18ms/step - loss: 1.4172 - accuracy: 0.5871 - mae: 0.2673 - val_loss: 2.1097 - val_accuracy: 0.5263 - val_mae: 0.3315\n",
      "Epoch 8/20\n",
      "5/5 [==============================] - 0s 19ms/step - loss: 1.4064 - accuracy: 0.6065 - mae: 0.2658 - val_loss: 2.0605 - val_accuracy: 0.4737 - val_mae: 0.3313\n",
      "Epoch 9/20\n",
      "5/5 [==============================] - 0s 19ms/step - loss: 1.4513 - accuracy: 0.6065 - mae: 0.2598 - val_loss: 2.0160 - val_accuracy: 0.4737 - val_mae: 0.3312\n",
      "Epoch 10/20\n",
      "5/5 [==============================] - 0s 19ms/step - loss: 1.4105 - accuracy: 0.5871 - mae: 0.2676 - val_loss: 1.9803 - val_accuracy: 0.4737 - val_mae: 0.3312\n",
      "Epoch 11/20\n",
      "5/5 [==============================] - 0s 19ms/step - loss: 1.3885 - accuracy: 0.5806 - mae: 0.2710 - val_loss: 1.9435 - val_accuracy: 0.4737 - val_mae: 0.3313\n",
      "Epoch 12/20\n",
      "5/5 [==============================] - 0s 19ms/step - loss: 1.3400 - accuracy: 0.6129 - mae: 0.2675 - val_loss: 1.9074 - val_accuracy: 0.4737 - val_mae: 0.3314\n",
      "Epoch 13/20\n",
      "5/5 [==============================] - 0s 20ms/step - loss: 1.2218 - accuracy: 0.6194 - mae: 0.2699 - val_loss: 1.8744 - val_accuracy: 0.4737 - val_mae: 0.3317\n",
      "Epoch 14/20\n",
      "5/5 [==============================] - 0s 19ms/step - loss: 1.3712 - accuracy: 0.5806 - mae: 0.2831 - val_loss: 1.8444 - val_accuracy: 0.5263 - val_mae: 0.3319\n",
      "Epoch 15/20\n",
      "5/5 [==============================] - 0s 19ms/step - loss: 1.3894 - accuracy: 0.6065 - mae: 0.2673 - val_loss: 1.8175 - val_accuracy: 0.5263 - val_mae: 0.3321\n",
      "Epoch 16/20\n",
      "5/5 [==============================] - 0s 19ms/step - loss: 1.1931 - accuracy: 0.6065 - mae: 0.2684 - val_loss: 1.7927 - val_accuracy: 0.5263 - val_mae: 0.3323\n",
      "Epoch 17/20\n",
      "5/5 [==============================] - 0s 19ms/step - loss: 1.2948 - accuracy: 0.6065 - mae: 0.2767 - val_loss: 1.7683 - val_accuracy: 0.5263 - val_mae: 0.3323\n",
      "Epoch 18/20\n",
      "5/5 [==============================] - 0s 18ms/step - loss: 1.2238 - accuracy: 0.5806 - mae: 0.2738 - val_loss: 1.7476 - val_accuracy: 0.5263 - val_mae: 0.3321\n",
      "Epoch 19/20\n",
      "5/5 [==============================] - 0s 19ms/step - loss: 1.2632 - accuracy: 0.6194 - mae: 0.2743 - val_loss: 1.7249 - val_accuracy: 0.5263 - val_mae: 0.3320\n",
      "Epoch 20/20\n",
      "5/5 [==============================] - 0s 19ms/step - loss: 1.2837 - accuracy: 0.5806 - mae: 0.2876 - val_loss: 1.7043 - val_accuracy: 0.5263 - val_mae: 0.3316\n"
     ]
    }
   ],
   "source": [
    "nn_handler.train_model(20)"
   ]
  },
  {
   "cell_type": "code",
   "execution_count": 36,
   "metadata": {},
   "outputs": [],
   "source": [
    "nn_handler.class_model.save(datadir + \"covid_model_tl.h5\")"
   ]
  },
  {
   "cell_type": "code",
   "execution_count": 18,
   "metadata": {},
   "outputs": [
    {
     "name": "stdout",
     "output_type": "stream",
     "text": [
      "Model: \"model_1\"\n",
      "_________________________________________________________________\n",
      " Layer (type)                Output Shape              Param #   \n",
      "=================================================================\n",
      " input_1 (InputLayer)        [(None, 2, 120, 1)]       0         \n",
      "                                                                 \n",
      " conv2d_1 (Conv2D)           (None, 2, 120, 32)        832       \n",
      "                                                                 \n",
      " max_pooling2d_1 (MaxPooling  (None, 2, 60, 32)        0         \n",
      " 2D)                                                             \n",
      "                                                                 \n",
      " conv2d_2 (Conv2D)           (None, 2, 60, 64)         18496     \n",
      "                                                                 \n",
      " flatten_1 (Flatten)         (None, 7680)              0         \n",
      "                                                                 \n",
      " dense_1 (Dense)             (None, 128)               983168    \n",
      "                                                                 \n",
      " dropout_1 (Dropout)         (None, 128)               0         \n",
      "                                                                 \n",
      " dense_prediction (Dense)    (None, 3)                 387       \n",
      "                                                                 \n",
      "=================================================================\n",
      "Total params: 1,002,883\n",
      "Trainable params: 983,555\n",
      "Non-trainable params: 19,328\n",
      "_________________________________________________________________\n"
     ]
    }
   ],
   "source": [
    "model_path = datadir + \"covid_model_tl.h5\"\n",
    "nn_handler.create_model(model = model_path)\n",
    "nn_handler.get_model_summary()"
   ]
  },
  {
   "cell_type": "code",
   "execution_count": 19,
   "metadata": {},
   "outputs": [
    {
     "name": "stdout",
     "output_type": "stream",
     "text": [
      "307/307 [==============================] - 2s 6ms/step\n",
      "307/307 [==============================] - 2s 6ms/step\n",
      "308/308 [==============================] - 2s 6ms/step\n"
     ]
    }
   ],
   "source": [
    "# Set the threshold to 0.22\n",
    "threshold=0.22\n",
    "\n",
    "# Run the prediction\n",
    "nn_handler.predict_peaks(threshold)"
   ]
  },
  {
   "cell_type": "code",
   "execution_count": 20,
   "metadata": {},
   "outputs": [
    {
     "data": {
      "text/html": [
       "<div>\n",
       "<style scoped>\n",
       "    .dataframe tbody tr th:only-of-type {\n",
       "        vertical-align: middle;\n",
       "    }\n",
       "\n",
       "    .dataframe tbody tr th {\n",
       "        vertical-align: top;\n",
       "    }\n",
       "\n",
       "    .dataframe thead th {\n",
       "        text-align: right;\n",
       "    }\n",
       "</style>\n",
       "<table border=\"1\" class=\"dataframe\">\n",
       "  <thead>\n",
       "    <tr style=\"text-align: right;\">\n",
       "      <th></th>\n",
       "      <th>feature ID</th>\n",
       "      <th>sample</th>\n",
       "      <th>m/z</th>\n",
       "      <th>retention time</th>\n",
       "      <th>height</th>\n",
       "      <th>area</th>\n",
       "      <th>label</th>\n",
       "    </tr>\n",
       "  </thead>\n",
       "  <tbody>\n",
       "    <tr>\n",
       "      <th>0</th>\n",
       "      <td>0</td>\n",
       "      <td>NIST1950_neg_ID_01</td>\n",
       "      <td>68.084575</td>\n",
       "      <td>0.904535</td>\n",
       "      <td>1.121746e+06</td>\n",
       "      <td>1.121746e+06</td>\n",
       "      <td>High_quality</td>\n",
       "    </tr>\n",
       "    <tr>\n",
       "      <th>1</th>\n",
       "      <td>0</td>\n",
       "      <td>NIST1950_neg_ID_03</td>\n",
       "      <td>68.084575</td>\n",
       "      <td>0.904535</td>\n",
       "      <td>1.323590e+06</td>\n",
       "      <td>1.323590e+06</td>\n",
       "      <td>High_quality</td>\n",
       "    </tr>\n",
       "    <tr>\n",
       "      <th>2</th>\n",
       "      <td>0</td>\n",
       "      <td>NIST1950_neg_ID_04</td>\n",
       "      <td>68.084575</td>\n",
       "      <td>0.904535</td>\n",
       "      <td>1.221669e+06</td>\n",
       "      <td>1.221669e+06</td>\n",
       "      <td>High_quality</td>\n",
       "    </tr>\n",
       "    <tr>\n",
       "      <th>3</th>\n",
       "      <td>1</td>\n",
       "      <td>NIST1950_neg_ID_01</td>\n",
       "      <td>69.009349</td>\n",
       "      <td>0.827360</td>\n",
       "      <td>4.396395e+06</td>\n",
       "      <td>4.396395e+06</td>\n",
       "      <td>High_quality</td>\n",
       "    </tr>\n",
       "    <tr>\n",
       "      <th>4</th>\n",
       "      <td>1</td>\n",
       "      <td>NIST1950_neg_ID_03</td>\n",
       "      <td>69.009349</td>\n",
       "      <td>0.827360</td>\n",
       "      <td>5.184098e+06</td>\n",
       "      <td>5.184098e+06</td>\n",
       "      <td>Low_quality</td>\n",
       "    </tr>\n",
       "    <tr>\n",
       "      <th>...</th>\n",
       "      <td>...</td>\n",
       "      <td>...</td>\n",
       "      <td>...</td>\n",
       "      <td>...</td>\n",
       "      <td>...</td>\n",
       "      <td>...</td>\n",
       "      <td>...</td>\n",
       "    </tr>\n",
       "    <tr>\n",
       "      <th>29451</th>\n",
       "      <td>10290</td>\n",
       "      <td>NIST1950_neg_ID_03</td>\n",
       "      <td>897.787089</td>\n",
       "      <td>9.544567</td>\n",
       "      <td>5.937995e+04</td>\n",
       "      <td>5.937995e+04</td>\n",
       "      <td>Low_quality</td>\n",
       "    </tr>\n",
       "    <tr>\n",
       "      <th>29452</th>\n",
       "      <td>10290</td>\n",
       "      <td>NIST1950_neg_ID_04</td>\n",
       "      <td>897.787089</td>\n",
       "      <td>9.544567</td>\n",
       "      <td>8.790525e+04</td>\n",
       "      <td>8.790525e+04</td>\n",
       "      <td>High_quality</td>\n",
       "    </tr>\n",
       "    <tr>\n",
       "      <th>29453</th>\n",
       "      <td>10291</td>\n",
       "      <td>NIST1950_neg_ID_01</td>\n",
       "      <td>897.732226</td>\n",
       "      <td>10.801036</td>\n",
       "      <td>NaN</td>\n",
       "      <td>NaN</td>\n",
       "      <td>High_quality</td>\n",
       "    </tr>\n",
       "    <tr>\n",
       "      <th>29454</th>\n",
       "      <td>10291</td>\n",
       "      <td>NIST1950_neg_ID_03</td>\n",
       "      <td>897.732226</td>\n",
       "      <td>10.801036</td>\n",
       "      <td>3.747974e+04</td>\n",
       "      <td>3.747974e+04</td>\n",
       "      <td>High_quality</td>\n",
       "    </tr>\n",
       "    <tr>\n",
       "      <th>29455</th>\n",
       "      <td>10291</td>\n",
       "      <td>NIST1950_neg_ID_04</td>\n",
       "      <td>897.732226</td>\n",
       "      <td>10.801036</td>\n",
       "      <td>9.205596e+03</td>\n",
       "      <td>9.205596e+03</td>\n",
       "      <td>High_quality</td>\n",
       "    </tr>\n",
       "  </tbody>\n",
       "</table>\n",
       "<p>29456 rows × 7 columns</p>\n",
       "</div>"
      ],
      "text/plain": [
       "       feature ID              sample         m/z  retention time  \\\n",
       "0               0  NIST1950_neg_ID_01   68.084575        0.904535   \n",
       "1               0  NIST1950_neg_ID_03   68.084575        0.904535   \n",
       "2               0  NIST1950_neg_ID_04   68.084575        0.904535   \n",
       "3               1  NIST1950_neg_ID_01   69.009349        0.827360   \n",
       "4               1  NIST1950_neg_ID_03   69.009349        0.827360   \n",
       "...           ...                 ...         ...             ...   \n",
       "29451       10290  NIST1950_neg_ID_03  897.787089        9.544567   \n",
       "29452       10290  NIST1950_neg_ID_04  897.787089        9.544567   \n",
       "29453       10291  NIST1950_neg_ID_01  897.732226       10.801036   \n",
       "29454       10291  NIST1950_neg_ID_03  897.732226       10.801036   \n",
       "29455       10291  NIST1950_neg_ID_04  897.732226       10.801036   \n",
       "\n",
       "             height          area         label  \n",
       "0      1.121746e+06  1.121746e+06  High_quality  \n",
       "1      1.323590e+06  1.323590e+06  High_quality  \n",
       "2      1.221669e+06  1.221669e+06  High_quality  \n",
       "3      4.396395e+06  4.396395e+06  High_quality  \n",
       "4      5.184098e+06  5.184098e+06   Low_quality  \n",
       "...             ...           ...           ...  \n",
       "29451  5.937995e+04  5.937995e+04   Low_quality  \n",
       "29452  8.790525e+04  8.790525e+04  High_quality  \n",
       "29453           NaN           NaN  High_quality  \n",
       "29454  3.747974e+04  3.747974e+04  High_quality  \n",
       "29455  9.205596e+03  9.205596e+03  High_quality  \n",
       "\n",
       "[29456 rows x 7 columns]"
      ]
     },
     "execution_count": 20,
     "metadata": {},
     "output_type": "execute_result"
    }
   ],
   "source": [
    "# We create the dataframe using this function\n",
    "NeatMS_output_df_tl = experiment.export_to_dataframe()\n",
    "# And display it\n",
    "NeatMS_output_df_tl"
   ]
  },
  {
   "cell_type": "code",
   "execution_count": 21,
   "metadata": {},
   "outputs": [
    {
     "data": {
      "text/html": [
       "<div>\n",
       "<style scoped>\n",
       "    .dataframe tbody tr th:only-of-type {\n",
       "        vertical-align: middle;\n",
       "    }\n",
       "\n",
       "    .dataframe tbody tr th {\n",
       "        vertical-align: top;\n",
       "    }\n",
       "\n",
       "    .dataframe thead th {\n",
       "        text-align: right;\n",
       "    }\n",
       "</style>\n",
       "<table border=\"1\" class=\"dataframe\">\n",
       "  <thead>\n",
       "    <tr style=\"text-align: right;\">\n",
       "      <th></th>\n",
       "      <th>feature ID</th>\n",
       "      <th>sample</th>\n",
       "      <th>m/z</th>\n",
       "      <th>retention time</th>\n",
       "      <th>height</th>\n",
       "      <th>area</th>\n",
       "      <th>label</th>\n",
       "      <th>classification</th>\n",
       "    </tr>\n",
       "  </thead>\n",
       "  <tbody>\n",
       "    <tr>\n",
       "      <th>6984</th>\n",
       "      <td>2511</td>\n",
       "      <td>NIST1950_neg_ID_01</td>\n",
       "      <td>173.118210</td>\n",
       "      <td>0.834282</td>\n",
       "      <td>1.970746e+07</td>\n",
       "      <td>1.970746e+07</td>\n",
       "      <td>High_quality</td>\n",
       "      <td>1.0</td>\n",
       "    </tr>\n",
       "    <tr>\n",
       "      <th>7077</th>\n",
       "      <td>2543</td>\n",
       "      <td>NIST1950_neg_ID_01</td>\n",
       "      <td>174.956426</td>\n",
       "      <td>10.107568</td>\n",
       "      <td>1.255482e+09</td>\n",
       "      <td>1.255482e+09</td>\n",
       "      <td>Noise</td>\n",
       "      <td>0.0</td>\n",
       "    </tr>\n",
       "    <tr>\n",
       "      <th>21605</th>\n",
       "      <td>7624</td>\n",
       "      <td>NIST1950_neg_ID_01</td>\n",
       "      <td>419.821694</td>\n",
       "      <td>13.181471</td>\n",
       "      <td>4.600539e+04</td>\n",
       "      <td>4.600539e+04</td>\n",
       "      <td>Noise</td>\n",
       "      <td>0.0</td>\n",
       "    </tr>\n",
       "    <tr>\n",
       "      <th>22902</th>\n",
       "      <td>8068</td>\n",
       "      <td>NIST1950_neg_ID_01</td>\n",
       "      <td>459.343486</td>\n",
       "      <td>12.354779</td>\n",
       "      <td>8.532760e+04</td>\n",
       "      <td>8.532760e+04</td>\n",
       "      <td>High_quality</td>\n",
       "      <td>1.0</td>\n",
       "    </tr>\n",
       "    <tr>\n",
       "      <th>26196</th>\n",
       "      <td>9187</td>\n",
       "      <td>NIST1950_neg_ID_01</td>\n",
       "      <td>595.817621</td>\n",
       "      <td>12.763840</td>\n",
       "      <td>3.454424e+05</td>\n",
       "      <td>3.454424e+05</td>\n",
       "      <td>Noise</td>\n",
       "      <td>0.0</td>\n",
       "    </tr>\n",
       "    <tr>\n",
       "      <th>...</th>\n",
       "      <td>...</td>\n",
       "      <td>...</td>\n",
       "      <td>...</td>\n",
       "      <td>...</td>\n",
       "      <td>...</td>\n",
       "      <td>...</td>\n",
       "      <td>...</td>\n",
       "      <td>...</td>\n",
       "    </tr>\n",
       "    <tr>\n",
       "      <th>22154</th>\n",
       "      <td>7810</td>\n",
       "      <td>NIST1950_neg_ID_01</td>\n",
       "      <td>435.251593</td>\n",
       "      <td>1.144449</td>\n",
       "      <td>1.327023e+05</td>\n",
       "      <td>1.327023e+05</td>\n",
       "      <td>High_quality</td>\n",
       "      <td>1.0</td>\n",
       "    </tr>\n",
       "    <tr>\n",
       "      <th>6070</th>\n",
       "      <td>2188</td>\n",
       "      <td>NIST1950_neg_ID_01</td>\n",
       "      <td>159.950501</td>\n",
       "      <td>3.126382</td>\n",
       "      <td>1.604189e+04</td>\n",
       "      <td>1.604189e+04</td>\n",
       "      <td>High_quality</td>\n",
       "      <td>1.0</td>\n",
       "    </tr>\n",
       "    <tr>\n",
       "      <th>25269</th>\n",
       "      <td>8873</td>\n",
       "      <td>NIST1950_neg_ID_01</td>\n",
       "      <td>556.848995</td>\n",
       "      <td>10.699781</td>\n",
       "      <td>7.024736e+05</td>\n",
       "      <td>7.024736e+05</td>\n",
       "      <td>Noise</td>\n",
       "      <td>0.0</td>\n",
       "    </tr>\n",
       "    <tr>\n",
       "      <th>16350</th>\n",
       "      <td>5814</td>\n",
       "      <td>NIST1950_neg_ID_01</td>\n",
       "      <td>307.001415</td>\n",
       "      <td>6.187386</td>\n",
       "      <td>8.555102e+04</td>\n",
       "      <td>8.555102e+04</td>\n",
       "      <td>High_quality</td>\n",
       "      <td>1.0</td>\n",
       "    </tr>\n",
       "    <tr>\n",
       "      <th>23275</th>\n",
       "      <td>8195</td>\n",
       "      <td>NIST1950_neg_ID_01</td>\n",
       "      <td>471.342262</td>\n",
       "      <td>12.490786</td>\n",
       "      <td>6.231416e+05</td>\n",
       "      <td>6.231416e+05</td>\n",
       "      <td>Noise</td>\n",
       "      <td>0.0</td>\n",
       "    </tr>\n",
       "  </tbody>\n",
       "</table>\n",
       "<p>220 rows × 8 columns</p>\n",
       "</div>"
      ],
      "text/plain": [
       "       feature ID              sample         m/z  retention time  \\\n",
       "6984         2511  NIST1950_neg_ID_01  173.118210        0.834282   \n",
       "7077         2543  NIST1950_neg_ID_01  174.956426       10.107568   \n",
       "21605        7624  NIST1950_neg_ID_01  419.821694       13.181471   \n",
       "22902        8068  NIST1950_neg_ID_01  459.343486       12.354779   \n",
       "26196        9187  NIST1950_neg_ID_01  595.817621       12.763840   \n",
       "...           ...                 ...         ...             ...   \n",
       "22154        7810  NIST1950_neg_ID_01  435.251593        1.144449   \n",
       "6070         2188  NIST1950_neg_ID_01  159.950501        3.126382   \n",
       "25269        8873  NIST1950_neg_ID_01  556.848995       10.699781   \n",
       "16350        5814  NIST1950_neg_ID_01  307.001415        6.187386   \n",
       "23275        8195  NIST1950_neg_ID_01  471.342262       12.490786   \n",
       "\n",
       "             height          area         label  classification  \n",
       "6984   1.970746e+07  1.970746e+07  High_quality             1.0  \n",
       "7077   1.255482e+09  1.255482e+09         Noise             0.0  \n",
       "21605  4.600539e+04  4.600539e+04         Noise             0.0  \n",
       "22902  8.532760e+04  8.532760e+04  High_quality             1.0  \n",
       "26196  3.454424e+05  3.454424e+05         Noise             0.0  \n",
       "...             ...           ...           ...             ...  \n",
       "22154  1.327023e+05  1.327023e+05  High_quality             1.0  \n",
       "6070   1.604189e+04  1.604189e+04  High_quality             1.0  \n",
       "25269  7.024736e+05  7.024736e+05         Noise             0.0  \n",
       "16350  8.555102e+04  8.555102e+04  High_quality             1.0  \n",
       "23275  6.231416e+05  6.231416e+05         Noise             0.0  \n",
       "\n",
       "[220 rows x 8 columns]"
      ]
     },
     "execution_count": 21,
     "metadata": {},
     "output_type": "execute_result"
    }
   ],
   "source": [
    "filt = NeatMS_output_df_tl[NeatMS_output_df_tl[\"sample\"] == files[0].replace(\".mzML\",\"\")]\n",
    "filt = filt.loc[[matchIDs[x] for x in order],:]\n",
    "classification = []\n",
    "for index,row in filt.iterrows():\n",
    "    if row[\"label\"] == \"High_quality\":\n",
    "        classification.append(1.0)\n",
    "    else:\n",
    "        classification.append(0.0)\n",
    "filt[\"classification\"] = classification\n",
    "filt"
   ]
  },
  {
   "cell_type": "code",
   "execution_count": 22,
   "metadata": {},
   "outputs": [
    {
     "name": "stdout",
     "output_type": "stream",
     "text": [
      "220 [[120  25]\n",
      " [ 38  37]]\n"
     ]
    },
    {
     "data": {
      "text/plain": [
       "0.7136363636363636"
      ]
     },
     "execution_count": 22,
     "metadata": {},
     "output_type": "execute_result"
    }
   ],
   "source": [
    "true_neatms_tl = peakList_labeled.loc[order,\"classification\"].values\n",
    "pred_neatms_tl = filt[\"classification\"].values\n",
    "print(len(true_neatms_tl),confusion_matrix(true_neatms_tl,pred_neatms_tl))\n",
    "trained_accuracy = met.accuracy_score(true_neatms_tl,pred_neatms_tl)\n",
    "trained_accuracy"
   ]
  },
  {
   "cell_type": "code",
   "execution_count": 23,
   "metadata": {},
   "outputs": [
    {
     "data": {
      "text/html": [
       "<div>\n",
       "<style scoped>\n",
       "    .dataframe tbody tr th:only-of-type {\n",
       "        vertical-align: middle;\n",
       "    }\n",
       "\n",
       "    .dataframe tbody tr th {\n",
       "        vertical-align: top;\n",
       "    }\n",
       "\n",
       "    .dataframe thead th {\n",
       "        text-align: right;\n",
       "    }\n",
       "</style>\n",
       "<table border=\"1\" class=\"dataframe\">\n",
       "  <thead>\n",
       "    <tr style=\"text-align: right;\">\n",
       "      <th></th>\n",
       "      <th>mz</th>\n",
       "      <th>rt</th>\n",
       "    </tr>\n",
       "  </thead>\n",
       "  <tbody>\n",
       "    <tr>\n",
       "      <th>1</th>\n",
       "      <td>68.084575</td>\n",
       "      <td>0.903144</td>\n",
       "    </tr>\n",
       "    <tr>\n",
       "      <th>2</th>\n",
       "      <td>69.009349</td>\n",
       "      <td>0.821771</td>\n",
       "    </tr>\n",
       "    <tr>\n",
       "      <th>3</th>\n",
       "      <td>69.009343</td>\n",
       "      <td>13.699052</td>\n",
       "    </tr>\n",
       "    <tr>\n",
       "      <th>4</th>\n",
       "      <td>69.009343</td>\n",
       "      <td>14.196510</td>\n",
       "    </tr>\n",
       "    <tr>\n",
       "      <th>5</th>\n",
       "      <td>68.995698</td>\n",
       "      <td>0.965815</td>\n",
       "    </tr>\n",
       "    <tr>\n",
       "      <th>...</th>\n",
       "      <td>...</td>\n",
       "      <td>...</td>\n",
       "    </tr>\n",
       "    <tr>\n",
       "      <th>10288</th>\n",
       "      <td>896.688251</td>\n",
       "      <td>12.321862</td>\n",
       "    </tr>\n",
       "    <tr>\n",
       "      <th>10289</th>\n",
       "      <td>896.662404</td>\n",
       "      <td>8.147289</td>\n",
       "    </tr>\n",
       "    <tr>\n",
       "      <th>10290</th>\n",
       "      <td>897.707274</td>\n",
       "      <td>12.739011</td>\n",
       "    </tr>\n",
       "    <tr>\n",
       "      <th>10291</th>\n",
       "      <td>897.787089</td>\n",
       "      <td>9.544567</td>\n",
       "    </tr>\n",
       "    <tr>\n",
       "      <th>10292</th>\n",
       "      <td>897.732226</td>\n",
       "      <td>10.801036</td>\n",
       "    </tr>\n",
       "  </tbody>\n",
       "</table>\n",
       "<p>10292 rows × 2 columns</p>\n",
       "</div>"
      ],
      "text/plain": [
       "               mz         rt\n",
       "1       68.084575   0.903144\n",
       "2       69.009349   0.821771\n",
       "3       69.009343  13.699052\n",
       "4       69.009343  14.196510\n",
       "5       68.995698   0.965815\n",
       "...           ...        ...\n",
       "10288  896.688251  12.321862\n",
       "10289  896.662404   8.147289\n",
       "10290  897.707274  12.739011\n",
       "10291  897.787089   9.544567\n",
       "10292  897.732226  10.801036\n",
       "\n",
       "[10292 rows x 2 columns]"
      ]
     },
     "execution_count": 23,
     "metadata": {},
     "output_type": "execute_result"
    }
   ],
   "source": [
    "peakList"
   ]
  },
  {
   "cell_type": "code",
   "execution_count": 24,
   "metadata": {},
   "outputs": [
    {
     "name": "stdout",
     "output_type": "stream",
     "text": [
      "Epoch 1/30\n",
      "483/483 [==============================] - 2s 2ms/step - loss: 0.6818 - mean_absolute_error: 0.4467 - val_loss: 0.8130 - val_mean_absolute_error: 0.5929\n",
      "Epoch 2/30\n",
      "483/483 [==============================] - 1s 2ms/step - loss: 0.5986 - mean_absolute_error: 0.3907 - val_loss: 0.7362 - val_mean_absolute_error: 0.5304\n",
      "Epoch 3/30\n",
      "483/483 [==============================] - 1s 2ms/step - loss: 0.4898 - mean_absolute_error: 0.2818 - val_loss: 0.6662 - val_mean_absolute_error: 0.4636\n",
      "Epoch 4/30\n",
      "483/483 [==============================] - 1s 2ms/step - loss: 0.4010 - mean_absolute_error: 0.1954 - val_loss: 0.5828 - val_mean_absolute_error: 0.3771\n",
      "Epoch 5/30\n",
      "483/483 [==============================] - 1s 2ms/step - loss: 0.3343 - mean_absolute_error: 0.1398 - val_loss: 0.5154 - val_mean_absolute_error: 0.3065\n",
      "Epoch 6/30\n",
      "483/483 [==============================] - 1s 2ms/step - loss: 0.2818 - mean_absolute_error: 0.1032 - val_loss: 0.4570 - val_mean_absolute_error: 0.2481\n",
      "Epoch 7/30\n",
      "483/483 [==============================] - 1s 2ms/step - loss: 0.2411 - mean_absolute_error: 0.0795 - val_loss: 0.4068 - val_mean_absolute_error: 0.2039\n",
      "Epoch 8/30\n",
      "483/483 [==============================] - 1s 2ms/step - loss: 0.2099 - mean_absolute_error: 0.0640 - val_loss: 0.3484 - val_mean_absolute_error: 0.1601\n",
      "Epoch 9/30\n",
      "483/483 [==============================] - 1s 2ms/step - loss: 0.1860 - mean_absolute_error: 0.0538 - val_loss: 0.3046 - val_mean_absolute_error: 0.1329\n",
      "Epoch 10/30\n",
      "483/483 [==============================] - 1s 2ms/step - loss: 0.1678 - mean_absolute_error: 0.0470 - val_loss: 0.2798 - val_mean_absolute_error: 0.1201\n",
      "Epoch 11/30\n",
      "483/483 [==============================] - 1s 2ms/step - loss: 0.1539 - mean_absolute_error: 0.0423 - val_loss: 0.2461 - val_mean_absolute_error: 0.1052\n",
      "Epoch 12/30\n",
      "483/483 [==============================] - 1s 2ms/step - loss: 0.1431 - mean_absolute_error: 0.0390 - val_loss: 0.2156 - val_mean_absolute_error: 0.0939\n",
      "Epoch 13/30\n",
      "483/483 [==============================] - 1s 2ms/step - loss: 0.1347 - mean_absolute_error: 0.0366 - val_loss: 0.1971 - val_mean_absolute_error: 0.0884\n",
      "Epoch 14/30\n",
      "483/483 [==============================] - 1s 2ms/step - loss: 0.1281 - mean_absolute_error: 0.0348 - val_loss: 0.1834 - val_mean_absolute_error: 0.0851\n",
      "Epoch 15/30\n",
      "483/483 [==============================] - 1s 2ms/step - loss: 0.1228 - mean_absolute_error: 0.0334 - val_loss: 0.1702 - val_mean_absolute_error: 0.0819\n",
      "Epoch 16/30\n",
      "483/483 [==============================] - 1s 2ms/step - loss: 0.1186 - mean_absolute_error: 0.0322 - val_loss: 0.1569 - val_mean_absolute_error: 0.0785\n",
      "Epoch 17/30\n",
      "483/483 [==============================] - 1s 2ms/step - loss: 0.1151 - mean_absolute_error: 0.0314 - val_loss: 0.1472 - val_mean_absolute_error: 0.0763\n",
      "Epoch 18/30\n",
      "483/483 [==============================] - 1s 2ms/step - loss: 0.1122 - mean_absolute_error: 0.0306 - val_loss: 0.1453 - val_mean_absolute_error: 0.0773\n",
      "Epoch 19/30\n",
      "483/483 [==============================] - 1s 2ms/step - loss: 0.1097 - mean_absolute_error: 0.0300 - val_loss: 0.1395 - val_mean_absolute_error: 0.0764\n",
      "Epoch 20/30\n",
      "483/483 [==============================] - 1s 2ms/step - loss: 0.1077 - mean_absolute_error: 0.0294 - val_loss: 0.1310 - val_mean_absolute_error: 0.0738\n",
      "Epoch 21/30\n",
      "483/483 [==============================] - 1s 2ms/step - loss: 0.1058 - mean_absolute_error: 0.0289 - val_loss: 0.1191 - val_mean_absolute_error: 0.0688\n",
      "Epoch 22/30\n",
      "483/483 [==============================] - 1s 2ms/step - loss: 0.1043 - mean_absolute_error: 0.0286 - val_loss: 0.1163 - val_mean_absolute_error: 0.0685\n",
      "Epoch 23/30\n",
      "483/483 [==============================] - 1s 2ms/step - loss: 0.1029 - mean_absolute_error: 0.0282 - val_loss: 0.1223 - val_mean_absolute_error: 0.0729\n",
      "Epoch 24/30\n",
      "483/483 [==============================] - 1s 2ms/step - loss: 0.1017 - mean_absolute_error: 0.0278 - val_loss: 0.1102 - val_mean_absolute_error: 0.0668\n",
      "Epoch 25/30\n",
      "483/483 [==============================] - 1s 2ms/step - loss: 0.1006 - mean_absolute_error: 0.0276 - val_loss: 0.1107 - val_mean_absolute_error: 0.0681\n",
      "Epoch 26/30\n",
      "483/483 [==============================] - 1s 2ms/step - loss: 0.0997 - mean_absolute_error: 0.0273 - val_loss: 0.1104 - val_mean_absolute_error: 0.0687\n",
      "Epoch 27/30\n",
      "483/483 [==============================] - 1s 2ms/step - loss: 0.0988 - mean_absolute_error: 0.0270 - val_loss: 0.1058 - val_mean_absolute_error: 0.0664\n",
      "Epoch 28/30\n",
      "483/483 [==============================] - 1s 2ms/step - loss: 0.0980 - mean_absolute_error: 0.0268 - val_loss: 0.1099 - val_mean_absolute_error: 0.0697\n",
      "Epoch 29/30\n",
      "483/483 [==============================] - 1s 2ms/step - loss: 0.0973 - mean_absolute_error: 0.0266 - val_loss: 0.1096 - val_mean_absolute_error: 0.0701\n",
      "Epoch 30/30\n",
      "483/483 [==============================] - 1s 2ms/step - loss: 0.0966 - mean_absolute_error: 0.0263 - val_loss: 0.1028 - val_mean_absolute_error: 0.0660\n",
      "898/898 [==============================] - 1s 1ms/step\n"
     ]
    },
    {
     "data": {
      "image/png": "[encoded data removed]",
      "text/plain": [
       "<Figure size 600x400 with 1 Axes>"
      ]
     },
     "metadata": {
      "needs_background": "light"
     },
     "output_type": "display_data"
    },
    {
     "name": "stdout",
     "output_type": "stream",
     "text": [
      "28718 unclassified features remaining\n",
      "Continue with another iteration? (1=Yes, 0=No): \n"
     ]
    },
    {
     "name": "stdin",
     "output_type": "stream",
     "text": [
      " 0\n"
     ]
    },
    {
     "name": "stdout",
     "output_type": "stream",
     "text": [
      "965/965 [==============================] - 1s 1ms/step\n",
      "done\n",
      "formatting output..."
     ]
    }
   ],
   "source": [
    "# format X\n",
    "if __name__ == \"__main__\":\n",
    "    ms1_peaks_curated,X_norm,X_orig,tics,scores,progress,peak_scores,performance,peak_intensities = integ.curatePeaks(raw_data,peakList,\n",
    "                                                                                min_peaks=50000,shift=7.0,\n",
    "                                                                                smooth_epochs=20,class_epochs=30,\n",
    "                                                                                threshold=0.5,useSynthetic=True,\n",
    "                                                                                numManualPerRound=10,validation_split=0.1,\n",
    "                                                                                autoClassify = False,noise=500)"
   ]
  },
  {
   "cell_type": "code",
   "execution_count": 25,
   "metadata": {
    "scrolled": true
   },
   "outputs": [
    {
     "data": {
      "text/plain": [
       "{'../data/NIST/raw_data/NIST1950_neg_ID_01.mzML':                mz         rt\n",
       " 1       68.084575   0.903144\n",
       " 5       68.995698   0.965815\n",
       " 30      70.945975   5.141205\n",
       " 33      71.013744   1.523133\n",
       " 34      71.050151   1.157119\n",
       " ...           ...        ...\n",
       " 10285  894.691611  12.465400\n",
       " 10286  894.720642  11.257127\n",
       " 10287  895.364829  12.735212\n",
       " 10288  896.688251  12.321862\n",
       " 10290  897.707274  12.739011\n",
       " \n",
       " [4543 rows x 2 columns],\n",
       " '../data/NIST/raw_data/NIST1950_neg_ID_03.mzML':                mz         rt\n",
       " 1       68.084575   0.903144\n",
       " 2       69.009349   0.821771\n",
       " 5       68.995698   0.965815\n",
       " 30      70.945975   5.141205\n",
       " 33      71.013744   1.523133\n",
       " ...           ...        ...\n",
       " 10284  894.667833   8.355307\n",
       " 10285  894.691611  12.465400\n",
       " 10287  895.364829  12.735212\n",
       " 10289  896.662404   8.147289\n",
       " 10290  897.707274  12.739011\n",
       " \n",
       " [4597 rows x 2 columns],\n",
       " '../data/NIST/raw_data/NIST1950_neg_ID_04.mzML':                mz         rt\n",
       " 1       68.084575   0.903144\n",
       " 5       68.995698   0.965815\n",
       " 30      70.945975   5.141205\n",
       " 33      71.013744   1.523133\n",
       " 34      71.050151   1.157119\n",
       " ...           ...        ...\n",
       " 10285  894.691611  12.465400\n",
       " 10287  895.364829  12.735212\n",
       " 10288  896.688251  12.321862\n",
       " 10289  896.662404   8.147289\n",
       " 10290  897.707274  12.739011\n",
       " \n",
       " [4623 rows x 2 columns]}"
      ]
     },
     "execution_count": 25,
     "metadata": {},
     "output_type": "execute_result"
    }
   ],
   "source": [
    "ms1_peaks_curated"
   ]
  },
  {
   "cell_type": "code",
   "execution_count": 26,
   "metadata": {},
   "outputs": [
    {
     "name": "stdout",
     "output_type": "stream",
     "text": [
      "[28738, 28728]\n"
     ]
    },
    {
     "data": {
      "text/plain": [
       "Text(0, 0.5, 'log10(# of uncertain peaks)')"
      ]
     },
     "execution_count": 26,
     "metadata": {},
     "output_type": "execute_result"
    },
    {
     "data": {
      "image/png": "[encoded data removed]",
      "text/plain": [
       "<Figure size 600x400 with 1 Axes>"
      ]
     },
     "metadata": {
      "needs_background": "light"
     },
     "output_type": "display_data"
    }
   ],
   "source": [
    "print(progress)\n",
    "plt.plot(list(range(len(progress))),np.log10(progress),color=\"black\")\n",
    "plt.scatter(list(range(len(progress))),np.log10(progress),color=\"black\")\n",
    "plt.xlabel(\"round\")\n",
    "plt.ylabel(\"log10(# of uncertain peaks)\")"
   ]
  },
  {
   "cell_type": "code",
   "execution_count": 27,
   "metadata": {},
   "outputs": [
    {
     "name": "stdout",
     "output_type": "stream",
     "text": [
      "\n"
     ]
    },
    {
     "data": {
      "text/plain": [
       "Text(0, 0.5, 'validation mean absolute error')"
      ]
     },
     "execution_count": 27,
     "metadata": {},
     "output_type": "execute_result"
    },
    {
     "data": {
      "image/png": "[encoded data removed]",
      "text/plain": [
       "<Figure size 600x400 with 1 Axes>"
      ]
     },
     "metadata": {
      "needs_background": "light"
     },
     "output_type": "display_data"
    }
   ],
   "source": [
    "print()\n",
    "plt.plot(list(range(len(performance))),performance,color=\"black\")\n",
    "plt.scatter(list(range(len(performance))),performance,color=\"black\")\n",
    "plt.xlabel(\"round\")\n",
    "plt.ylabel(\"validation mean absolute error\")"
   ]
  },
  {
   "cell_type": "code",
   "execution_count": 28,
   "metadata": {},
   "outputs": [
    {
     "data": {
      "text/plain": [
       "<matplotlib.colorbar.Colorbar at 0x18dbcd8cb88>"
      ]
     },
     "execution_count": 28,
     "metadata": {},
     "output_type": "execute_result"
    },
    {
     "data": {
      "image/png": "[encoded data removed]",
      "text/plain": [
       "<Figure size 600x400 with 2 Axes>"
      ]
     },
     "metadata": {
      "needs_background": "light"
     },
     "output_type": "display_data"
    }
   ],
   "source": [
    "pca = PCA(2)\n",
    "loads = pca.fit_transform(X_orig)\n",
    "plt.scatter(loads[:,0],loads[:,1],c=tics,s=.1,alpha=.5)\n",
    "plt.xlabel(\"PC1 (\" + str(np.round(100*pca.explained_variance_ratio_[0],2)) + \"%)\")\n",
    "plt.ylabel(\"PC2 (\" + str(np.round(100*pca.explained_variance_ratio_[1],2)) + \"%)\")\n",
    "plt.colorbar(label=\"log10(intensity)\")"
   ]
  },
  {
   "cell_type": "code",
   "execution_count": 37,
   "metadata": {},
   "outputs": [
    {
     "data": {
      "text/plain": [
       "(-3.0, 5.0)"
      ]
     },
     "execution_count": 37,
     "metadata": {},
     "output_type": "execute_result"
    },
    {
     "data": {
      "image/png": "[encoded data removed]",
      "text/plain": [
       "<Figure size 600x400 with 2 Axes>"
      ]
     },
     "metadata": {
      "needs_background": "light"
     },
     "output_type": "display_data"
    }
   ],
   "source": [
    "pca = PCA(2)\n",
    "loads = pca.fit_transform(X_norm)\n",
    "plt.scatter(loads[:,0],loads[:,1],c=tics,s=.1,alpha=.5)\n",
    "plt.xlabel(\"PC1 (\" + str(np.round(100*pca.explained_variance_ratio_[0],2)) + \"%)\")\n",
    "plt.ylabel(\"PC2 (\" + str(np.round(100*pca.explained_variance_ratio_[1],2)) + \"%)\")\n",
    "plt.colorbar(label=\"log10(intensity)\")\n",
    "plt.xlim((-3,6))\n",
    "plt.ylim((-3,5))"
   ]
  },
  {
   "cell_type": "code",
   "execution_count": 57,
   "metadata": {},
   "outputs": [
    {
     "data": {
      "text/plain": [
       "<seaborn.matrix.ClusterGrid at 0x18e2f47bf88>"
      ]
     },
     "execution_count": 57,
     "metadata": {},
     "output_type": "execute_result"
    },
    {
     "data": {
      "image/png": "[encoded data removed]",
      "text/plain": [
       "<Figure size 1000x1000 with 5 Axes>"
      ]
     },
     "metadata": {
      "needs_background": "light"
     },
     "output_type": "display_data"
    }
   ],
   "source": [
    "def tmp(val):\n",
    "    if val > 0.5:\n",
    "        return \"blue\"\n",
    "    return \"grey\"\n",
    "row_colors = [tmp(x) for x in scores]\n",
    "sb.clustermap(X_orig,col_cluster=False,cmap=\"magma\",vmin=0,vmax=0.7,xticklabels = False,yticklabels = False,row_colors=row_colors)"
   ]
  },
  {
   "cell_type": "code",
   "execution_count": 38,
   "metadata": {},
   "outputs": [
    {
     "data": {
      "text/plain": [
       "(-3.0, 5.0)"
      ]
     },
     "execution_count": 38,
     "metadata": {},
     "output_type": "execute_result"
    },
    {
     "data": {
      "image/png": "[encoded data removed]",
      "text/plain": [
       "<Figure size 600x400 with 2 Axes>"
      ]
     },
     "metadata": {
      "needs_background": "light"
     },
     "output_type": "display_data"
    }
   ],
   "source": [
    "pca = PCA(2)\n",
    "loads = pca.fit_transform(X_norm)\n",
    "colormap = LinearSegmentedColormap.from_list(\"test\",colors=[\"grey\", \"blue\"],N=256)\n",
    "plt.scatter(loads[:,0],loads[:,1],c=scores,s=.1,alpha=.5,cmap=colormap)\n",
    "plt.xlabel(\"PC1 (\" + str(np.round(100*pca.explained_variance_ratio_[0],2)) + \"%)\")\n",
    "plt.ylabel(\"PC2 (\" + str(np.round(100*pca.explained_variance_ratio_[1],2)) + \"%)\")\n",
    "plt.colorbar(label=\"Peak Score\")\n",
    "plt.xlim((-3,6))\n",
    "plt.ylim((-3,5))"
   ]
  },
  {
   "cell_type": "code",
   "execution_count": 39,
   "metadata": {},
   "outputs": [
    {
     "data": {
      "text/plain": [
       "Text(0, 0.5, '% of features')"
      ]
     },
     "execution_count": 39,
     "metadata": {},
     "output_type": "execute_result"
    },
    {
     "data": {
      "image/png": "[encoded data removed]",
      "text/plain": [
       "<Figure size 600x400 with 1 Axes>"
      ]
     },
     "metadata": {
      "needs_background": "light"
     },
     "output_type": "display_data"
    }
   ],
   "source": [
    "df = {}\n",
    "for file in files:\n",
    "    for index,row in peakList.iterrows():\n",
    "        if index in ms1_peaks_curated[rawDataDir + file].index.values:\n",
    "            df[len(df)] = {\"sample\":file,\"classification\":\"true peak\"}\n",
    "        else:\n",
    "            df[len(df)] = {\"sample\":file,\"classification\":\"artifact\"}\n",
    "\n",
    "df = pd.DataFrame.from_dict(df,orient=\"index\")\n",
    "\n",
    "def aggregate(rows,columns,df):\n",
    "    column_keys = df[columns].unique()\n",
    "    row_keys = df[rows].unique()\n",
    "\n",
    "    agg = { key : [ 100*len(df[(df[rows]==value) & (df[columns]==key)]) / len(df[df[rows]==value]) for value in row_keys]\n",
    "               for key in column_keys }\n",
    "\n",
    "    aggdf = pd.DataFrame(agg,index = row_keys)\n",
    "    aggdf.index.rename(rows,inplace=True)\n",
    "\n",
    "    return aggdf\n",
    "\n",
    "aggregate('sample','classification',df).plot(kind='bar',stacked=True,color=[\"grey\",\"blue\"])\n",
    "plt.xticks([],[])\n",
    "plt.ylabel(\"% of features\")"
   ]
  },
  {
   "cell_type": "code",
   "execution_count": 43,
   "metadata": {},
   "outputs": [
    {
     "name": "stdout",
     "output_type": "stream",
     "text": [
      "['NIST1950_neg_ID_01.mzML', 'NIST1950_neg_ID_03.mzML', 'NIST1950_neg_ID_04.mzML']\n"
     ]
    },
    {
     "data": {
      "image/png": "[encoded data removed]",
      "text/plain": [
       "<Figure size 300x400 with 1 Axes>"
      ]
     },
     "metadata": {
      "needs_background": "light"
     },
     "output_type": "display_data"
    }
   ],
   "source": [
    "def plot_overlayedEIC(rawdatas,mz,rt_start,rt_end,resolution=60,smoothing=0,alpha=0.3):\n",
    "    ts = np.linspace(rt_start,rt_end,resolution)\n",
    "    for data in rawdatas:\n",
    "        s = data.interpolate_data(mz,rt_start,rt_end,smoothing)\n",
    "        ints  = [np.max([x,0]) for x in s(ts)]\n",
    "        plt.plot(ts,ints,alpha=alpha)\n",
    "\n",
    "file = rawDataDir + files[0]\n",
    "print(files)\n",
    "inds = list(peakList.index.values)\n",
    "rd.shuffle(inds)\n",
    "plt.figure(figsize=(3,4))\n",
    "for i in inds:\n",
    "    if i in ms1_peaks_curated[file].index.values:\n",
    "        plot_overlayedEIC(raw_data,ms1_peaks_curated[file].at[i,\"mz\"],ms1_peaks_curated[file].at[i,\"rt\"]-.5,ms1_peaks_curated[file].at[i,\"rt\"]+.5,resolution=resolution,alpha=0.7)\n",
    "        plt.xlabel(\"RT\")\n",
    "        plt.ylabel(\"Intensity\")\n",
    "        break"
   ]
  },
  {
   "cell_type": "code",
   "execution_count": 44,
   "metadata": {},
   "outputs": [
    {
     "data": {
      "image/png": "[encoded data removed]",
      "text/plain": [
       "<Figure size 400x400 with 1 Axes>"
      ]
     },
     "metadata": {
      "needs_background": "light"
     },
     "output_type": "display_data"
    }
   ],
   "source": [
    "file = rawDataDir + files[0]\n",
    "inds = list(peakList.index.values)\n",
    "rd.shuffle(inds)\n",
    "plt.figure(figsize=(4,4))\n",
    "\n",
    "for i in inds:\n",
    "    if i not in ms1_peaks_curated[file].index.values:\n",
    "        plot_overlayedEIC(raw_data,peakList.at[i,\"mz\"],peakList.at[i,\"rt\"]-.5,peakList.at[i,\"rt\"] + .5,resolution=resolution,alpha=0.7)\n",
    "        plt.xlabel(\"RT\")\n",
    "        plt.ylabel(\"Intensity\")\n",
    "        break"
   ]
  },
  {
   "cell_type": "code",
   "execution_count": 47,
   "metadata": {},
   "outputs": [
    {
     "name": "stdout",
     "output_type": "stream",
     "text": [
      "220 [[102  43]\n",
      " [ 10  65]]\n"
     ]
    },
    {
     "data": {
      "text/plain": [
       "0.759090909090909"
      ]
     },
     "execution_count": 47,
     "metadata": {},
     "output_type": "execute_result"
    }
   ],
   "source": [
    "true = []\n",
    "pred = []\n",
    "file = files[0]\n",
    "for index,row in peakList_labeled.iterrows():\n",
    "    if index in order:\n",
    "        if index in ms1_peaks_curated[rawDataDir + file].index.values:\n",
    "            pred.append(1.0)\n",
    "        else:\n",
    "            pred.append(0.0)\n",
    "        true.append(row[\"classification\"])\n",
    "print(len(true),confusion_matrix(true,pred))\n",
    "peakdetectAcc = met.accuracy_score(true,pred)\n",
    "peakdetectAcc"
   ]
  },
  {
   "cell_type": "code",
   "execution_count": 48,
   "metadata": {},
   "outputs": [
    {
     "data": {
      "text/html": [
       "<div>\n",
       "<style scoped>\n",
       "    .dataframe tbody tr th:only-of-type {\n",
       "        vertical-align: middle;\n",
       "    }\n",
       "\n",
       "    .dataframe tbody tr th {\n",
       "        vertical-align: top;\n",
       "    }\n",
       "\n",
       "    .dataframe thead th {\n",
       "        text-align: right;\n",
       "    }\n",
       "</style>\n",
       "<table border=\"1\" class=\"dataframe\">\n",
       "  <thead>\n",
       "    <tr style=\"text-align: right;\">\n",
       "      <th></th>\n",
       "      <th>mz</th>\n",
       "      <th>rt</th>\n",
       "      <th>../data/NIST/raw_data/NIST1950_neg_ID_01.mzML</th>\n",
       "      <th>../data/NIST/raw_data/NIST1950_neg_ID_03.mzML</th>\n",
       "      <th>../data/NIST/raw_data/NIST1950_neg_ID_04.mzML</th>\n",
       "    </tr>\n",
       "  </thead>\n",
       "  <tbody>\n",
       "    <tr>\n",
       "      <th>1</th>\n",
       "      <td>68.084575</td>\n",
       "      <td>0.903144</td>\n",
       "      <td>1.000000</td>\n",
       "      <td>0.999323</td>\n",
       "      <td>0.999382</td>\n",
       "    </tr>\n",
       "    <tr>\n",
       "      <th>2</th>\n",
       "      <td>69.009349</td>\n",
       "      <td>0.821771</td>\n",
       "      <td>0.000000</td>\n",
       "      <td>0.727260</td>\n",
       "      <td>0.466670</td>\n",
       "    </tr>\n",
       "    <tr>\n",
       "      <th>3</th>\n",
       "      <td>69.009343</td>\n",
       "      <td>13.699052</td>\n",
       "      <td>0.000000</td>\n",
       "      <td>0.000039</td>\n",
       "      <td>0.000073</td>\n",
       "    </tr>\n",
       "    <tr>\n",
       "      <th>4</th>\n",
       "      <td>69.009343</td>\n",
       "      <td>14.196510</td>\n",
       "      <td>0.000000</td>\n",
       "      <td>0.000083</td>\n",
       "      <td>0.000093</td>\n",
       "    </tr>\n",
       "    <tr>\n",
       "      <th>5</th>\n",
       "      <td>68.995698</td>\n",
       "      <td>0.965815</td>\n",
       "      <td>1.000000</td>\n",
       "      <td>0.997985</td>\n",
       "      <td>0.997173</td>\n",
       "    </tr>\n",
       "    <tr>\n",
       "      <th>...</th>\n",
       "      <td>...</td>\n",
       "      <td>...</td>\n",
       "      <td>...</td>\n",
       "      <td>...</td>\n",
       "      <td>...</td>\n",
       "    </tr>\n",
       "    <tr>\n",
       "      <th>10288</th>\n",
       "      <td>896.688251</td>\n",
       "      <td>12.321862</td>\n",
       "      <td>0.635671</td>\n",
       "      <td>0.000000</td>\n",
       "      <td>0.998810</td>\n",
       "    </tr>\n",
       "    <tr>\n",
       "      <th>10289</th>\n",
       "      <td>896.662404</td>\n",
       "      <td>8.147289</td>\n",
       "      <td>0.000000</td>\n",
       "      <td>0.963442</td>\n",
       "      <td>0.995454</td>\n",
       "    </tr>\n",
       "    <tr>\n",
       "      <th>10290</th>\n",
       "      <td>897.707274</td>\n",
       "      <td>12.739011</td>\n",
       "      <td>0.997409</td>\n",
       "      <td>0.960923</td>\n",
       "      <td>0.997494</td>\n",
       "    </tr>\n",
       "    <tr>\n",
       "      <th>10291</th>\n",
       "      <td>897.787089</td>\n",
       "      <td>9.544567</td>\n",
       "      <td>0.009181</td>\n",
       "      <td>0.025042</td>\n",
       "      <td>0.259596</td>\n",
       "    </tr>\n",
       "    <tr>\n",
       "      <th>10292</th>\n",
       "      <td>897.732226</td>\n",
       "      <td>10.801036</td>\n",
       "      <td>0.000000</td>\n",
       "      <td>0.000965</td>\n",
       "      <td>0.000078</td>\n",
       "    </tr>\n",
       "  </tbody>\n",
       "</table>\n",
       "<p>10292 rows × 5 columns</p>\n",
       "</div>"
      ],
      "text/plain": [
       "               mz         rt  ../data/NIST/raw_data/NIST1950_neg_ID_01.mzML  \\\n",
       "1       68.084575   0.903144                                       1.000000   \n",
       "2       69.009349   0.821771                                       0.000000   \n",
       "3       69.009343  13.699052                                       0.000000   \n",
       "4       69.009343  14.196510                                       0.000000   \n",
       "5       68.995698   0.965815                                       1.000000   \n",
       "...           ...        ...                                            ...   \n",
       "10288  896.688251  12.321862                                       0.635671   \n",
       "10289  896.662404   8.147289                                       0.000000   \n",
       "10290  897.707274  12.739011                                       0.997409   \n",
       "10291  897.787089   9.544567                                       0.009181   \n",
       "10292  897.732226  10.801036                                       0.000000   \n",
       "\n",
       "       ../data/NIST/raw_data/NIST1950_neg_ID_03.mzML  \\\n",
       "1                                           0.999323   \n",
       "2                                           0.727260   \n",
       "3                                           0.000039   \n",
       "4                                           0.000083   \n",
       "5                                           0.997985   \n",
       "...                                              ...   \n",
       "10288                                       0.000000   \n",
       "10289                                       0.963442   \n",
       "10290                                       0.960923   \n",
       "10291                                       0.025042   \n",
       "10292                                       0.000965   \n",
       "\n",
       "       ../data/NIST/raw_data/NIST1950_neg_ID_04.mzML  \n",
       "1                                           0.999382  \n",
       "2                                           0.466670  \n",
       "3                                           0.000073  \n",
       "4                                           0.000093  \n",
       "5                                           0.997173  \n",
       "...                                              ...  \n",
       "10288                                       0.998810  \n",
       "10289                                       0.995454  \n",
       "10290                                       0.997494  \n",
       "10291                                       0.259596  \n",
       "10292                                       0.000078  \n",
       "\n",
       "[10292 rows x 5 columns]"
      ]
     },
     "execution_count": 48,
     "metadata": {},
     "output_type": "execute_result"
    }
   ],
   "source": [
    "peak_scores"
   ]
  },
  {
   "cell_type": "code",
   "execution_count": 58,
   "metadata": {},
   "outputs": [
    {
     "data": {
      "text/plain": [
       "0.4732"
      ]
     },
     "execution_count": 58,
     "metadata": {},
     "output_type": "execute_result"
    },
    {
     "data": {
      "image/png": "[encoded data removed]",
      "text/plain": [
       "<Figure size 600x400 with 1 Axes>"
      ]
     },
     "metadata": {
      "needs_background": "light"
     },
     "output_type": "display_data"
    }
   ],
   "source": [
    "def makePRCPlot(pred,true,noSkill=True,lab = \"\"):\n",
    "\n",
    "    prec, recall, threshs = met.precision_recall_curve(true, pred)\n",
    "\n",
    "    auc = np.round(met.auc(recall, prec), 4)\n",
    "\n",
    "    plt.plot(recall, prec, label= lab + \" prAUC=\" + str(auc))\n",
    "    plt.xlabel(\"Recall\")\n",
    "    plt.ylabel(\"Precision\")\n",
    "    if noSkill:\n",
    "        numPositive = len([x for x in true if x > 0.5])\n",
    "        numNegative = len(true) - numPositive\n",
    "        plt.plot([0, 1.0],\n",
    "                 [numPositive / float(numPositive + numNegative), numPositive / float(numPositive + numNegative)],\n",
    "                 label=\"NSL prAUC=\" + str(\n",
    "                     np.round(numPositive / float(numPositive + numNegative), 4)))\n",
    "    plt.legend()\n",
    "    return auc\n",
    "\n",
    "true = []\n",
    "pred = []\n",
    "file = files[0]\n",
    "for index,row in peakList_labeled.iterrows():\n",
    "    if index in order:\n",
    "        pred.append(peak_scores.at[index,rawDataDir+file])\n",
    "        true.append(row[\"classification\"])\n",
    "\n",
    "makePRCPlot(pred,true,lab=\"PeakDetective\")\n",
    "makePRCPlot(pred_neatms_tl,true_neatms_tl,noSkill=False,lab=\"NeatMS TL\")\n",
    "makePRCPlot(pred_neatms,true_neatms,noSkill = False,lab=\"NeatMS PT\")\n"
   ]
  },
  {
   "cell_type": "code",
   "execution_count": 50,
   "metadata": {},
   "outputs": [
    {
     "data": {
      "text/plain": [
       "<AxesSubplot:xlabel='method', ylabel='accuracy'>"
      ]
     },
     "execution_count": 50,
     "metadata": {},
     "output_type": "execute_result"
    },
    {
     "data": {
      "image/png": "[encoded data removed]",
      "text/plain": [
       "<Figure size 600x400 with 1 Axes>"
      ]
     },
     "metadata": {
      "needs_background": "light"
     },
     "output_type": "display_data"
    }
   ],
   "source": [
    "plt_df = {0:{\"method\": \"NeatMS PT\",\"accuracy\":untrained_accuracy},1:{\"method\": \"NeatMS TL\",\"accuracy\":trained_accuracy},2:{\"method\": \"PeakDetective\",\"accuracy\":peakdetectAcc}}\n",
    "plt_df = pd.DataFrame.from_dict(plt_df,orient=\"index\")\n",
    "sb.barplot(data=plt_df,x=\"method\",y=\"accuracy\")"
   ]
  },
  {
   "cell_type": "code",
   "execution_count": null,
   "metadata": {},
   "outputs": [],
   "source": []
  }
 ],
 "metadata": {
  "kernelspec": {
   "display_name": "Python 3",
   "language": "python",
   "name": "python3"
  },
  "language_info": {
   "codemirror_mode": {
    "name": "ipython",
    "version": 3
   },
   "file_extension": ".py",
   "mimetype": "text/x-python",
   "name": "python",
   "nbconvert_exporter": "python",
   "pygments_lexer": "ipython3",
   "version": "3.7.6"
  }
 },
 "nbformat": 4,
 "nbformat_minor": 4
}
