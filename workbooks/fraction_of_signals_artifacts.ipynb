{
 "cells": [
  {
   "cell_type": "code",
   "execution_count": 3,
   "metadata": {},
   "outputs": [],
   "source": [
    "import numpy as np\n",
    "import pandas as pd\n",
    "import matplotlib.pyplot as plt\n",
    "import os\n",
    "import random as rd\n",
    "import sys\n",
    "import scipy.stats as stats\n",
    "import seaborn as sb\n",
    "\n"
   ]
  },
  {
   "cell_type": "code",
   "execution_count": 4,
   "metadata": {},
   "outputs": [],
   "source": [
    "#importlib.reload(PeakDetective)"
   ]
  },
  {
   "cell_type": "code",
   "execution_count": 5,
   "metadata": {},
   "outputs": [],
   "source": [
    "datadirs = [\"D:/PeakDetective/data/covid_plasma/\",\"D:/PeakDetective/data/ST000081/\",\"D:/PeakDetective/data/ST001882_GT_RP_Positive/\",\"D:/PeakDetective/data/ST000992/\"]"
   ]
  },
  {
   "cell_type": "code",
   "execution_count": 6,
   "metadata": {},
   "outputs": [
    {
     "data": {
      "image/png": "[encoded data removed]",
      "text/plain": [
       "<Figure size 432x288 with 1 Axes>"
      ]
     },
     "metadata": {
      "needs_background": "light"
     },
     "output_type": "display_data"
    }
   ],
   "source": [
    "df = {}\n",
    "counter = 1\n",
    "for datadir in datadirs:\n",
    "    files = [x for x in os.listdir(datadir) if \".mzML\" in x]\n",
    "    peakList_labeled = pd.read_csv(datadir + files[0].replace(\".mzML\",\"_classified_peaks.csv\"),index_col=0)\n",
    "    for index,row in peakList_labeled.iterrows():\n",
    "        if row[\"classification\"] > 0.5:\n",
    "            df[len(df)] = {\"dataset\":\"dataset \" + str(counter) ,\"classification\":\"true peak\"}\n",
    "        else:\n",
    "            df[len(df)] = {\"dataset\":\"dataset \" + str(counter) ,\"classification\":\"artifact\"}\n",
    "    counter += 1\n",
    "    \n",
    "df = pd.DataFrame.from_dict(df,orient=\"index\")\n",
    "\n",
    "def aggregate(rows,columns,df):\n",
    "    column_keys = df[columns].unique()\n",
    "    row_keys = df[rows].unique()\n",
    "\n",
    "    agg = { key : [ 100*len(df[(df[rows]==value) & (df[columns]==key)]) / len(df[df[rows]==value]) for value in row_keys]\n",
    "               for key in column_keys }\n",
    "\n",
    "    aggdf = pd.DataFrame(agg,index = row_keys)\n",
    "    aggdf.index.rename(rows,inplace=True)\n",
    "\n",
    "    return aggdf\n",
    "\n",
    "\n",
    "res = aggregate('dataset','classification',df)\n",
    "res.plot(kind='bar',stacked=True,color=[\"blue\",\"grey\"])\n",
    "#plt.xticks([],[])\n",
    "plt.ylabel(\"% of features\")\n",
    "plt.tight_layout()\n",
    "plt.savefig(\"../manuscript/figures/frac_artifacts.png\",dpi=300)"
   ]
  },
  {
   "cell_type": "code",
   "execution_count": 7,
   "metadata": {},
   "outputs": [
    {
     "data": {
      "text/html": [
       "<div>\n",
       "<style scoped>\n",
       "    .dataframe tbody tr th:only-of-type {\n",
       "        vertical-align: middle;\n",
       "    }\n",
       "\n",
       "    .dataframe tbody tr th {\n",
       "        vertical-align: top;\n",
       "    }\n",
       "\n",
       "    .dataframe thead th {\n",
       "        text-align: right;\n",
       "    }\n",
       "</style>\n",
       "<table border=\"1\" class=\"dataframe\">\n",
       "  <thead>\n",
       "    <tr style=\"text-align: right;\">\n",
       "      <th></th>\n",
       "      <th>true peak</th>\n",
       "      <th>artifact</th>\n",
       "    </tr>\n",
       "    <tr>\n",
       "      <th>dataset</th>\n",
       "      <th></th>\n",
       "      <th></th>\n",
       "    </tr>\n",
       "  </thead>\n",
       "  <tbody>\n",
       "    <tr>\n",
       "      <th>dataset 1</th>\n",
       "      <td>54.4</td>\n",
       "      <td>45.6</td>\n",
       "    </tr>\n",
       "    <tr>\n",
       "      <th>dataset 2</th>\n",
       "      <td>41.4</td>\n",
       "      <td>58.6</td>\n",
       "    </tr>\n",
       "    <tr>\n",
       "      <th>dataset 3</th>\n",
       "      <td>71.4</td>\n",
       "      <td>28.6</td>\n",
       "    </tr>\n",
       "    <tr>\n",
       "      <th>dataset 4</th>\n",
       "      <td>32.0</td>\n",
       "      <td>68.0</td>\n",
       "    </tr>\n",
       "  </tbody>\n",
       "</table>\n",
       "</div>"
      ],
      "text/plain": [
       "           true peak  artifact\n",
       "dataset                       \n",
       "dataset 1       54.4      45.6\n",
       "dataset 2       41.4      58.6\n",
       "dataset 3       71.4      28.6\n",
       "dataset 4       32.0      68.0"
      ]
     },
     "execution_count": 7,
     "metadata": {},
     "output_type": "execute_result"
    }
   ],
   "source": [
    "res"
   ]
  },
  {
   "cell_type": "code",
   "execution_count": 19,
   "metadata": {},
   "outputs": [
    {
     "data": {
      "text/plain": [
       "44.26666666666667"
      ]
     },
     "execution_count": 19,
     "metadata": {},
     "output_type": "execute_result"
    }
   ],
   "source": [
    "np.mean(res[\"artifact\"])"
   ]
  },
  {
   "cell_type": "code",
   "execution_count": null,
   "metadata": {},
   "outputs": [],
   "source": []
  }
 ],
 "metadata": {
  "kernelspec": {
   "display_name": "Python 3",
   "language": "python",
   "name": "python3"
  },
  "language_info": {
   "codemirror_mode": {
    "name": "ipython",
    "version": 3
   },
   "file_extension": ".py",
   "mimetype": "text/x-python",
   "name": "python",
   "nbconvert_exporter": "python",
   "pygments_lexer": "ipython3",
   "version": "3.7.6"
  }
 },
 "nbformat": 4,
 "nbformat_minor": 4
}
