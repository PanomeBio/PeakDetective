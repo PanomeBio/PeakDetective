{
 "cells": [
  {
   "cell_type": "markdown",
   "metadata": {
    "id": "IaVQ2aogAroV"
   },
   "source": [
    "# PeakDetective Usage Examples and Tutorial\n",
    "\n",
    "This notebook details different use cases for the PeakDetective software applied to the processing of LC/MS metabolomics data.\n",
    "\n",
    "If you have any questions or encounter any issues, please contact Ethan at gjpcolab@gmail.com. \n",
    "\n",
    "Files can be downloaded from the panel to the left. For faster performance, connect to a GPU by changing the runtime.\n",
    "\n"
   ]
  },
  {
   "cell_type": "markdown",
   "metadata": {
    "id": "cfCGriRbulSt"
   },
   "source": [
    "Before you start: upload files using the panel to the left or run the cell below to download example data"
   ]
  },
  {
   "cell_type": "code",
   "execution_count": 1,
   "metadata": {},
   "outputs": [
    {
     "name": "stderr",
     "output_type": "stream",
     "text": [
      "Cloning into 'example_data_for_colab'...\n"
     ]
    },
    {
     "data": {
      "text/plain": [
       "0"
      ]
     },
     "execution_count": 1,
     "metadata": {},
     "output_type": "execute_result"
    }
   ],
   "source": [
    "import os\n",
    "os.system(\"git clone https://github.com/pattilab/example_data_for_colab.git\")"
   ]
  },
  {
   "cell_type": "markdown",
   "metadata": {},
   "source": [
    "# Install PeakDetective"
   ]
  },
  {
   "cell_type": "code",
   "execution_count": 1,
   "metadata": {},
   "outputs": [],
   "source": [
    "#!pip install PeakDetective\n",
    "import PeakDetective\n",
    "import PeakDetective.detection_helper as detection_helper\n",
    "import os\n",
    "import pandas as pd\n",
    "import matplotlib.pyplot as plt\n",
    "import numpy as np\n",
    "import seaborn as sb\n",
    "import pickle as pkl\n",
    "import os\n",
    "import shutil\n",
    "\n",
    "#model parameters, not recomended to change\n",
    "resolution = 60 #number of data point in 1 min EIC\n",
    "window = 1.0 #size of EIC window (in minutes)\n",
    "min_peaks = 100000 #minimum number of peaks used to train autoencoder\n",
    "smooth_epochs = 10 #number of smoothing epochs to use\n",
    "batchSizeSmoother = 64 #batch size for training smoother\n",
    "validationSplitSmoother = 0.1 #fraction of data used for validation split when training smoother\n",
    "minClassifierTrainEpochs = 200 #minimum number of epochs for training classifier\n",
    "maxClassifierTrainEpochs = 1000 #maximum number of epochs for training classifier\n",
    "classifierBatchSize = 4 #batch size for training classifier\n",
    "randomRestarts = 1 #number of random restarts to use when training classifier\n",
    "numValPeaks = 10 #number of validaiton peaks for user to label\n",
    "numPeaksPerRound = 10 #number of peaks to label per active learning iteration\n",
    "numCores = 10 #number of processor cores to use\n",
    "numDataPoints = 3 #number of consequetive scans above noise to count as ROI"
   ]
  },
  {
   "cell_type": "markdown",
   "metadata": {},
   "source": [
    "If you want to run mz.unity to remove degeneracies or run XCMS: the relevant R packages must also be installed (>20 min)"
   ]
  },
  {
   "cell_type": "code",
   "execution_count": 2,
   "metadata": {},
   "outputs": [
    {
     "name": "stderr",
     "output_type": "stream",
     "text": [
      "trying URL 'http://cran.r-project.org/bin/macosx/big-sur-arm64/contrib/4.2/BiocManager_1.30.20.tgz'\n",
      "Content type 'application/x-gzip' length 335007 bytes (327 KB)\n",
      "==================================================\n",
      "downloaded 327 KB\n",
      "\n"
     ]
    },
    {
     "name": "stdout",
     "output_type": "stream",
     "text": [
      "\n",
      "The downloaded binary packages are in\n",
      "\t/var/folders/_k/p9rcssm500n8hvdj57m0gpsw0000gn/T//RtmpAyKndl/downloaded_packages\n"
     ]
    },
    {
     "name": "stderr",
     "output_type": "stream",
     "text": [
      "Bioconductor version 3.16 (BiocManager 1.30.20), R 4.2.3 (2023-03-15)\n",
      "Old packages: 'ggplot2', 'lattice', 'MASS', 'Matrix', 'ps', 'robustbase',\n",
      "  'survival'\n",
      "Warning message:\n",
      "package(s) not installed when version(s) same as or greater than current; use\n",
      "  `force = TRUE` to re-install: 'xcms' \n",
      "trying URL 'http://cran.r-project.org/bin/macosx/big-sur-arm64/contrib/4.2/dplyr_1.1.1.tgz'\n",
      "Content type 'application/x-gzip' length 1574356 bytes (1.5 MB)\n",
      "==================================================\n",
      "downloaded 1.5 MB\n",
      "\n"
     ]
    },
    {
     "name": "stdout",
     "output_type": "stream",
     "text": [
      "\n",
      "The downloaded binary packages are in\n",
      "\t/var/folders/_k/p9rcssm500n8hvdj57m0gpsw0000gn/T//RtmpAyKndl/downloaded_packages\n"
     ]
    },
    {
     "name": "stderr",
     "output_type": "stream",
     "text": [
      "trying URL 'http://cran.r-project.org/bin/macosx/big-sur-arm64/contrib/4.2/devtools_2.4.5.tgz'\n",
      "Content type 'application/x-gzip' length 421790 bytes (411 KB)\n",
      "==================================================\n",
      "downloaded 411 KB\n",
      "\n"
     ]
    },
    {
     "name": "stdout",
     "output_type": "stream",
     "text": [
      "\n",
      "The downloaded binary packages are in\n",
      "\t/var/folders/_k/p9rcssm500n8hvdj57m0gpsw0000gn/T//RtmpAyKndl/downloaded_packages\n",
      "[1] \"-----------------------\"\n",
      "[1] \"successful installation\"\n"
     ]
    },
    {
     "name": "stderr",
     "output_type": "stream",
     "text": [
      "Skipping install of 'mz.unity' from a github remote, the SHA1 (a8099ab2) has not changed since last install.\n",
      "  Use `force = TRUE` to force installation\n"
     ]
    }
   ],
   "source": [
    "detection_helper.PeakList().installRPackages()"
   ]
  },
  {
   "cell_type": "markdown",
   "metadata": {},
   "source": [
    "# Training/loading the PeakDetective models"
   ]
  },
  {
   "cell_type": "markdown",
   "metadata": {},
   "source": [
    "Before the workflows detailed in this notebook can be run, the nueral networks that underpin PeakDetective must be trained or the trained weights must be loaded"
   ]
  },
  {
   "cell_type": "markdown",
   "metadata": {},
   "source": [
    "## Training"
   ]
  },
  {
   "cell_type": "markdown",
   "metadata": {},
   "source": [
    "Step 1: load raw data and peak list"
   ]
  },
  {
   "cell_type": "markdown",
   "metadata": {},
   "source": [
    "What filename is your uploaded file or what we should name your generated peak list? If you need to generate a peak list, see Step 3 of the curating peak list section below for running XCMS"
   ]
  },
  {
   "cell_type": "code",
   "execution_count": 2,
   "metadata": {},
   "outputs": [],
   "source": [
    "peakFile = \"example_data_for_colab/xcms_example_data/peaks_formatted.csv\" #path to peak file"
   ]
  },
  {
   "cell_type": "markdown",
   "metadata": {},
   "source": [
    "Step 2: Where is your data?"
   ]
  },
  {
   "cell_type": "code",
   "execution_count": 3,
   "metadata": {},
   "outputs": [],
   "source": [
    "mzmlFolder = \"example_data_for_colab/xcms_example_data/\" #path to raw data folder"
   ]
  },
  {
   "cell_type": "markdown",
   "metadata": {},
   "source": [
    "Step 3: Set data parameters: "
   ]
  },
  {
   "cell_type": "code",
   "execution_count": 4,
   "metadata": {},
   "outputs": [],
   "source": [
    "ms1ppm = 25.5 #ppm tolerance\n",
    "align = True  #whether to perform RT alignment or not (True=align, False=do not align)"
   ]
  },
  {
   "cell_type": "markdown",
   "metadata": {},
   "source": [
    "Step 4: Load data:"
   ]
  },
  {
   "cell_type": "code",
   "execution_count": 5,
   "metadata": {},
   "outputs": [],
   "source": [
    "#load peak list\n",
    "peaklist = pd.read_csv(peakFile)[[\"mz\",\"rt\"]]\n",
    "\n",
    "#load raw data\n",
    "raw_data = []\n",
    "for file in [x for x in os.listdir(mzmlFolder) if \".mzML\" in x]:\n",
    "    temp = PeakDetective.rawData()\n",
    "    temp.readRawDataFile(mzmlFolder + \"/\" + file,ms1ppm)\n",
    "    raw_data.append(temp)"
   ]
  },
  {
   "cell_type": "markdown",
   "metadata": {},
   "source": [
    "Step 5: Initialize PeakDetective object"
   ]
  },
  {
   "cell_type": "code",
   "execution_count": 6,
   "metadata": {},
   "outputs": [
    {
     "name": "stdout",
     "output_type": "stream",
     "text": [
      "Metal device set to: Apple M2 Pro\n"
     ]
    },
    {
     "name": "stderr",
     "output_type": "stream",
     "text": [
      "2023-04-06 12:33:11.134060: I tensorflow/core/common_runtime/pluggable_device/pluggable_device_factory.cc:305] Could not identify NUMA node of platform GPU ID 0, defaulting to 0. Your kernel may not have been built with NUMA support.\n",
      "2023-04-06 12:33:11.134366: I tensorflow/core/common_runtime/pluggable_device/pluggable_device_factory.cc:271] Created TensorFlow device (/job:localhost/replica:0/task:0/device:GPU:0 with 0 MB memory) -> physical PluggableDevice (device: 0, name: METAL, pci bus id: <undefined>)\n"
     ]
    }
   ],
   "source": [
    "integ = PeakDetective.PeakDetective(numCores = numCores,resolution=resolution)"
   ]
  },
  {
   "cell_type": "markdown",
   "metadata": {},
   "source": [
    "Step 6: Generate EICs"
   ]
  },
  {
   "cell_type": "code",
   "execution_count": 7,
   "metadata": {},
   "outputs": [
    {
     "name": "stdout",
     "output_type": "stream",
     "text": [
      "forming matrix |██████████████████████████████████████████████████| 100.0% \n",
      "aligning EICs |██████████████████████████████████████████████████| 100.0% \n"
     ]
    }
   ],
   "source": [
    "if __name__ == \"__main__\":\n",
    "    X = integ.makeDataMatrix(raw_data,peaklist[\"mz\"].values,peaklist[\"rt\"].values,align=align)"
   ]
  },
  {
   "cell_type": "markdown",
   "metadata": {},
   "source": [
    "Step 7: Train smoother"
   ]
  },
  {
   "cell_type": "code",
   "execution_count": 8,
   "metadata": {},
   "outputs": [
    {
     "name": "stdout",
     "output_type": "stream",
     "text": [
      "generating EICs...\n",
      "forming matrix |██████████████████████████████████████████████████| 100.0% \n",
      "done\n",
      "fitting smoother...\n",
      "Epoch 1/10\n"
     ]
    },
    {
     "name": "stderr",
     "output_type": "stream",
     "text": [
      "2023-04-06 12:34:39.976231: W tensorflow/core/platform/profile_utils/cpu_utils.cc:128] Failed to get CPU frequency: 0 Hz\n",
      "2023-04-06 12:34:40.396896: I tensorflow/core/grappler/optimizers/custom_graph_optimizer_registry.cc:113] Plugin optimizer for device_type GPU is enabled.\n"
     ]
    },
    {
     "name": "stdout",
     "output_type": "stream",
     "text": [
      "1407/1407 [==============================] - ETA: 0s - loss: 0.1753 - mean_absolute_error: 0.0897"
     ]
    },
    {
     "name": "stderr",
     "output_type": "stream",
     "text": [
      "2023-04-06 12:34:55.108323: I tensorflow/core/grappler/optimizers/custom_graph_optimizer_registry.cc:113] Plugin optimizer for device_type GPU is enabled.\n"
     ]
    },
    {
     "name": "stdout",
     "output_type": "stream",
     "text": [
      "1407/1407 [==============================] - 16s 10ms/step - loss: 0.1753 - mean_absolute_error: 0.0897 - val_loss: 0.0812 - val_mean_absolute_error: 0.0154\n",
      "Epoch 2/10\n",
      "1407/1407 [==============================] - 13s 9ms/step - loss: 0.0777 - mean_absolute_error: 0.0103 - val_loss: 0.0734 - val_mean_absolute_error: 0.0106\n",
      "Epoch 3/10\n",
      "1407/1407 [==============================] - 13s 9ms/step - loss: 0.0749 - mean_absolute_error: 0.0082 - val_loss: 0.0717 - val_mean_absolute_error: 0.0092\n",
      "Epoch 4/10\n",
      "1407/1407 [==============================] - 13s 9ms/step - loss: 0.0740 - mean_absolute_error: 0.0075 - val_loss: 0.0709 - val_mean_absolute_error: 0.0087\n",
      "Epoch 5/10\n",
      "1407/1407 [==============================] - 13s 9ms/step - loss: 0.0734 - mean_absolute_error: 0.0071 - val_loss: 0.0704 - val_mean_absolute_error: 0.0082\n",
      "Epoch 6/10\n",
      "1407/1407 [==============================] - 13s 9ms/step - loss: 0.0731 - mean_absolute_error: 0.0069 - val_loss: 0.0700 - val_mean_absolute_error: 0.0083\n",
      "Epoch 7/10\n",
      "1407/1407 [==============================] - 13s 9ms/step - loss: 0.0728 - mean_absolute_error: 0.0067 - val_loss: 0.0697 - val_mean_absolute_error: 0.0077\n",
      "Epoch 8/10\n",
      "1407/1407 [==============================] - 13s 9ms/step - loss: 0.0725 - mean_absolute_error: 0.0064 - val_loss: 0.0693 - val_mean_absolute_error: 0.0076\n",
      "Epoch 9/10\n",
      "1407/1407 [==============================] - 13s 9ms/step - loss: 0.0722 - mean_absolute_error: 0.0062 - val_loss: 0.0690 - val_mean_absolute_error: 0.0073\n",
      "Epoch 10/10\n",
      "1407/1407 [==============================] - 13s 9ms/step - loss: 0.0720 - mean_absolute_error: 0.0061 - val_loss: 0.0688 - val_mean_absolute_error: 0.0071\n",
      "done\n"
     ]
    }
   ],
   "source": [
    "if __name__ == \"__main__\":\n",
    "    integ.trainSmoother(peaklist,raw_data,min_peaks,smooth_epochs,batchSizeSmoother,validationSplitSmoother)"
   ]
  },
  {
   "cell_type": "markdown",
   "metadata": {},
   "source": [
    "Step 8: Train classifier. First you will be prompted to label peaks that will be used as the validation data to see how the model performs. Afterwards, each active learning iteration will prompt additional peaks to be labeled. These are used to train the model. After each iteration a histogram of the scores for all peaks will be plotted and the accuacy of the model on training and validation data will be reported. After 5-10 iterations, a bimodal distribution of scores will be produced and the val_mean_absolute_error will drop dramatically. At this point, the model is trained and the FDR and TPR estimates based on the validation data will be reported for each cutoff. Inspection on this plot is used to set the threshold to use when applying the model."
   ]
  },
  {
   "cell_type": "code",
   "execution_count": 9,
   "metadata": {},
   "outputs": [
    {
     "name": "stdout",
     "output_type": "stream",
     "text": [
      "1/1 [==============================] - 0s 41ms/step\n",
      "1/1 [==============================] - 0s 8ms/step\n"
     ]
    },
    {
     "name": "stderr",
     "output_type": "stream",
     "text": [
      "2023-04-06 12:37:41.823837: I tensorflow/core/grappler/optimizers/custom_graph_optimizer_registry.cc:113] Plugin optimizer for device_type GPU is enabled.\n",
      "2023-04-06 12:37:42.714492: I tensorflow/core/grappler/optimizers/custom_graph_optimizer_registry.cc:113] Plugin optimizer for device_type GPU is enabled.\n"
     ]
    },
    {
     "name": "stdout",
     "output_type": "stream",
     "text": [
      "loss: 0.6931172609329224 mean_absolute_error: 0.4999701678752899 val loss: 0.6933329701423645 val_mean_absolute_error: 0.5001856684684753 numEpochs: 205\n",
      "581/581 [==============================] - 1s 1ms/step\n",
      " 93/581 [===>..........................] - ETA: 0s"
     ]
    },
    {
     "name": "stderr",
     "output_type": "stream",
     "text": [
      "2023-04-06 12:37:50.864647: I tensorflow/core/grappler/optimizers/custom_graph_optimizer_registry.cc:113] Plugin optimizer for device_type GPU is enabled.\n"
     ]
    },
    {
     "name": "stdout",
     "output_type": "stream",
     "text": [
      "581/581 [==============================] - 1s 2ms/step\n"
     ]
    },
    {
     "data": {
      "image/png": "[encoded data removed]",
      "text/plain": [
       "<Figure size 640x480 with 1 Axes>"
      ]
     },
     "metadata": {},
     "output_type": "display_data"
    },
    {
     "name": "stdout",
     "output_type": "stream",
     "text": [
      "18576 unclassified features remaining\n",
      "Continue with another iteration? (1=Yes, 0=No): \n"
     ]
    },
    {
     "name": "stdin",
     "output_type": "stream",
     "text": [
      " 0\n"
     ]
    },
    {
     "name": "stdout",
     "output_type": "stream",
     "text": [
      "1/1 [==============================] - 0s 14ms/step\n",
      "1/1 [==============================] - 0s 33ms/step\n"
     ]
    },
    {
     "data": {
      "image/png": "[encoded data removed]",
      "text/plain": [
       "<Figure size 640x480 with 1 Axes>"
      ]
     },
     "metadata": {},
     "output_type": "display_data"
    }
   ],
   "source": [
    "if __name__ == \"__main__\":\n",
    "    #train classifier\n",
    "    integ.trainClassifierActive(X,[],[],minClassifierTrainEpochs,maxClassifierTrainEpochs,classifierBatchSize,randomRestarts,numVal = numValPeaks,numManualPerRound=numPeaksPerRound,inJupyter=True)"
   ]
  },
  {
   "cell_type": "markdown",
   "metadata": {},
   "source": [
    "Based on the TPR and FDR curves plotted above, set the cutoff based on your own preferences for specificity and sensitivity. "
   ]
  },
  {
   "cell_type": "markdown",
   "metadata": {},
   "source": [
    "Set the cutoff"
   ]
  },
  {
   "cell_type": "code",
   "execution_count": 22,
   "metadata": {},
   "outputs": [],
   "source": [
    "cutoff = 0.8"
   ]
  },
  {
   "cell_type": "markdown",
   "metadata": {},
   "source": [
    "Step 9: save the model"
   ]
  },
  {
   "cell_type": "code",
   "execution_count": 23,
   "metadata": {},
   "outputs": [
    {
     "name": "stdout",
     "output_type": "stream",
     "text": [
      "WARNING:tensorflow:Compiled the loaded model, but the compiled metrics have yet to be built. `model.compile_metrics` will be empty until you train or evaluate the model.\n"
     ]
    }
   ],
   "source": [
    "integ.save(mzmlFolder+\"PeakDetectiveObject/\")"
   ]
  },
  {
   "cell_type": "markdown",
   "metadata": {},
   "source": [
    "## Loading trained model"
   ]
  },
  {
   "cell_type": "markdown",
   "metadata": {},
   "source": [
    "Step 1: set path to PeakDetective weights"
   ]
  },
  {
   "cell_type": "code",
   "execution_count": 10,
   "metadata": {},
   "outputs": [],
   "source": [
    "weightsPath = \"example_data_for_colab/xcms_example_data/PeakDetectiveObject/\""
   ]
  },
  {
   "cell_type": "markdown",
   "metadata": {},
   "source": [
    "Step 2: intitalize PeakDetective object and load weights"
   ]
  },
  {
   "cell_type": "code",
   "execution_count": 11,
   "metadata": {},
   "outputs": [
    {
     "name": "stdout",
     "output_type": "stream",
     "text": [
      "WARNING:tensorflow:No training configuration found in the save file, so the model was *not* compiled. Compile it manually.\n"
     ]
    }
   ],
   "source": [
    "integ = PeakDetective.PeakDetective(numCores = numCores,resolution=resolution)\n",
    "integ.load(weightsPath)"
   ]
  },
  {
   "cell_type": "markdown",
   "metadata": {},
   "source": [
    "Set the cutoff"
   ]
  },
  {
   "cell_type": "code",
   "execution_count": 16,
   "metadata": {},
   "outputs": [],
   "source": [
    "cutoff = 0.8"
   ]
  },
  {
   "cell_type": "markdown",
   "metadata": {
    "id": "udA30y2Guaa4"
   },
   "source": [
    "# Curating a peak list:"
   ]
  },
  {
   "cell_type": "markdown",
   "metadata": {
    "id": "HHUNtHj_ufLk"
   },
   "source": [
    "Step 1: Upload or generate a peak list"
   ]
  },
  {
   "cell_type": "markdown",
   "metadata": {
    "id": "7aKQcaVquyVR"
   },
   "source": [
    "What filename is your uploaded file or what we should name your generated peak list?"
   ]
  },
  {
   "cell_type": "code",
   "execution_count": 3,
   "metadata": {
    "id": "c17pJrd5uu3h"
   },
   "outputs": [],
   "source": [
    "peakFile = \"example_data_for_colab/xcms_example_data/peaks.csv\" #path to peak file"
   ]
  },
  {
   "cell_type": "markdown",
   "metadata": {
    "id": "evYkBgdeu5-O"
   },
   "source": [
    "Step 2: Where is your data?"
   ]
  },
  {
   "cell_type": "code",
   "execution_count": 4,
   "metadata": {
    "id": "ljarkrCDvHLT"
   },
   "outputs": [],
   "source": [
    "mzmlFolder = \"example_data_for_colab/xcms_example_data/\" #path to raw data folder"
   ]
  },
  {
   "cell_type": "markdown",
   "metadata": {
    "id": "BSTbj4fuvKMr"
   },
   "source": [
    "Step 3: Run XCMS to generate peak list (skip if you have already done this)"
   ]
  },
  {
   "cell_type": "markdown",
   "metadata": {
    "id": "OAW1qLgRvQph"
   },
   "source": [
    "What parameters do you want to use?"
   ]
  },
  {
   "cell_type": "code",
   "execution_count": 5,
   "metadata": {
    "id": "sIX_M-nxvPwR"
   },
   "outputs": [],
   "source": [
    "ms1ppm = 25.5 #ppm tolerance\n",
    "peakWidth = (13.8,114.6) #retentin time peak width range (in seconds)\n",
    "s2n = 13.6 #signal to noise cutoff\n",
    "noise = 1 #noise threshold\n",
    "mzDiff = 0.0144 #minimum meaningful m/z difference\n",
    "prefilter = 5 #number of required consecutive scans to consider for ROI detection"
   ]
  },
  {
   "cell_type": "markdown",
   "metadata": {},
   "source": [
    "Now run XCMS"
   ]
  },
  {
   "cell_type": "code",
   "execution_count": 6,
   "metadata": {},
   "outputs": [
    {
     "name": "stderr",
     "output_type": "stream",
     "text": [
      "Loading required package: BiocParallel\n",
      "Loading required package: MSnbase\n",
      "Loading required package: BiocGenerics\n",
      "\n",
      "Attaching package: ‘BiocGenerics’\n",
      "\n",
      "The following objects are masked from ‘package:stats’:\n",
      "\n",
      "    IQR, mad, sd, var, xtabs\n",
      "\n",
      "The following objects are masked from ‘package:base’:\n",
      "\n",
      "    anyDuplicated, aperm, append, as.data.frame, basename, cbind,\n",
      "    colnames, dirname, do.call, duplicated, eval, evalq, Filter, Find,\n",
      "    get, grep, grepl, intersect, is.unsorted, lapply, Map, mapply,\n",
      "    match, mget, order, paste, pmax, pmax.int, pmin, pmin.int,\n",
      "    Position, rank, rbind, Reduce, rownames, sapply, setdiff, sort,\n",
      "    table, tapply, union, unique, unsplit, which.max, which.min\n",
      "\n",
      "Loading required package: Biobase\n",
      "Welcome to Bioconductor\n",
      "\n",
      "    Vignettes contain introductory material; view with\n",
      "    'browseVignettes()'. To cite Bioconductor, see\n",
      "    'citation(\"Biobase\")', and for packages 'citation(\"pkgname\")'.\n",
      "\n",
      "Loading required package: mzR\n",
      "Loading required package: Rcpp\n",
      "Loading required package: S4Vectors\n",
      "Loading required package: stats4\n",
      "\n",
      "Attaching package: ‘S4Vectors’\n",
      "\n",
      "The following objects are masked from ‘package:base’:\n",
      "\n",
      "    expand.grid, I, unname\n",
      "\n",
      "Loading required package: ProtGenerics\n",
      "\n",
      "Attaching package: ‘ProtGenerics’\n",
      "\n",
      "The following object is masked from ‘package:stats’:\n",
      "\n",
      "    smooth\n",
      "\n",
      "\n",
      "This is MSnbase version 2.24.2 \n",
      "  Visit https://lgatto.github.io/MSnbase/ to get started.\n",
      "\n",
      "\n",
      "Attaching package: ‘MSnbase’\n",
      "\n",
      "The following object is masked from ‘package:base’:\n",
      "\n",
      "    trimws\n",
      "\n",
      "\n",
      "This is xcms version 3.20.0 \n",
      "\n",
      "\n",
      "Attaching package: ‘xcms’\n",
      "\n",
      "The following object is masked from ‘package:stats’:\n",
      "\n",
      "    sigma\n",
      "\n",
      "Warning message:\n",
      "In fun(libname, pkgname) :\n",
      "  mzR has been built against a different Rcpp version (1.0.9)\n",
      "than is installed on your system (1.0.10). This might lead to errors\n",
      "when loading mzR. If you encounter such issues, please send a report,\n",
      "including the output of sessionInfo() to the Bioc support forum at \n",
      "https://support.bioconductor.org/. For details see also\n",
      "https://github.com/sneumann/mzR/wiki/mzR-Rcpp-compiler-linker-issue.\n",
      "Detecting mass traces at 25.5 ppm ... OK\n",
      "Detecting chromatographic peaks in 12210 regions of interest ... OK: 3232 found.\n",
      "Detecting mass traces at 25.5 ppm ... OK\n",
      "Detecting chromatographic peaks in 10602 regions of interest ... OK: 3017 found.\n",
      "Detecting mass traces at 25.5 ppm ... OK\n",
      "Detecting chromatographic peaks in 9969 regions of interest ... OK: 2991 found.\n",
      "Detecting mass traces at 25.5 ppm ... OK\n",
      "Detecting chromatographic peaks in 4267 regions of interest ... OK: 934 found.\n",
      "Processing 13066 mz slices ... OK\n",
      "Sample number 2 used as center sample.\n",
      "Aligning B1_NIST1950_1_6540.mzML against B1_NIST1950_2_6540.mzML ... OK\n",
      "Aligning B1_NIST1950_3_6540.mzML against B1_NIST1950_2_6540.mzML ... OK\n",
      "Aligning blank-2_6540.mzML against B1_NIST1950_2_6540.mzML ... OK\n",
      "Applying retention time adjustment to the identified chromatographic peaks ... OK\n",
      "Processing 13066 mz slices ... OK\n",
      "Defining peak areas for filling-in .... OK\n",
      "Start integrating peak areas from original files\n",
      "Requesting 1757 peaks from B1_NIST1950_1_6540.mzML ... got 1271.\n",
      "Requesting 1874 peaks from B1_NIST1950_2_6540.mzML ... got 1364.\n",
      "Requesting 1883 peaks from B1_NIST1950_3_6540.mzML ... got 1352.\n",
      "Requesting 3761 peaks from blank-2_6540.mzML ... got 650.\n"
     ]
    }
   ],
   "source": [
    "det = detection_helper.PeakList()\n",
    "det.runXCMS(mzmlFolder, peakFile.split(\"/\")[-1], \"negative\", ms1ppm, peakWidth,s2n=s2n,noise=noise,mzDiff=mzDiff,prefilter=prefilter)"
   ]
  },
  {
   "cell_type": "markdown",
   "metadata": {},
   "source": [
    "Step 4: Load raw data and peak file"
   ]
  },
  {
   "cell_type": "markdown",
   "metadata": {},
   "source": [
    "Read in peak list"
   ]
  },
  {
   "cell_type": "code",
   "execution_count": 13,
   "metadata": {},
   "outputs": [
    {
     "data": {
      "text/html": [
       "<div>\n",
       "<style scoped>\n",
       "    .dataframe tbody tr th:only-of-type {\n",
       "        vertical-align: middle;\n",
       "    }\n",
       "\n",
       "    .dataframe tbody tr th {\n",
       "        vertical-align: top;\n",
       "    }\n",
       "\n",
       "    .dataframe thead th {\n",
       "        text-align: right;\n",
       "    }\n",
       "</style>\n",
       "<table border=\"1\" class=\"dataframe\">\n",
       "  <thead>\n",
       "    <tr style=\"text-align: right;\">\n",
       "      <th></th>\n",
       "      <th>mz</th>\n",
       "      <th>rt</th>\n",
       "    </tr>\n",
       "  </thead>\n",
       "  <tbody>\n",
       "    <tr>\n",
       "      <th>FT0001</th>\n",
       "      <td>52.995274</td>\n",
       "      <td>5.074017</td>\n",
       "    </tr>\n",
       "    <tr>\n",
       "      <th>FT0002</th>\n",
       "      <td>54.977012</td>\n",
       "      <td>5.074017</td>\n",
       "    </tr>\n",
       "    <tr>\n",
       "      <th>FT0003</th>\n",
       "      <td>55.018832</td>\n",
       "      <td>6.038233</td>\n",
       "    </tr>\n",
       "    <tr>\n",
       "      <th>FT0004</th>\n",
       "      <td>56.995900</td>\n",
       "      <td>13.086900</td>\n",
       "    </tr>\n",
       "    <tr>\n",
       "      <th>FT0005</th>\n",
       "      <td>57.034581</td>\n",
       "      <td>1.590991</td>\n",
       "    </tr>\n",
       "    <tr>\n",
       "      <th>...</th>\n",
       "      <td>...</td>\n",
       "      <td>...</td>\n",
       "    </tr>\n",
       "    <tr>\n",
       "      <th>FT4645</th>\n",
       "      <td>1613.977307</td>\n",
       "      <td>14.982067</td>\n",
       "    </tr>\n",
       "    <tr>\n",
       "      <th>FT4646</th>\n",
       "      <td>1613.978101</td>\n",
       "      <td>2.214650</td>\n",
       "    </tr>\n",
       "    <tr>\n",
       "      <th>FT4647</th>\n",
       "      <td>1613.978932</td>\n",
       "      <td>12.721182</td>\n",
       "    </tr>\n",
       "    <tr>\n",
       "      <th>FT4648</th>\n",
       "      <td>1684.991954</td>\n",
       "      <td>0.387246</td>\n",
       "    </tr>\n",
       "    <tr>\n",
       "      <th>FT4649</th>\n",
       "      <td>1685.994118</td>\n",
       "      <td>0.219913</td>\n",
       "    </tr>\n",
       "  </tbody>\n",
       "</table>\n",
       "<p>4649 rows × 2 columns</p>\n",
       "</div>"
      ],
      "text/plain": [
       "                 mz         rt\n",
       "FT0001    52.995274   5.074017\n",
       "FT0002    54.977012   5.074017\n",
       "FT0003    55.018832   6.038233\n",
       "FT0004    56.995900  13.086900\n",
       "FT0005    57.034581   1.590991\n",
       "...             ...        ...\n",
       "FT4645  1613.977307  14.982067\n",
       "FT4646  1613.978101   2.214650\n",
       "FT4647  1613.978932  12.721182\n",
       "FT4648  1684.991954   0.387246\n",
       "FT4649  1685.994118   0.219913\n",
       "\n",
       "[4649 rows x 2 columns]"
      ]
     },
     "execution_count": 13,
     "metadata": {},
     "output_type": "execute_result"
    }
   ],
   "source": [
    "det = detection_helper.PeakList()\n",
    "det.readXCMSPeakList(mzmlFolder+\"peaks.csv\")\n",
    "peaklist = det.peakList[[\"mz\",\"rt\"]]\n",
    "peaklist.to_csv(mzmlFolder + \"peaks_formatted.csv\")\n",
    "peaklist"
   ]
  },
  {
   "cell_type": "markdown",
   "metadata": {},
   "source": [
    "Read in raw data, enter the ppm tolerance to use in the cell below:"
   ]
  },
  {
   "cell_type": "code",
   "execution_count": 28,
   "metadata": {},
   "outputs": [],
   "source": [
    "ms1ppm = 25.5 #ppm tolerance"
   ]
  },
  {
   "cell_type": "code",
   "execution_count": 29,
   "metadata": {},
   "outputs": [],
   "source": [
    "#load raw data\n",
    "raw_data = []\n",
    "for file in [x for x in os.listdir(mzmlFolder) if \".mzML\" in x]:\n",
    "    temp = PeakDetective.rawData()\n",
    "    temp.readRawDataFile(mzmlFolder + \"/\" + file,ms1ppm)\n",
    "    raw_data.append(temp)"
   ]
  },
  {
   "cell_type": "markdown",
   "metadata": {},
   "source": [
    "Step 5: Curate peaks, in the cell below set align = True to perform RT alginment of samples"
   ]
  },
  {
   "cell_type": "code",
   "execution_count": 30,
   "metadata": {
    "id": "Kw5yhPe1_LQk"
   },
   "outputs": [],
   "source": [
    "align = True #whether to perform RT alignment or not (True=align, False=do not align)"
   ]
  },
  {
   "cell_type": "code",
   "execution_count": 36,
   "metadata": {
    "colab": {
     "base_uri": "https://localhost:8080/"
    },
    "id": "245cb_QmnmAe",
    "outputId": "68fda875-1da4-4d4c-b0aa-d7ad7cae9f0d"
   },
   "outputs": [
    {
     "name": "stdout",
     "output_type": "stream",
     "text": [
      "generating EICs...\n",
      "forming matrix |██████████████████████████████████████████████████| 100.0% \n",
      "aligning EICs |██████████████████████████████████████████████████| 100.0% \n",
      "393/393 [==============================] - 1s 3ms/step\n",
      "393/393 [==============================] - 0s 1ms/step\n",
      "integrating peaks...\n",
      "integrating peaks |██████████████████████████████████████████████████| 100.0% \n"
     ]
    }
   ],
   "source": [
    "if __name__ == \"__main__\":\n",
    "    peak_curated,peak_scores,peak_intensities = integ.curatePeaks(raw_data,peaklist,threshold=cutoff,align=align)"
   ]
  },
  {
   "cell_type": "code",
   "execution_count": 37,
   "metadata": {},
   "outputs": [
    {
     "data": {
      "text/html": [
       "<div>\n",
       "<style scoped>\n",
       "    .dataframe tbody tr th:only-of-type {\n",
       "        vertical-align: middle;\n",
       "    }\n",
       "\n",
       "    .dataframe tbody tr th {\n",
       "        vertical-align: top;\n",
       "    }\n",
       "\n",
       "    .dataframe thead th {\n",
       "        text-align: right;\n",
       "    }\n",
       "</style>\n",
       "<table border=\"1\" class=\"dataframe\">\n",
       "  <thead>\n",
       "    <tr style=\"text-align: right;\">\n",
       "      <th></th>\n",
       "      <th>mz</th>\n",
       "      <th>rt</th>\n",
       "      <th>example_data_for_colab/xcms_example_data//B1_NIST1950_1_6540.mzML</th>\n",
       "      <th>example_data_for_colab/xcms_example_data//B1_NIST1950_2_6540.mzML</th>\n",
       "      <th>example_data_for_colab/xcms_example_data//B1_NIST1950_3_6540.mzML</th>\n",
       "    </tr>\n",
       "  </thead>\n",
       "  <tbody>\n",
       "    <tr>\n",
       "      <th>FT0001</th>\n",
       "      <td>52.995274</td>\n",
       "      <td>5.074017</td>\n",
       "      <td>0.0</td>\n",
       "      <td>0.0</td>\n",
       "      <td>0.0</td>\n",
       "    </tr>\n",
       "    <tr>\n",
       "      <th>FT0002</th>\n",
       "      <td>54.977012</td>\n",
       "      <td>5.074017</td>\n",
       "      <td>1.0</td>\n",
       "      <td>1.0</td>\n",
       "      <td>1.0</td>\n",
       "    </tr>\n",
       "    <tr>\n",
       "      <th>FT0003</th>\n",
       "      <td>55.018832</td>\n",
       "      <td>6.038233</td>\n",
       "      <td>0.0</td>\n",
       "      <td>0.0</td>\n",
       "      <td>0.0</td>\n",
       "    </tr>\n",
       "    <tr>\n",
       "      <th>FT0004</th>\n",
       "      <td>56.995900</td>\n",
       "      <td>13.086900</td>\n",
       "      <td>1.0</td>\n",
       "      <td>1.0</td>\n",
       "      <td>1.0</td>\n",
       "    </tr>\n",
       "    <tr>\n",
       "      <th>FT0005</th>\n",
       "      <td>57.034581</td>\n",
       "      <td>1.590991</td>\n",
       "      <td>0.0</td>\n",
       "      <td>0.0</td>\n",
       "      <td>0.0</td>\n",
       "    </tr>\n",
       "    <tr>\n",
       "      <th>...</th>\n",
       "      <td>...</td>\n",
       "      <td>...</td>\n",
       "      <td>...</td>\n",
       "      <td>...</td>\n",
       "      <td>...</td>\n",
       "    </tr>\n",
       "    <tr>\n",
       "      <th>FT4184</th>\n",
       "      <td>1612.974722</td>\n",
       "      <td>2.214650</td>\n",
       "      <td>0.0</td>\n",
       "      <td>0.0</td>\n",
       "      <td>0.0</td>\n",
       "    </tr>\n",
       "    <tr>\n",
       "      <th>FT4185</th>\n",
       "      <td>1612.976154</td>\n",
       "      <td>14.982067</td>\n",
       "      <td>0.0</td>\n",
       "      <td>0.0</td>\n",
       "      <td>0.0</td>\n",
       "    </tr>\n",
       "    <tr>\n",
       "      <th>FT4186</th>\n",
       "      <td>1613.978101</td>\n",
       "      <td>2.214650</td>\n",
       "      <td>0.0</td>\n",
       "      <td>0.0</td>\n",
       "      <td>0.0</td>\n",
       "    </tr>\n",
       "    <tr>\n",
       "      <th>FT4187</th>\n",
       "      <td>1613.977307</td>\n",
       "      <td>14.982067</td>\n",
       "      <td>0.0</td>\n",
       "      <td>1.0</td>\n",
       "      <td>0.0</td>\n",
       "    </tr>\n",
       "    <tr>\n",
       "      <th>FT4188</th>\n",
       "      <td>1613.978932</td>\n",
       "      <td>12.721182</td>\n",
       "      <td>0.0</td>\n",
       "      <td>0.0</td>\n",
       "      <td>0.0</td>\n",
       "    </tr>\n",
       "  </tbody>\n",
       "</table>\n",
       "<p>4188 rows × 5 columns</p>\n",
       "</div>"
      ],
      "text/plain": [
       "                 mz         rt  \\\n",
       "FT0001    52.995274   5.074017   \n",
       "FT0002    54.977012   5.074017   \n",
       "FT0003    55.018832   6.038233   \n",
       "FT0004    56.995900  13.086900   \n",
       "FT0005    57.034581   1.590991   \n",
       "...             ...        ...   \n",
       "FT4184  1612.974722   2.214650   \n",
       "FT4185  1612.976154  14.982067   \n",
       "FT4186  1613.978101   2.214650   \n",
       "FT4187  1613.977307  14.982067   \n",
       "FT4188  1613.978932  12.721182   \n",
       "\n",
       "        example_data_for_colab/xcms_example_data//B1_NIST1950_1_6540.mzML  \\\n",
       "FT0001                                                0.0                   \n",
       "FT0002                                                1.0                   \n",
       "FT0003                                                0.0                   \n",
       "FT0004                                                1.0                   \n",
       "FT0005                                                0.0                   \n",
       "...                                                   ...                   \n",
       "FT4184                                                0.0                   \n",
       "FT4185                                                0.0                   \n",
       "FT4186                                                0.0                   \n",
       "FT4187                                                0.0                   \n",
       "FT4188                                                0.0                   \n",
       "\n",
       "        example_data_for_colab/xcms_example_data//B1_NIST1950_2_6540.mzML  \\\n",
       "FT0001                                                0.0                   \n",
       "FT0002                                                1.0                   \n",
       "FT0003                                                0.0                   \n",
       "FT0004                                                1.0                   \n",
       "FT0005                                                0.0                   \n",
       "...                                                   ...                   \n",
       "FT4184                                                0.0                   \n",
       "FT4185                                                0.0                   \n",
       "FT4186                                                0.0                   \n",
       "FT4187                                                1.0                   \n",
       "FT4188                                                0.0                   \n",
       "\n",
       "        example_data_for_colab/xcms_example_data//B1_NIST1950_3_6540.mzML  \n",
       "FT0001                                                0.0                  \n",
       "FT0002                                                1.0                  \n",
       "FT0003                                                0.0                  \n",
       "FT0004                                                1.0                  \n",
       "FT0005                                                0.0                  \n",
       "...                                                   ...                  \n",
       "FT4184                                                0.0                  \n",
       "FT4185                                                0.0                  \n",
       "FT4186                                                0.0                  \n",
       "FT4187                                                0.0                  \n",
       "FT4188                                                0.0                  \n",
       "\n",
       "[4188 rows x 5 columns]"
      ]
     },
     "execution_count": 37,
     "metadata": {},
     "output_type": "execute_result"
    }
   ],
   "source": [
    "peak_curated"
   ]
  },
  {
   "cell_type": "markdown",
   "metadata": {},
   "source": [
    "Step 6: filter peaks only present in a particular fraction of samples."
   ]
  },
  {
   "cell_type": "code",
   "execution_count": 38,
   "metadata": {},
   "outputs": [],
   "source": [
    "detectFrac = 0.5 #minimum fraction of samples where a metabolite must be detected"
   ]
  },
  {
   "cell_type": "code",
   "execution_count": 39,
   "metadata": {
    "id": "e6NGEaSJohEk"
   },
   "outputs": [
    {
     "data": {
      "text/html": [
       "<div>\n",
       "<style scoped>\n",
       "    .dataframe tbody tr th:only-of-type {\n",
       "        vertical-align: middle;\n",
       "    }\n",
       "\n",
       "    .dataframe tbody tr th {\n",
       "        vertical-align: top;\n",
       "    }\n",
       "\n",
       "    .dataframe thead th {\n",
       "        text-align: right;\n",
       "    }\n",
       "</style>\n",
       "<table border=\"1\" class=\"dataframe\">\n",
       "  <thead>\n",
       "    <tr style=\"text-align: right;\">\n",
       "      <th></th>\n",
       "      <th>mz</th>\n",
       "      <th>rt</th>\n",
       "      <th>example_data_for_colab/xcms_example_data//B1_NIST1950_1_6540.mzML</th>\n",
       "      <th>example_data_for_colab/xcms_example_data//B1_NIST1950_2_6540.mzML</th>\n",
       "      <th>example_data_for_colab/xcms_example_data//B1_NIST1950_3_6540.mzML</th>\n",
       "    </tr>\n",
       "  </thead>\n",
       "  <tbody>\n",
       "    <tr>\n",
       "      <th>FT0002</th>\n",
       "      <td>54.977012</td>\n",
       "      <td>5.074017</td>\n",
       "      <td>1.0</td>\n",
       "      <td>1.0</td>\n",
       "      <td>1.0</td>\n",
       "    </tr>\n",
       "    <tr>\n",
       "      <th>FT0004</th>\n",
       "      <td>56.995900</td>\n",
       "      <td>13.086900</td>\n",
       "      <td>1.0</td>\n",
       "      <td>1.0</td>\n",
       "      <td>1.0</td>\n",
       "    </tr>\n",
       "    <tr>\n",
       "      <th>FT0006</th>\n",
       "      <td>57.028878</td>\n",
       "      <td>12.804283</td>\n",
       "      <td>1.0</td>\n",
       "      <td>1.0</td>\n",
       "      <td>1.0</td>\n",
       "    </tr>\n",
       "    <tr>\n",
       "      <th>FT0007</th>\n",
       "      <td>57.975630</td>\n",
       "      <td>1.483202</td>\n",
       "      <td>1.0</td>\n",
       "      <td>1.0</td>\n",
       "      <td>1.0</td>\n",
       "    </tr>\n",
       "    <tr>\n",
       "      <th>FT0009</th>\n",
       "      <td>59.013857</td>\n",
       "      <td>2.048152</td>\n",
       "      <td>1.0</td>\n",
       "      <td>1.0</td>\n",
       "      <td>1.0</td>\n",
       "    </tr>\n",
       "    <tr>\n",
       "      <th>...</th>\n",
       "      <td>...</td>\n",
       "      <td>...</td>\n",
       "      <td>...</td>\n",
       "      <td>...</td>\n",
       "      <td>...</td>\n",
       "    </tr>\n",
       "    <tr>\n",
       "      <th>FT4172</th>\n",
       "      <td>1176.777577</td>\n",
       "      <td>0.917967</td>\n",
       "      <td>1.0</td>\n",
       "      <td>1.0</td>\n",
       "      <td>1.0</td>\n",
       "    </tr>\n",
       "    <tr>\n",
       "      <th>FT4174</th>\n",
       "      <td>1189.238327</td>\n",
       "      <td>7.467917</td>\n",
       "      <td>1.0</td>\n",
       "      <td>1.0</td>\n",
       "      <td>1.0</td>\n",
       "    </tr>\n",
       "    <tr>\n",
       "      <th>FT4175</th>\n",
       "      <td>1191.246036</td>\n",
       "      <td>7.459600</td>\n",
       "      <td>1.0</td>\n",
       "      <td>1.0</td>\n",
       "      <td>1.0</td>\n",
       "    </tr>\n",
       "    <tr>\n",
       "      <th>FT4176</th>\n",
       "      <td>1211.221176</td>\n",
       "      <td>7.459600</td>\n",
       "      <td>1.0</td>\n",
       "      <td>1.0</td>\n",
       "      <td>1.0</td>\n",
       "    </tr>\n",
       "    <tr>\n",
       "      <th>FT4182</th>\n",
       "      <td>1555.931052</td>\n",
       "      <td>13.086900</td>\n",
       "      <td>1.0</td>\n",
       "      <td>1.0</td>\n",
       "      <td>1.0</td>\n",
       "    </tr>\n",
       "  </tbody>\n",
       "</table>\n",
       "<p>2568 rows × 5 columns</p>\n",
       "</div>"
      ],
      "text/plain": [
       "                 mz         rt  \\\n",
       "FT0002    54.977012   5.074017   \n",
       "FT0004    56.995900  13.086900   \n",
       "FT0006    57.028878  12.804283   \n",
       "FT0007    57.975630   1.483202   \n",
       "FT0009    59.013857   2.048152   \n",
       "...             ...        ...   \n",
       "FT4172  1176.777577   0.917967   \n",
       "FT4174  1189.238327   7.467917   \n",
       "FT4175  1191.246036   7.459600   \n",
       "FT4176  1211.221176   7.459600   \n",
       "FT4182  1555.931052  13.086900   \n",
       "\n",
       "        example_data_for_colab/xcms_example_data//B1_NIST1950_1_6540.mzML  \\\n",
       "FT0002                                                1.0                   \n",
       "FT0004                                                1.0                   \n",
       "FT0006                                                1.0                   \n",
       "FT0007                                                1.0                   \n",
       "FT0009                                                1.0                   \n",
       "...                                                   ...                   \n",
       "FT4172                                                1.0                   \n",
       "FT4174                                                1.0                   \n",
       "FT4175                                                1.0                   \n",
       "FT4176                                                1.0                   \n",
       "FT4182                                                1.0                   \n",
       "\n",
       "        example_data_for_colab/xcms_example_data//B1_NIST1950_2_6540.mzML  \\\n",
       "FT0002                                                1.0                   \n",
       "FT0004                                                1.0                   \n",
       "FT0006                                                1.0                   \n",
       "FT0007                                                1.0                   \n",
       "FT0009                                                1.0                   \n",
       "...                                                   ...                   \n",
       "FT4172                                                1.0                   \n",
       "FT4174                                                1.0                   \n",
       "FT4175                                                1.0                   \n",
       "FT4176                                                1.0                   \n",
       "FT4182                                                1.0                   \n",
       "\n",
       "        example_data_for_colab/xcms_example_data//B1_NIST1950_3_6540.mzML  \n",
       "FT0002                                                1.0                  \n",
       "FT0004                                                1.0                  \n",
       "FT0006                                                1.0                  \n",
       "FT0007                                                1.0                  \n",
       "FT0009                                                1.0                  \n",
       "...                                                   ...                  \n",
       "FT4172                                                1.0                  \n",
       "FT4174                                                1.0                  \n",
       "FT4175                                                1.0                  \n",
       "FT4176                                                1.0                  \n",
       "FT4182                                                1.0                  \n",
       "\n",
       "[2568 rows x 5 columns]"
      ]
     },
     "execution_count": 39,
     "metadata": {},
     "output_type": "execute_result"
    }
   ],
   "source": [
    "toDrop = []\n",
    "sampleCols = [x.filename for x in raw_data]\n",
    "for index,row in peak_curated.iterrows():\n",
    "    if np.sum(row[sampleCols])/len(sampleCols) < detectFrac:\n",
    "        toDrop.append(index)\n",
    "peak_curated = peak_curated.drop(toDrop,axis=0)\n",
    "peak_scores = peak_scores.drop(toDrop,axis=0)\n",
    "peak_intensities = peak_intensities.drop(toDrop,axis=0)\n",
    "peak_curated"
   ]
  },
  {
   "cell_type": "markdown",
   "metadata": {},
   "source": [
    "Step 7: output results"
   ]
  },
  {
   "cell_type": "code",
   "execution_count": 40,
   "metadata": {},
   "outputs": [],
   "source": [
    "peak_curated.to_csv(mzmlFolder + \"peaks_curated.csv\")\n",
    "peak_scores.to_csv(mzmlFolder + \"peak_scores.csv\")\n",
    "peak_intensities.to_csv(mzmlFolder + \"peak_intensities.csv\")"
   ]
  },
  {
   "cell_type": "markdown",
   "metadata": {},
   "source": [
    "# Detecting Peaks"
   ]
  },
  {
   "cell_type": "markdown",
   "metadata": {},
   "source": [
    "Step 1: where is your data:"
   ]
  },
  {
   "cell_type": "code",
   "execution_count": 12,
   "metadata": {},
   "outputs": [],
   "source": [
    "mzmlFolder = \"example_data_for_colab/xcms_example_data/\" #path to raw data folder"
   ]
  },
  {
   "cell_type": "markdown",
   "metadata": {},
   "source": [
    "Step 2: set parameters"
   ]
  },
  {
   "cell_type": "code",
   "execution_count": 13,
   "metadata": {},
   "outputs": [],
   "source": [
    "detectFrac = 0.5 #fraction of samples were a feature must be detected\n",
    "noise = 1000 #noise threshold for finding ROIs (set to baseline noise value)\n",
    "ms1ppm = 25.5 #ppm tolerance\n",
    "align = True #whether to perform RT alignment\n",
    "window = 0.1 #minimum expected spacing between peaks in minutes. Generally 0.05 to 0.2 works well."
   ]
  },
  {
   "cell_type": "markdown",
   "metadata": {},
   "source": [
    "Step 3: load data"
   ]
  },
  {
   "cell_type": "code",
   "execution_count": 14,
   "metadata": {},
   "outputs": [],
   "source": [
    "#load raw data\n",
    "raw_data = []\n",
    "for file in [x for x in os.listdir(mzmlFolder) if \".mzML\" in x]:\n",
    "    temp = PeakDetective.rawData()\n",
    "    temp.readRawDataFile(mzmlFolder + \"/\" + file,ms1ppm)\n",
    "    raw_data.append(temp)"
   ]
  },
  {
   "cell_type": "markdown",
   "metadata": {},
   "source": [
    "Step 4: Detect peaks"
   ]
  },
  {
   "cell_type": "code",
   "execution_count": 17,
   "metadata": {},
   "outputs": [
    {
     "name": "stdout",
     "output_type": "stream",
     "text": [
      "Detecting ROIs |█████████████████████████████████████████████████-| 100.0% 5118 ROIs found\n",
      "4708  ROIs found\n",
      "generating all EICs from ROIs...\n",
      "forming matrix |██████████████████████████████████████████████████| 100.0% \n",
      "aligning EICs |██████████████████████████████████████████████████| 100.0% \n",
      "4143040 EICs constructed for evaluation\n",
      "  89/5770 [..............................] - ETA: 10s"
     ]
    },
    {
     "name": "stderr",
     "output_type": "stream",
     "text": [
      "2023-04-06 12:42:44.363696: I tensorflow/core/grappler/optimizers/custom_graph_optimizer_registry.cc:113] Plugin optimizer for device_type GPU is enabled.\n"
     ]
    },
    {
     "name": "stdout",
     "output_type": "stream",
     "text": [
      "5770/5770 [==============================] - 6s 1ms/step\n",
      "  90/5770 [..............................] - ETA: 9s "
     ]
    },
    {
     "name": "stderr",
     "output_type": "stream",
     "text": [
      "2023-04-06 12:42:51.663389: I tensorflow/core/grappler/optimizers/custom_graph_optimizer_registry.cc:113] Plugin optimizer for device_type GPU is enabled.\n"
     ]
    },
    {
     "name": "stdout",
     "output_type": "stream",
     "text": [
      "5770/5770 [==============================] - 11s 2ms/step\n",
      "done\n",
      "refining retention times |██████████████████████████████████████████████████| 100.0% \n",
      "refining mzs |██████████████████████████████████████████████████| 100.0% \n",
      "integrating peaks...\n",
      "integrating peaks |██████████████████████████████████████████████████| 100.0% \n",
      "3345  peaks found\n"
     ]
    }
   ],
   "source": [
    "if __name__ == \"__main__\":\n",
    "    peak_scores_pd_det, peak_intensities_pd_det,rois = integ.detectPeaks(raw_data, cutoff=cutoff, intensityCutoff = noise,numDataPoints=numDataPoints,window=window,align=align,detectFrac=detectFrac)"
   ]
  },
  {
   "cell_type": "code",
   "execution_count": 18,
   "metadata": {},
   "outputs": [
    {
     "data": {
      "text/html": [
       "<div>\n",
       "<style scoped>\n",
       "    .dataframe tbody tr th:only-of-type {\n",
       "        vertical-align: middle;\n",
       "    }\n",
       "\n",
       "    .dataframe tbody tr th {\n",
       "        vertical-align: top;\n",
       "    }\n",
       "\n",
       "    .dataframe thead th {\n",
       "        text-align: right;\n",
       "    }\n",
       "</style>\n",
       "<table border=\"1\" class=\"dataframe\">\n",
       "  <thead>\n",
       "    <tr style=\"text-align: right;\">\n",
       "      <th></th>\n",
       "      <th>mz</th>\n",
       "      <th>rt</th>\n",
       "      <th>example_data_for_colab/xcms_example_data//B1_NIST1950_1_6540.mzML</th>\n",
       "      <th>example_data_for_colab/xcms_example_data//B1_NIST1950_2_6540.mzML</th>\n",
       "      <th>example_data_for_colab/xcms_example_data//B1_NIST1950_3_6540.mzML</th>\n",
       "      <th>example_data_for_colab/xcms_example_data//blank-2_6540.mzML</th>\n",
       "    </tr>\n",
       "  </thead>\n",
       "  <tbody>\n",
       "    <tr>\n",
       "      <th>0</th>\n",
       "      <td>52.979835</td>\n",
       "      <td>5.10</td>\n",
       "      <td>325384.151614</td>\n",
       "      <td>261316.799782</td>\n",
       "      <td>269243.619854</td>\n",
       "      <td>11329.049192</td>\n",
       "    </tr>\n",
       "    <tr>\n",
       "      <th>2</th>\n",
       "      <td>53.011032</td>\n",
       "      <td>5.10</td>\n",
       "      <td>7741.985559</td>\n",
       "      <td>5714.366426</td>\n",
       "      <td>5070.418121</td>\n",
       "      <td>351.773675</td>\n",
       "    </tr>\n",
       "    <tr>\n",
       "      <th>3</th>\n",
       "      <td>53.010459</td>\n",
       "      <td>5.10</td>\n",
       "      <td>7741.985559</td>\n",
       "      <td>5714.366426</td>\n",
       "      <td>5070.418121</td>\n",
       "      <td>351.773675</td>\n",
       "    </tr>\n",
       "    <tr>\n",
       "      <th>4</th>\n",
       "      <td>54.977107</td>\n",
       "      <td>5.08</td>\n",
       "      <td>146038.492737</td>\n",
       "      <td>123483.969738</td>\n",
       "      <td>122295.150191</td>\n",
       "      <td>4476.234916</td>\n",
       "    </tr>\n",
       "    <tr>\n",
       "      <th>6</th>\n",
       "      <td>55.018770</td>\n",
       "      <td>4.43</td>\n",
       "      <td>1019.849983</td>\n",
       "      <td>1190.631539</td>\n",
       "      <td>1210.830217</td>\n",
       "      <td>0.000000</td>\n",
       "    </tr>\n",
       "    <tr>\n",
       "      <th>...</th>\n",
       "      <td>...</td>\n",
       "      <td>...</td>\n",
       "      <td>...</td>\n",
       "      <td>...</td>\n",
       "      <td>...</td>\n",
       "      <td>...</td>\n",
       "    </tr>\n",
       "    <tr>\n",
       "      <th>4094</th>\n",
       "      <td>1069.283602</td>\n",
       "      <td>7.46</td>\n",
       "      <td>12470.068537</td>\n",
       "      <td>9119.390594</td>\n",
       "      <td>11693.622872</td>\n",
       "      <td>261.701020</td>\n",
       "    </tr>\n",
       "    <tr>\n",
       "      <th>4095</th>\n",
       "      <td>1070.288969</td>\n",
       "      <td>7.40</td>\n",
       "      <td>6155.995931</td>\n",
       "      <td>5214.877678</td>\n",
       "      <td>5284.769831</td>\n",
       "      <td>433.906090</td>\n",
       "    </tr>\n",
       "    <tr>\n",
       "      <th>4096</th>\n",
       "      <td>1081.900112</td>\n",
       "      <td>0.96</td>\n",
       "      <td>5053.448064</td>\n",
       "      <td>4197.460998</td>\n",
       "      <td>2509.968751</td>\n",
       "      <td>1050.683163</td>\n",
       "    </tr>\n",
       "    <tr>\n",
       "      <th>4097</th>\n",
       "      <td>1115.210741</td>\n",
       "      <td>0.88</td>\n",
       "      <td>4477.323317</td>\n",
       "      <td>4018.071612</td>\n",
       "      <td>4198.786480</td>\n",
       "      <td>0.000000</td>\n",
       "    </tr>\n",
       "    <tr>\n",
       "      <th>4098</th>\n",
       "      <td>1175.774034</td>\n",
       "      <td>0.93</td>\n",
       "      <td>4921.181456</td>\n",
       "      <td>4992.402059</td>\n",
       "      <td>3479.237161</td>\n",
       "      <td>0.000000</td>\n",
       "    </tr>\n",
       "  </tbody>\n",
       "</table>\n",
       "<p>3260 rows × 6 columns</p>\n",
       "</div>"
      ],
      "text/plain": [
       "               mz    rt  \\\n",
       "0       52.979835  5.10   \n",
       "2       53.011032  5.10   \n",
       "3       53.010459  5.10   \n",
       "4       54.977107  5.08   \n",
       "6       55.018770  4.43   \n",
       "...           ...   ...   \n",
       "4094  1069.283602  7.46   \n",
       "4095  1070.288969  7.40   \n",
       "4096  1081.900112  0.96   \n",
       "4097  1115.210741  0.88   \n",
       "4098  1175.774034  0.93   \n",
       "\n",
       "      example_data_for_colab/xcms_example_data//B1_NIST1950_1_6540.mzML  \\\n",
       "0                                         325384.151614                   \n",
       "2                                           7741.985559                   \n",
       "3                                           7741.985559                   \n",
       "4                                         146038.492737                   \n",
       "6                                           1019.849983                   \n",
       "...                                                 ...                   \n",
       "4094                                       12470.068537                   \n",
       "4095                                        6155.995931                   \n",
       "4096                                        5053.448064                   \n",
       "4097                                        4477.323317                   \n",
       "4098                                        4921.181456                   \n",
       "\n",
       "      example_data_for_colab/xcms_example_data//B1_NIST1950_2_6540.mzML  \\\n",
       "0                                         261316.799782                   \n",
       "2                                           5714.366426                   \n",
       "3                                           5714.366426                   \n",
       "4                                         123483.969738                   \n",
       "6                                           1190.631539                   \n",
       "...                                                 ...                   \n",
       "4094                                        9119.390594                   \n",
       "4095                                        5214.877678                   \n",
       "4096                                        4197.460998                   \n",
       "4097                                        4018.071612                   \n",
       "4098                                        4992.402059                   \n",
       "\n",
       "      example_data_for_colab/xcms_example_data//B1_NIST1950_3_6540.mzML  \\\n",
       "0                                         269243.619854                   \n",
       "2                                           5070.418121                   \n",
       "3                                           5070.418121                   \n",
       "4                                         122295.150191                   \n",
       "6                                           1210.830217                   \n",
       "...                                                 ...                   \n",
       "4094                                       11693.622872                   \n",
       "4095                                        5284.769831                   \n",
       "4096                                        2509.968751                   \n",
       "4097                                        4198.786480                   \n",
       "4098                                        3479.237161                   \n",
       "\n",
       "      example_data_for_colab/xcms_example_data//blank-2_6540.mzML  \n",
       "0                                          11329.049192            \n",
       "2                                            351.773675            \n",
       "3                                            351.773675            \n",
       "4                                           4476.234916            \n",
       "6                                              0.000000            \n",
       "...                                                 ...            \n",
       "4094                                         261.701020            \n",
       "4095                                         433.906090            \n",
       "4096                                        1050.683163            \n",
       "4097                                           0.000000            \n",
       "4098                                           0.000000            \n",
       "\n",
       "[3260 rows x 6 columns]"
      ]
     },
     "execution_count": 18,
     "metadata": {},
     "output_type": "execute_result"
    }
   ],
   "source": [
    "peak_intensities_pd_det"
   ]
  },
  {
   "cell_type": "markdown",
   "metadata": {},
   "source": [
    "Step 5: output results"
   ]
  },
  {
   "cell_type": "code",
   "execution_count": 20,
   "metadata": {},
   "outputs": [],
   "source": [
    "peak_scores_pd_det.to_csv(mzmlFolder + \"peak_scores_pd.csv\")\n",
    "peak_intensities_pd_det.to_csv(mzmlFolder + \"peak_intensities_pd.csv\")"
   ]
  },
  {
   "cell_type": "markdown",
   "metadata": {
    "tags": []
   },
   "source": [
    "# Integrating a peak list"
   ]
  },
  {
   "cell_type": "markdown",
   "metadata": {
    "id": "HHUNtHj_ufLk"
   },
   "source": [
    "Step 1: Upload or generate a peak list"
   ]
  },
  {
   "cell_type": "markdown",
   "metadata": {
    "id": "7aKQcaVquyVR"
   },
   "source": [
    "What filename is your uploaded file or what we should name your generated peak list?"
   ]
  },
  {
   "cell_type": "code",
   "execution_count": 6,
   "metadata": {
    "id": "c17pJrd5uu3h"
   },
   "outputs": [],
   "source": [
    "peakFile = \"example_data_for_colab/xcms_example_data/peaks.csv\" #path to peak file"
   ]
  },
  {
   "cell_type": "markdown",
   "metadata": {
    "id": "evYkBgdeu5-O"
   },
   "source": [
    "Step 2: Where is your data?"
   ]
  },
  {
   "cell_type": "code",
   "execution_count": 7,
   "metadata": {
    "id": "ljarkrCDvHLT"
   },
   "outputs": [],
   "source": [
    "mzmlFolder = \"example_data_for_colab/xcms_example_data/\" #path to raw data folder"
   ]
  },
  {
   "cell_type": "markdown",
   "metadata": {},
   "source": [
    "Step 3: set parameters"
   ]
  },
  {
   "cell_type": "code",
   "execution_count": 83,
   "metadata": {},
   "outputs": [],
   "source": [
    "align=True\n",
    "ms1ppm = 25.5"
   ]
  },
  {
   "cell_type": "markdown",
   "metadata": {},
   "source": [
    "Step 4: load data"
   ]
  },
  {
   "cell_type": "code",
   "execution_count": 86,
   "metadata": {},
   "outputs": [
    {
     "data": {
      "text/html": [
       "<div>\n",
       "<style scoped>\n",
       "    .dataframe tbody tr th:only-of-type {\n",
       "        vertical-align: middle;\n",
       "    }\n",
       "\n",
       "    .dataframe tbody tr th {\n",
       "        vertical-align: top;\n",
       "    }\n",
       "\n",
       "    .dataframe thead th {\n",
       "        text-align: right;\n",
       "    }\n",
       "</style>\n",
       "<table border=\"1\" class=\"dataframe\">\n",
       "  <thead>\n",
       "    <tr style=\"text-align: right;\">\n",
       "      <th></th>\n",
       "      <th>mz</th>\n",
       "      <th>rt</th>\n",
       "    </tr>\n",
       "  </thead>\n",
       "  <tbody>\n",
       "    <tr>\n",
       "      <th>0</th>\n",
       "      <td>52.979821</td>\n",
       "      <td>5.056117</td>\n",
       "    </tr>\n",
       "    <tr>\n",
       "      <th>1</th>\n",
       "      <td>52.979821</td>\n",
       "      <td>5.156117</td>\n",
       "    </tr>\n",
       "    <tr>\n",
       "      <th>2</th>\n",
       "      <td>53.011069</td>\n",
       "      <td>5.056117</td>\n",
       "    </tr>\n",
       "    <tr>\n",
       "      <th>3</th>\n",
       "      <td>53.011069</td>\n",
       "      <td>5.156117</td>\n",
       "    </tr>\n",
       "    <tr>\n",
       "      <th>4</th>\n",
       "      <td>54.977010</td>\n",
       "      <td>5.056117</td>\n",
       "    </tr>\n",
       "    <tr>\n",
       "      <th>...</th>\n",
       "      <td>...</td>\n",
       "      <td>...</td>\n",
       "    </tr>\n",
       "    <tr>\n",
       "      <th>4123</th>\n",
       "      <td>1069.285530</td>\n",
       "      <td>7.456117</td>\n",
       "    </tr>\n",
       "    <tr>\n",
       "      <th>4124</th>\n",
       "      <td>1070.286697</td>\n",
       "      <td>7.456117</td>\n",
       "    </tr>\n",
       "    <tr>\n",
       "      <th>4125</th>\n",
       "      <td>1081.902952</td>\n",
       "      <td>0.956117</td>\n",
       "    </tr>\n",
       "    <tr>\n",
       "      <th>4126</th>\n",
       "      <td>1115.209929</td>\n",
       "      <td>0.856117</td>\n",
       "    </tr>\n",
       "    <tr>\n",
       "      <th>4127</th>\n",
       "      <td>1175.773297</td>\n",
       "      <td>0.956117</td>\n",
       "    </tr>\n",
       "  </tbody>\n",
       "</table>\n",
       "<p>4128 rows × 2 columns</p>\n",
       "</div>"
      ],
      "text/plain": [
       "               mz        rt\n",
       "0       52.979821  5.056117\n",
       "1       52.979821  5.156117\n",
       "2       53.011069  5.056117\n",
       "3       53.011069  5.156117\n",
       "4       54.977010  5.056117\n",
       "...           ...       ...\n",
       "4123  1069.285530  7.456117\n",
       "4124  1070.286697  7.456117\n",
       "4125  1081.902952  0.956117\n",
       "4126  1115.209929  0.856117\n",
       "4127  1175.773297  0.956117\n",
       "\n",
       "[4128 rows x 2 columns]"
      ]
     },
     "execution_count": 86,
     "metadata": {},
     "output_type": "execute_result"
    }
   ],
   "source": [
    "peaklist = pd.read_csv(peakFile,index_col=0)[[\"mz\",\"rt\"]]\n",
    "\n",
    "#load raw data\n",
    "raw_data = []\n",
    "for file in [x for x in os.listdir(mzmlFolder) if \".mzML\" in x]:\n",
    "    temp = PeakDetective.rawData()\n",
    "    temp.readRawDataFile(mzmlFolder + \"/\" + file,ms1ppm)\n",
    "    raw_data.append(temp)\n",
    "\n",
    "peaklist"
   ]
  },
  {
   "cell_type": "markdown",
   "metadata": {},
   "source": [
    "Step 5: integrate peaks"
   ]
  },
  {
   "cell_type": "code",
   "execution_count": 88,
   "metadata": {},
   "outputs": [
    {
     "name": "stdout",
     "output_type": "stream",
     "text": [
      "forming matrix |██████████████████████████████████████████████████| 100.0% \n",
      "aligning EICs |██████████████████████████████████████████████████| 100.0% \n",
      "integrating peaks...\n",
      "integrating peaks |██████████████████████████████████████████████████| 100.0% \n"
     ]
    },
    {
     "data": {
      "text/html": [
       "<div>\n",
       "<style scoped>\n",
       "    .dataframe tbody tr th:only-of-type {\n",
       "        vertical-align: middle;\n",
       "    }\n",
       "\n",
       "    .dataframe tbody tr th {\n",
       "        vertical-align: top;\n",
       "    }\n",
       "\n",
       "    .dataframe thead th {\n",
       "        text-align: right;\n",
       "    }\n",
       "</style>\n",
       "<table border=\"1\" class=\"dataframe\">\n",
       "  <thead>\n",
       "    <tr style=\"text-align: right;\">\n",
       "      <th></th>\n",
       "      <th>mz</th>\n",
       "      <th>rt</th>\n",
       "      <th>example_data_for_colab/xcms_example_data//B1_NIST1950_1_6540.mzML</th>\n",
       "      <th>example_data_for_colab/xcms_example_data//B1_NIST1950_2_6540.mzML</th>\n",
       "      <th>example_data_for_colab/xcms_example_data//B1_NIST1950_3_6540.mzML</th>\n",
       "      <th>example_data_for_colab/xcms_example_data//blank-2_6540.mzML</th>\n",
       "    </tr>\n",
       "  </thead>\n",
       "  <tbody>\n",
       "    <tr>\n",
       "      <th>0</th>\n",
       "      <td>52.979821</td>\n",
       "      <td>5.056117</td>\n",
       "      <td>328176.974318</td>\n",
       "      <td>271618.362089</td>\n",
       "      <td>273260.230068</td>\n",
       "      <td>0.000000</td>\n",
       "    </tr>\n",
       "    <tr>\n",
       "      <th>1</th>\n",
       "      <td>52.979821</td>\n",
       "      <td>5.156117</td>\n",
       "      <td>327235.172511</td>\n",
       "      <td>268698.405930</td>\n",
       "      <td>271862.684655</td>\n",
       "      <td>0.000000</td>\n",
       "    </tr>\n",
       "    <tr>\n",
       "      <th>2</th>\n",
       "      <td>53.011069</td>\n",
       "      <td>5.056117</td>\n",
       "      <td>7699.610669</td>\n",
       "      <td>5632.152139</td>\n",
       "      <td>5493.665745</td>\n",
       "      <td>0.000000</td>\n",
       "    </tr>\n",
       "    <tr>\n",
       "      <th>3</th>\n",
       "      <td>53.011069</td>\n",
       "      <td>5.156117</td>\n",
       "      <td>7715.444911</td>\n",
       "      <td>5813.271569</td>\n",
       "      <td>5439.991595</td>\n",
       "      <td>0.000000</td>\n",
       "    </tr>\n",
       "    <tr>\n",
       "      <th>4</th>\n",
       "      <td>54.977010</td>\n",
       "      <td>5.056117</td>\n",
       "      <td>136569.504598</td>\n",
       "      <td>116534.698676</td>\n",
       "      <td>111613.268635</td>\n",
       "      <td>366.467538</td>\n",
       "    </tr>\n",
       "    <tr>\n",
       "      <th>...</th>\n",
       "      <td>...</td>\n",
       "      <td>...</td>\n",
       "      <td>...</td>\n",
       "      <td>...</td>\n",
       "      <td>...</td>\n",
       "      <td>...</td>\n",
       "    </tr>\n",
       "    <tr>\n",
       "      <th>4123</th>\n",
       "      <td>1069.285530</td>\n",
       "      <td>7.456117</td>\n",
       "      <td>11425.609147</td>\n",
       "      <td>8762.991710</td>\n",
       "      <td>10937.830750</td>\n",
       "      <td>0.000000</td>\n",
       "    </tr>\n",
       "    <tr>\n",
       "      <th>4124</th>\n",
       "      <td>1070.286697</td>\n",
       "      <td>7.456117</td>\n",
       "      <td>5905.789419</td>\n",
       "      <td>4963.674346</td>\n",
       "      <td>5336.372046</td>\n",
       "      <td>0.000000</td>\n",
       "    </tr>\n",
       "    <tr>\n",
       "      <th>4125</th>\n",
       "      <td>1081.902952</td>\n",
       "      <td>0.956117</td>\n",
       "      <td>5350.488108</td>\n",
       "      <td>4802.045764</td>\n",
       "      <td>3214.389626</td>\n",
       "      <td>0.000000</td>\n",
       "    </tr>\n",
       "    <tr>\n",
       "      <th>4126</th>\n",
       "      <td>1115.209929</td>\n",
       "      <td>0.856117</td>\n",
       "      <td>3986.666141</td>\n",
       "      <td>3857.327005</td>\n",
       "      <td>3958.185071</td>\n",
       "      <td>0.000000</td>\n",
       "    </tr>\n",
       "    <tr>\n",
       "      <th>4127</th>\n",
       "      <td>1175.773297</td>\n",
       "      <td>0.956117</td>\n",
       "      <td>4359.891090</td>\n",
       "      <td>4467.821683</td>\n",
       "      <td>3095.956265</td>\n",
       "      <td>0.000000</td>\n",
       "    </tr>\n",
       "  </tbody>\n",
       "</table>\n",
       "<p>4128 rows × 6 columns</p>\n",
       "</div>"
      ],
      "text/plain": [
       "               mz        rt  \\\n",
       "0       52.979821  5.056117   \n",
       "1       52.979821  5.156117   \n",
       "2       53.011069  5.056117   \n",
       "3       53.011069  5.156117   \n",
       "4       54.977010  5.056117   \n",
       "...           ...       ...   \n",
       "4123  1069.285530  7.456117   \n",
       "4124  1070.286697  7.456117   \n",
       "4125  1081.902952  0.956117   \n",
       "4126  1115.209929  0.856117   \n",
       "4127  1175.773297  0.956117   \n",
       "\n",
       "      example_data_for_colab/xcms_example_data//B1_NIST1950_1_6540.mzML  \\\n",
       "0                                         328176.974318                   \n",
       "1                                         327235.172511                   \n",
       "2                                           7699.610669                   \n",
       "3                                           7715.444911                   \n",
       "4                                         136569.504598                   \n",
       "...                                                 ...                   \n",
       "4123                                       11425.609147                   \n",
       "4124                                        5905.789419                   \n",
       "4125                                        5350.488108                   \n",
       "4126                                        3986.666141                   \n",
       "4127                                        4359.891090                   \n",
       "\n",
       "      example_data_for_colab/xcms_example_data//B1_NIST1950_2_6540.mzML  \\\n",
       "0                                         271618.362089                   \n",
       "1                                         268698.405930                   \n",
       "2                                           5632.152139                   \n",
       "3                                           5813.271569                   \n",
       "4                                         116534.698676                   \n",
       "...                                                 ...                   \n",
       "4123                                        8762.991710                   \n",
       "4124                                        4963.674346                   \n",
       "4125                                        4802.045764                   \n",
       "4126                                        3857.327005                   \n",
       "4127                                        4467.821683                   \n",
       "\n",
       "      example_data_for_colab/xcms_example_data//B1_NIST1950_3_6540.mzML  \\\n",
       "0                                         273260.230068                   \n",
       "1                                         271862.684655                   \n",
       "2                                           5493.665745                   \n",
       "3                                           5439.991595                   \n",
       "4                                         111613.268635                   \n",
       "...                                                 ...                   \n",
       "4123                                       10937.830750                   \n",
       "4124                                        5336.372046                   \n",
       "4125                                        3214.389626                   \n",
       "4126                                        3958.185071                   \n",
       "4127                                        3095.956265                   \n",
       "\n",
       "      example_data_for_colab/xcms_example_data//blank-2_6540.mzML  \n",
       "0                                              0.000000            \n",
       "1                                              0.000000            \n",
       "2                                              0.000000            \n",
       "3                                              0.000000            \n",
       "4                                            366.467538            \n",
       "...                                                 ...            \n",
       "4123                                           0.000000            \n",
       "4124                                           0.000000            \n",
       "4125                                           0.000000            \n",
       "4126                                           0.000000            \n",
       "4127                                           0.000000            \n",
       "\n",
       "[4128 rows x 6 columns]"
      ]
     },
     "execution_count": 88,
     "metadata": {},
     "output_type": "execute_result"
    }
   ],
   "source": [
    "if __name__ == \"__main__\":\n",
    "    X = integ.makeDataMatrix(raw_data,peaklist[\"mz\"],peaklist[\"rt\"].values,align=align)\n",
    "    for r in raw_data:\n",
    "        peaklist[r.filename] = 1.0\n",
    "    peak_areas = integ.performIntegration(X, [r.filename for r in raw_data], peaklist, cutoff, defaultWidth=0.5,smooth=False)\n",
    "peak_areas"
   ]
  },
  {
   "cell_type": "markdown",
   "metadata": {},
   "source": [
    "Step 6: output result"
   ]
  },
  {
   "cell_type": "code",
   "execution_count": 89,
   "metadata": {},
   "outputs": [],
   "source": [
    "peak_areas.to_csv(mzmlFolder + \"peak_intensities_integration.csv\")"
   ]
  },
  {
   "cell_type": "markdown",
   "metadata": {},
   "source": [
    "# Filltering peak list for contaminants, redundancy"
   ]
  },
  {
   "cell_type": "markdown",
   "metadata": {},
   "source": [
    "Step 1: load peak list"
   ]
  },
  {
   "cell_type": "code",
   "execution_count": 5,
   "metadata": {},
   "outputs": [],
   "source": [
    "peakFile = \"example_data_for_colab/xcms_example_data/peak_intensities_integration.csv\" #path to peak file"
   ]
  },
  {
   "cell_type": "code",
   "execution_count": 6,
   "metadata": {},
   "outputs": [],
   "source": [
    "df = pd.read_csv(peakFile,index_col=0)"
   ]
  },
  {
   "cell_type": "markdown",
   "metadata": {},
   "source": [
    "Step 2: convert to PeakList object"
   ]
  },
  {
   "cell_type": "code",
   "execution_count": 7,
   "metadata": {},
   "outputs": [
    {
     "name": "stdout",
     "output_type": "stream",
     "text": [
      "['example_data_for_colab/xcms_example_data//B1_NIST1950_1_6540.mzML', 'example_data_for_colab/xcms_example_data//B1_NIST1950_2_6540.mzML', 'example_data_for_colab/xcms_example_data//B1_NIST1950_3_6540.mzML', 'example_data_for_colab/xcms_example_data//blank-2_6540.mzML']\n"
     ]
    },
    {
     "data": {
      "text/html": [
       "<div>\n",
       "<style scoped>\n",
       "    .dataframe tbody tr th:only-of-type {\n",
       "        vertical-align: middle;\n",
       "    }\n",
       "\n",
       "    .dataframe tbody tr th {\n",
       "        vertical-align: top;\n",
       "    }\n",
       "\n",
       "    .dataframe thead th {\n",
       "        text-align: right;\n",
       "    }\n",
       "</style>\n",
       "<table border=\"1\" class=\"dataframe\">\n",
       "  <thead>\n",
       "    <tr style=\"text-align: right;\">\n",
       "      <th></th>\n",
       "      <th>mz</th>\n",
       "      <th>rt</th>\n",
       "      <th>example_data_for_colab/xcms_example_data//B1_NIST1950_1_6540.mzML</th>\n",
       "      <th>example_data_for_colab/xcms_example_data//B1_NIST1950_2_6540.mzML</th>\n",
       "      <th>example_data_for_colab/xcms_example_data//B1_NIST1950_3_6540.mzML</th>\n",
       "      <th>example_data_for_colab/xcms_example_data//blank-2_6540.mzML</th>\n",
       "    </tr>\n",
       "  </thead>\n",
       "  <tbody>\n",
       "    <tr>\n",
       "      <th>0</th>\n",
       "      <td>52.979821</td>\n",
       "      <td>5.056117</td>\n",
       "      <td>328176.974318</td>\n",
       "      <td>271618.362089</td>\n",
       "      <td>273260.230068</td>\n",
       "      <td>0.000000</td>\n",
       "    </tr>\n",
       "    <tr>\n",
       "      <th>1</th>\n",
       "      <td>52.979821</td>\n",
       "      <td>5.156117</td>\n",
       "      <td>327235.172511</td>\n",
       "      <td>268698.405930</td>\n",
       "      <td>271862.684655</td>\n",
       "      <td>0.000000</td>\n",
       "    </tr>\n",
       "    <tr>\n",
       "      <th>2</th>\n",
       "      <td>53.011069</td>\n",
       "      <td>5.056117</td>\n",
       "      <td>7699.610669</td>\n",
       "      <td>5632.152139</td>\n",
       "      <td>5493.665745</td>\n",
       "      <td>0.000000</td>\n",
       "    </tr>\n",
       "    <tr>\n",
       "      <th>3</th>\n",
       "      <td>53.011069</td>\n",
       "      <td>5.156117</td>\n",
       "      <td>7715.444911</td>\n",
       "      <td>5813.271569</td>\n",
       "      <td>5439.991595</td>\n",
       "      <td>0.000000</td>\n",
       "    </tr>\n",
       "    <tr>\n",
       "      <th>4</th>\n",
       "      <td>54.977010</td>\n",
       "      <td>5.056117</td>\n",
       "      <td>136569.504598</td>\n",
       "      <td>116534.698676</td>\n",
       "      <td>111613.268635</td>\n",
       "      <td>366.467538</td>\n",
       "    </tr>\n",
       "    <tr>\n",
       "      <th>...</th>\n",
       "      <td>...</td>\n",
       "      <td>...</td>\n",
       "      <td>...</td>\n",
       "      <td>...</td>\n",
       "      <td>...</td>\n",
       "      <td>...</td>\n",
       "    </tr>\n",
       "    <tr>\n",
       "      <th>4123</th>\n",
       "      <td>1069.285530</td>\n",
       "      <td>7.456117</td>\n",
       "      <td>11425.609147</td>\n",
       "      <td>8762.991710</td>\n",
       "      <td>10937.830750</td>\n",
       "      <td>0.000000</td>\n",
       "    </tr>\n",
       "    <tr>\n",
       "      <th>4124</th>\n",
       "      <td>1070.286697</td>\n",
       "      <td>7.456117</td>\n",
       "      <td>5905.789419</td>\n",
       "      <td>4963.674346</td>\n",
       "      <td>5336.372046</td>\n",
       "      <td>0.000000</td>\n",
       "    </tr>\n",
       "    <tr>\n",
       "      <th>4125</th>\n",
       "      <td>1081.902952</td>\n",
       "      <td>0.956117</td>\n",
       "      <td>5350.488108</td>\n",
       "      <td>4802.045764</td>\n",
       "      <td>3214.389626</td>\n",
       "      <td>0.000000</td>\n",
       "    </tr>\n",
       "    <tr>\n",
       "      <th>4126</th>\n",
       "      <td>1115.209929</td>\n",
       "      <td>0.856117</td>\n",
       "      <td>3986.666141</td>\n",
       "      <td>3857.327005</td>\n",
       "      <td>3958.185071</td>\n",
       "      <td>0.000000</td>\n",
       "    </tr>\n",
       "    <tr>\n",
       "      <th>4127</th>\n",
       "      <td>1175.773297</td>\n",
       "      <td>0.956117</td>\n",
       "      <td>4359.891090</td>\n",
       "      <td>4467.821683</td>\n",
       "      <td>3095.956265</td>\n",
       "      <td>0.000000</td>\n",
       "    </tr>\n",
       "  </tbody>\n",
       "</table>\n",
       "<p>4128 rows × 6 columns</p>\n",
       "</div>"
      ],
      "text/plain": [
       "               mz        rt  \\\n",
       "0       52.979821  5.056117   \n",
       "1       52.979821  5.156117   \n",
       "2       53.011069  5.056117   \n",
       "3       53.011069  5.156117   \n",
       "4       54.977010  5.056117   \n",
       "...           ...       ...   \n",
       "4123  1069.285530  7.456117   \n",
       "4124  1070.286697  7.456117   \n",
       "4125  1081.902952  0.956117   \n",
       "4126  1115.209929  0.856117   \n",
       "4127  1175.773297  0.956117   \n",
       "\n",
       "      example_data_for_colab/xcms_example_data//B1_NIST1950_1_6540.mzML  \\\n",
       "0                                         328176.974318                   \n",
       "1                                         327235.172511                   \n",
       "2                                           7699.610669                   \n",
       "3                                           7715.444911                   \n",
       "4                                         136569.504598                   \n",
       "...                                                 ...                   \n",
       "4123                                       11425.609147                   \n",
       "4124                                        5905.789419                   \n",
       "4125                                        5350.488108                   \n",
       "4126                                        3986.666141                   \n",
       "4127                                        4359.891090                   \n",
       "\n",
       "      example_data_for_colab/xcms_example_data//B1_NIST1950_2_6540.mzML  \\\n",
       "0                                         271618.362089                   \n",
       "1                                         268698.405930                   \n",
       "2                                           5632.152139                   \n",
       "3                                           5813.271569                   \n",
       "4                                         116534.698676                   \n",
       "...                                                 ...                   \n",
       "4123                                        8762.991710                   \n",
       "4124                                        4963.674346                   \n",
       "4125                                        4802.045764                   \n",
       "4126                                        3857.327005                   \n",
       "4127                                        4467.821683                   \n",
       "\n",
       "      example_data_for_colab/xcms_example_data//B1_NIST1950_3_6540.mzML  \\\n",
       "0                                         273260.230068                   \n",
       "1                                         271862.684655                   \n",
       "2                                           5493.665745                   \n",
       "3                                           5439.991595                   \n",
       "4                                         111613.268635                   \n",
       "...                                                 ...                   \n",
       "4123                                       10937.830750                   \n",
       "4124                                        5336.372046                   \n",
       "4125                                        3214.389626                   \n",
       "4126                                        3958.185071                   \n",
       "4127                                        3095.956265                   \n",
       "\n",
       "      example_data_for_colab/xcms_example_data//blank-2_6540.mzML  \n",
       "0                                              0.000000            \n",
       "1                                              0.000000            \n",
       "2                                              0.000000            \n",
       "3                                              0.000000            \n",
       "4                                            366.467538            \n",
       "...                                                 ...            \n",
       "4123                                           0.000000            \n",
       "4124                                           0.000000            \n",
       "4125                                           0.000000            \n",
       "4126                                           0.000000            \n",
       "4127                                           0.000000            \n",
       "\n",
       "[4128 rows x 6 columns]"
      ]
     },
     "execution_count": 7,
     "metadata": {},
     "output_type": "execute_result"
    }
   ],
   "source": [
    "det = detection_helper.PeakList()\n",
    "det.from_df(df)\n",
    "print(det.sampleCols)\n",
    "det.peakList"
   ]
  },
  {
   "cell_type": "markdown",
   "metadata": {},
   "source": [
    "Step 3: impute missing values"
   ]
  },
  {
   "cell_type": "code",
   "execution_count": 8,
   "metadata": {},
   "outputs": [
    {
     "name": "stdout",
     "output_type": "stream",
     "text": [
      "0.19852228682170542 of values imputted\n"
     ]
    }
   ],
   "source": [
    "det.imputeRowMin(det.sampleCols)"
   ]
  },
  {
   "cell_type": "markdown",
   "metadata": {},
   "source": [
    "Step 4: remove contaminants"
   ]
  },
  {
   "cell_type": "markdown",
   "metadata": {},
   "source": [
    "first we have to set keys that are unique to blank and non-blank samples. The name of the peak area columns are listed by running the cells below. Enter the keys unique to blanks and non-blanks in the cell following. Additionally, enter the factor that sets how many times higher the mean intensity in the non-blank samples must be in comparision to the blanks."
   ]
  },
  {
   "cell_type": "code",
   "execution_count": 9,
   "metadata": {},
   "outputs": [
    {
     "data": {
      "text/plain": [
       "['example_data_for_colab/xcms_example_data//B1_NIST1950_1_6540.mzML',\n",
       " 'example_data_for_colab/xcms_example_data//B1_NIST1950_2_6540.mzML',\n",
       " 'example_data_for_colab/xcms_example_data//B1_NIST1950_3_6540.mzML',\n",
       " 'example_data_for_colab/xcms_example_data//blank-2_6540.mzML']"
      ]
     },
     "execution_count": 9,
     "metadata": {},
     "output_type": "execute_result"
    }
   ],
   "source": [
    "det.sampleCols"
   ]
  },
  {
   "cell_type": "code",
   "execution_count": 11,
   "metadata": {},
   "outputs": [],
   "source": [
    "blankKey = [\"blank\"]\n",
    "sampleKey = [\"NIST\"]\n",
    "factor = 2"
   ]
  },
  {
   "cell_type": "markdown",
   "metadata": {},
   "source": [
    "Now run background subtraction"
   ]
  },
  {
   "cell_type": "code",
   "execution_count": 12,
   "metadata": {},
   "outputs": [
    {
     "name": "stdout",
     "output_type": "stream",
     "text": [
      "207 background features found\n"
     ]
    },
    {
     "data": {
      "text/html": [
       "<div>\n",
       "<style scoped>\n",
       "    .dataframe tbody tr th:only-of-type {\n",
       "        vertical-align: middle;\n",
       "    }\n",
       "\n",
       "    .dataframe tbody tr th {\n",
       "        vertical-align: top;\n",
       "    }\n",
       "\n",
       "    .dataframe thead th {\n",
       "        text-align: right;\n",
       "    }\n",
       "</style>\n",
       "<table border=\"1\" class=\"dataframe\">\n",
       "  <thead>\n",
       "    <tr style=\"text-align: right;\">\n",
       "      <th></th>\n",
       "      <th>mz</th>\n",
       "      <th>rt</th>\n",
       "      <th>example_data_for_colab/xcms_example_data//B1_NIST1950_1_6540.mzML</th>\n",
       "      <th>example_data_for_colab/xcms_example_data//B1_NIST1950_2_6540.mzML</th>\n",
       "      <th>example_data_for_colab/xcms_example_data//B1_NIST1950_3_6540.mzML</th>\n",
       "      <th>example_data_for_colab/xcms_example_data//blank-2_6540.mzML</th>\n",
       "    </tr>\n",
       "  </thead>\n",
       "  <tbody>\n",
       "    <tr>\n",
       "      <th>0</th>\n",
       "      <td>52.979821</td>\n",
       "      <td>5.056117</td>\n",
       "      <td>328176.974318</td>\n",
       "      <td>271618.362089</td>\n",
       "      <td>273260.230068</td>\n",
       "      <td>135809.181044</td>\n",
       "    </tr>\n",
       "    <tr>\n",
       "      <th>1</th>\n",
       "      <td>52.979821</td>\n",
       "      <td>5.156117</td>\n",
       "      <td>327235.172511</td>\n",
       "      <td>268698.405930</td>\n",
       "      <td>271862.684655</td>\n",
       "      <td>134349.202965</td>\n",
       "    </tr>\n",
       "    <tr>\n",
       "      <th>2</th>\n",
       "      <td>53.011069</td>\n",
       "      <td>5.056117</td>\n",
       "      <td>7699.610669</td>\n",
       "      <td>5632.152139</td>\n",
       "      <td>5493.665745</td>\n",
       "      <td>2746.832873</td>\n",
       "    </tr>\n",
       "    <tr>\n",
       "      <th>3</th>\n",
       "      <td>53.011069</td>\n",
       "      <td>5.156117</td>\n",
       "      <td>7715.444911</td>\n",
       "      <td>5813.271569</td>\n",
       "      <td>5439.991595</td>\n",
       "      <td>2719.995798</td>\n",
       "    </tr>\n",
       "    <tr>\n",
       "      <th>4</th>\n",
       "      <td>54.977010</td>\n",
       "      <td>5.056117</td>\n",
       "      <td>136569.504598</td>\n",
       "      <td>116534.698676</td>\n",
       "      <td>111613.268635</td>\n",
       "      <td>366.467538</td>\n",
       "    </tr>\n",
       "    <tr>\n",
       "      <th>...</th>\n",
       "      <td>...</td>\n",
       "      <td>...</td>\n",
       "      <td>...</td>\n",
       "      <td>...</td>\n",
       "      <td>...</td>\n",
       "      <td>...</td>\n",
       "    </tr>\n",
       "    <tr>\n",
       "      <th>4123</th>\n",
       "      <td>1069.285530</td>\n",
       "      <td>7.456117</td>\n",
       "      <td>11425.609147</td>\n",
       "      <td>8762.991710</td>\n",
       "      <td>10937.830750</td>\n",
       "      <td>4381.495855</td>\n",
       "    </tr>\n",
       "    <tr>\n",
       "      <th>4124</th>\n",
       "      <td>1070.286697</td>\n",
       "      <td>7.456117</td>\n",
       "      <td>5905.789419</td>\n",
       "      <td>4963.674346</td>\n",
       "      <td>5336.372046</td>\n",
       "      <td>2481.837173</td>\n",
       "    </tr>\n",
       "    <tr>\n",
       "      <th>4125</th>\n",
       "      <td>1081.902952</td>\n",
       "      <td>0.956117</td>\n",
       "      <td>5350.488108</td>\n",
       "      <td>4802.045764</td>\n",
       "      <td>3214.389626</td>\n",
       "      <td>1607.194813</td>\n",
       "    </tr>\n",
       "    <tr>\n",
       "      <th>4126</th>\n",
       "      <td>1115.209929</td>\n",
       "      <td>0.856117</td>\n",
       "      <td>3986.666141</td>\n",
       "      <td>3857.327005</td>\n",
       "      <td>3958.185071</td>\n",
       "      <td>1928.663503</td>\n",
       "    </tr>\n",
       "    <tr>\n",
       "      <th>4127</th>\n",
       "      <td>1175.773297</td>\n",
       "      <td>0.956117</td>\n",
       "      <td>4359.891090</td>\n",
       "      <td>4467.821683</td>\n",
       "      <td>3095.956265</td>\n",
       "      <td>1547.978132</td>\n",
       "    </tr>\n",
       "  </tbody>\n",
       "</table>\n",
       "<p>3921 rows × 6 columns</p>\n",
       "</div>"
      ],
      "text/plain": [
       "               mz        rt  \\\n",
       "0       52.979821  5.056117   \n",
       "1       52.979821  5.156117   \n",
       "2       53.011069  5.056117   \n",
       "3       53.011069  5.156117   \n",
       "4       54.977010  5.056117   \n",
       "...           ...       ...   \n",
       "4123  1069.285530  7.456117   \n",
       "4124  1070.286697  7.456117   \n",
       "4125  1081.902952  0.956117   \n",
       "4126  1115.209929  0.856117   \n",
       "4127  1175.773297  0.956117   \n",
       "\n",
       "      example_data_for_colab/xcms_example_data//B1_NIST1950_1_6540.mzML  \\\n",
       "0                                         328176.974318                   \n",
       "1                                         327235.172511                   \n",
       "2                                           7699.610669                   \n",
       "3                                           7715.444911                   \n",
       "4                                         136569.504598                   \n",
       "...                                                 ...                   \n",
       "4123                                       11425.609147                   \n",
       "4124                                        5905.789419                   \n",
       "4125                                        5350.488108                   \n",
       "4126                                        3986.666141                   \n",
       "4127                                        4359.891090                   \n",
       "\n",
       "      example_data_for_colab/xcms_example_data//B1_NIST1950_2_6540.mzML  \\\n",
       "0                                         271618.362089                   \n",
       "1                                         268698.405930                   \n",
       "2                                           5632.152139                   \n",
       "3                                           5813.271569                   \n",
       "4                                         116534.698676                   \n",
       "...                                                 ...                   \n",
       "4123                                        8762.991710                   \n",
       "4124                                        4963.674346                   \n",
       "4125                                        4802.045764                   \n",
       "4126                                        3857.327005                   \n",
       "4127                                        4467.821683                   \n",
       "\n",
       "      example_data_for_colab/xcms_example_data//B1_NIST1950_3_6540.mzML  \\\n",
       "0                                         273260.230068                   \n",
       "1                                         271862.684655                   \n",
       "2                                           5493.665745                   \n",
       "3                                           5439.991595                   \n",
       "4                                         111613.268635                   \n",
       "...                                                 ...                   \n",
       "4123                                       10937.830750                   \n",
       "4124                                        5336.372046                   \n",
       "4125                                        3214.389626                   \n",
       "4126                                        3958.185071                   \n",
       "4127                                        3095.956265                   \n",
       "\n",
       "      example_data_for_colab/xcms_example_data//blank-2_6540.mzML  \n",
       "0                                         135809.181044            \n",
       "1                                         134349.202965            \n",
       "2                                           2746.832873            \n",
       "3                                           2719.995798            \n",
       "4                                            366.467538            \n",
       "...                                                 ...            \n",
       "4123                                        4381.495855            \n",
       "4124                                        2481.837173            \n",
       "4125                                        1607.194813            \n",
       "4126                                        1928.663503            \n",
       "4127                                        1547.978132            \n",
       "\n",
       "[3921 rows x 6 columns]"
      ]
     },
     "execution_count": 12,
     "metadata": {},
     "output_type": "execute_result"
    }
   ],
   "source": [
    "det.backgroundSubtract(blankKey,sampleKey,factor)\n",
    "det.peakList"
   ]
  },
  {
   "cell_type": "markdown",
   "metadata": {},
   "source": [
    "Step 5: remove redundancies (isotopes, fragments, adducts, etc.) "
   ]
  },
  {
   "cell_type": "markdown",
   "metadata": {},
   "source": [
    "First we have to set some thresholds for the correlation between redundant features and the retention time difference between redundant features"
   ]
  },
  {
   "cell_type": "code",
   "execution_count": 17,
   "metadata": {},
   "outputs": [],
   "source": [
    "corrThresh = 0.9 #minimum correlation of intensities in sample columns to consider as redundant\n",
    "rtThresh = 0.5 #maximum difference in RT to consider as redundant (in minutes)\n",
    "polarity = -1 #polarity of data (-1 for negative mode, 1 for postive mode\n",
    "ms1ppm = 25.5 #ppm tolerance"
   ]
  },
  {
   "cell_type": "markdown",
   "metadata": {},
   "source": [
    "remove redundancies"
   ]
  },
  {
   "cell_type": "code",
   "execution_count": 18,
   "metadata": {},
   "outputs": [
    {
     "name": "stdout",
     "output_type": "stream",
     "text": [
      "grouping peaks |██████████████████████████████████████████████████| 100.0% 1467 peak groups found\n",
      "running mz.unity |██████████████████████████████████████████████████| 100.0% \n",
      "3094 redundant features found\n"
     ]
    }
   ],
   "source": [
    "if __name__ == \"__main__\":\n",
    "    det.removeRedundancy(corrThresh,rtThresh,polarity,ms1ppm,numCores,sampleCols=det.sampleCols)"
   ]
  },
  {
   "cell_type": "code",
   "execution_count": 19,
   "metadata": {},
   "outputs": [
    {
     "data": {
      "text/html": [
       "<div>\n",
       "<style scoped>\n",
       "    .dataframe tbody tr th:only-of-type {\n",
       "        vertical-align: middle;\n",
       "    }\n",
       "\n",
       "    .dataframe tbody tr th {\n",
       "        vertical-align: top;\n",
       "    }\n",
       "\n",
       "    .dataframe thead th {\n",
       "        text-align: right;\n",
       "    }\n",
       "</style>\n",
       "<table border=\"1\" class=\"dataframe\">\n",
       "  <thead>\n",
       "    <tr style=\"text-align: right;\">\n",
       "      <th></th>\n",
       "      <th>mz</th>\n",
       "      <th>rt</th>\n",
       "      <th>example_data_for_colab/xcms_example_data//B1_NIST1950_1_6540.mzML</th>\n",
       "      <th>example_data_for_colab/xcms_example_data//B1_NIST1950_2_6540.mzML</th>\n",
       "      <th>example_data_for_colab/xcms_example_data//B1_NIST1950_3_6540.mzML</th>\n",
       "      <th>example_data_for_colab/xcms_example_data//blank-2_6540.mzML</th>\n",
       "      <th>uniqueIon</th>\n",
       "      <th>example_data_for_colab.xcms_example_data..B1_NIST1950_1_6540.mzML</th>\n",
       "      <th>example_data_for_colab.xcms_example_data..B1_NIST1950_2_6540.mzML</th>\n",
       "      <th>example_data_for_colab.xcms_example_data..B1_NIST1950_3_6540.mzML</th>\n",
       "      <th>example_data_for_colab.xcms_example_data..blank.2_6540.mzML</th>\n",
       "    </tr>\n",
       "  </thead>\n",
       "  <tbody>\n",
       "    <tr>\n",
       "      <th>4</th>\n",
       "      <td>54.977010</td>\n",
       "      <td>5.056117</td>\n",
       "      <td>136569.504598</td>\n",
       "      <td>116534.698676</td>\n",
       "      <td>111613.268635</td>\n",
       "      <td>366.467538</td>\n",
       "      <td>True</td>\n",
       "      <td>NaN</td>\n",
       "      <td>NaN</td>\n",
       "      <td>NaN</td>\n",
       "      <td>NaN</td>\n",
       "    </tr>\n",
       "    <tr>\n",
       "      <th>15</th>\n",
       "      <td>59.047746</td>\n",
       "      <td>2.056117</td>\n",
       "      <td>2443.134115</td>\n",
       "      <td>2698.168351</td>\n",
       "      <td>1974.829374</td>\n",
       "      <td>987.414687</td>\n",
       "      <td>True</td>\n",
       "      <td>NaN</td>\n",
       "      <td>NaN</td>\n",
       "      <td>NaN</td>\n",
       "      <td>NaN</td>\n",
       "    </tr>\n",
       "    <tr>\n",
       "      <th>16</th>\n",
       "      <td>59.047746</td>\n",
       "      <td>3.356117</td>\n",
       "      <td>709.550577</td>\n",
       "      <td>771.811426</td>\n",
       "      <td>487.230501</td>\n",
       "      <td>243.615250</td>\n",
       "      <td>True</td>\n",
       "      <td>NaN</td>\n",
       "      <td>NaN</td>\n",
       "      <td>NaN</td>\n",
       "      <td>NaN</td>\n",
       "    </tr>\n",
       "    <tr>\n",
       "      <th>20</th>\n",
       "      <td>61.016597</td>\n",
       "      <td>5.656117</td>\n",
       "      <td>3386.950402</td>\n",
       "      <td>1922.358782</td>\n",
       "      <td>2719.653038</td>\n",
       "      <td>961.179391</td>\n",
       "      <td>True</td>\n",
       "      <td>NaN</td>\n",
       "      <td>NaN</td>\n",
       "      <td>NaN</td>\n",
       "      <td>NaN</td>\n",
       "    </tr>\n",
       "    <tr>\n",
       "      <th>30</th>\n",
       "      <td>74.024669</td>\n",
       "      <td>5.856117</td>\n",
       "      <td>4471.414980</td>\n",
       "      <td>5008.121926</td>\n",
       "      <td>4331.050602</td>\n",
       "      <td>2165.525301</td>\n",
       "      <td>True</td>\n",
       "      <td>NaN</td>\n",
       "      <td>NaN</td>\n",
       "      <td>NaN</td>\n",
       "      <td>NaN</td>\n",
       "    </tr>\n",
       "    <tr>\n",
       "      <th>...</th>\n",
       "      <td>...</td>\n",
       "      <td>...</td>\n",
       "      <td>...</td>\n",
       "      <td>...</td>\n",
       "      <td>...</td>\n",
       "      <td>...</td>\n",
       "      <td>...</td>\n",
       "      <td>...</td>\n",
       "      <td>...</td>\n",
       "      <td>...</td>\n",
       "      <td>...</td>\n",
       "    </tr>\n",
       "    <tr>\n",
       "      <th>4104</th>\n",
       "      <td>979.980822</td>\n",
       "      <td>1.556117</td>\n",
       "      <td>8414.459979</td>\n",
       "      <td>8054.655050</td>\n",
       "      <td>3996.526883</td>\n",
       "      <td>1998.263442</td>\n",
       "      <td>True</td>\n",
       "      <td>NaN</td>\n",
       "      <td>NaN</td>\n",
       "      <td>NaN</td>\n",
       "      <td>NaN</td>\n",
       "    </tr>\n",
       "    <tr>\n",
       "      <th>4107</th>\n",
       "      <td>999.920568</td>\n",
       "      <td>4.956117</td>\n",
       "      <td>5292.712933</td>\n",
       "      <td>4254.325701</td>\n",
       "      <td>2081.889128</td>\n",
       "      <td>1040.944564</td>\n",
       "      <td>True</td>\n",
       "      <td>NaN</td>\n",
       "      <td>NaN</td>\n",
       "      <td>NaN</td>\n",
       "      <td>NaN</td>\n",
       "    </tr>\n",
       "    <tr>\n",
       "      <th>4108</th>\n",
       "      <td>1001.918747</td>\n",
       "      <td>4.956117</td>\n",
       "      <td>3086.435920</td>\n",
       "      <td>4137.948180</td>\n",
       "      <td>1654.642514</td>\n",
       "      <td>827.321257</td>\n",
       "      <td>True</td>\n",
       "      <td>NaN</td>\n",
       "      <td>NaN</td>\n",
       "      <td>NaN</td>\n",
       "      <td>NaN</td>\n",
       "    </tr>\n",
       "    <tr>\n",
       "      <th>4113</th>\n",
       "      <td>1025.161735</td>\n",
       "      <td>0.856117</td>\n",
       "      <td>8951.200319</td>\n",
       "      <td>9772.595307</td>\n",
       "      <td>7397.601286</td>\n",
       "      <td>3698.800643</td>\n",
       "      <td>True</td>\n",
       "      <td>NaN</td>\n",
       "      <td>NaN</td>\n",
       "      <td>NaN</td>\n",
       "      <td>NaN</td>\n",
       "    </tr>\n",
       "    <tr>\n",
       "      <th>4127</th>\n",
       "      <td>1175.773297</td>\n",
       "      <td>0.956117</td>\n",
       "      <td>4359.891090</td>\n",
       "      <td>4467.821683</td>\n",
       "      <td>3095.956265</td>\n",
       "      <td>1547.978132</td>\n",
       "      <td>True</td>\n",
       "      <td>NaN</td>\n",
       "      <td>NaN</td>\n",
       "      <td>NaN</td>\n",
       "      <td>NaN</td>\n",
       "    </tr>\n",
       "  </tbody>\n",
       "</table>\n",
       "<p>827 rows × 11 columns</p>\n",
       "</div>"
      ],
      "text/plain": [
       "               mz        rt  \\\n",
       "4       54.977010  5.056117   \n",
       "15      59.047746  2.056117   \n",
       "16      59.047746  3.356117   \n",
       "20      61.016597  5.656117   \n",
       "30      74.024669  5.856117   \n",
       "...           ...       ...   \n",
       "4104   979.980822  1.556117   \n",
       "4107   999.920568  4.956117   \n",
       "4108  1001.918747  4.956117   \n",
       "4113  1025.161735  0.856117   \n",
       "4127  1175.773297  0.956117   \n",
       "\n",
       "      example_data_for_colab/xcms_example_data//B1_NIST1950_1_6540.mzML  \\\n",
       "4                                         136569.504598                   \n",
       "15                                          2443.134115                   \n",
       "16                                           709.550577                   \n",
       "20                                          3386.950402                   \n",
       "30                                          4471.414980                   \n",
       "...                                                 ...                   \n",
       "4104                                        8414.459979                   \n",
       "4107                                        5292.712933                   \n",
       "4108                                        3086.435920                   \n",
       "4113                                        8951.200319                   \n",
       "4127                                        4359.891090                   \n",
       "\n",
       "      example_data_for_colab/xcms_example_data//B1_NIST1950_2_6540.mzML  \\\n",
       "4                                         116534.698676                   \n",
       "15                                          2698.168351                   \n",
       "16                                           771.811426                   \n",
       "20                                          1922.358782                   \n",
       "30                                          5008.121926                   \n",
       "...                                                 ...                   \n",
       "4104                                        8054.655050                   \n",
       "4107                                        4254.325701                   \n",
       "4108                                        4137.948180                   \n",
       "4113                                        9772.595307                   \n",
       "4127                                        4467.821683                   \n",
       "\n",
       "      example_data_for_colab/xcms_example_data//B1_NIST1950_3_6540.mzML  \\\n",
       "4                                         111613.268635                   \n",
       "15                                          1974.829374                   \n",
       "16                                           487.230501                   \n",
       "20                                          2719.653038                   \n",
       "30                                          4331.050602                   \n",
       "...                                                 ...                   \n",
       "4104                                        3996.526883                   \n",
       "4107                                        2081.889128                   \n",
       "4108                                        1654.642514                   \n",
       "4113                                        7397.601286                   \n",
       "4127                                        3095.956265                   \n",
       "\n",
       "      example_data_for_colab/xcms_example_data//blank-2_6540.mzML  uniqueIon  \\\n",
       "4                                            366.467538                 True   \n",
       "15                                           987.414687                 True   \n",
       "16                                           243.615250                 True   \n",
       "20                                           961.179391                 True   \n",
       "30                                          2165.525301                 True   \n",
       "...                                                 ...                  ...   \n",
       "4104                                        1998.263442                 True   \n",
       "4107                                        1040.944564                 True   \n",
       "4108                                         827.321257                 True   \n",
       "4113                                        3698.800643                 True   \n",
       "4127                                        1547.978132                 True   \n",
       "\n",
       "      example_data_for_colab.xcms_example_data..B1_NIST1950_1_6540.mzML  \\\n",
       "4                                                   NaN                   \n",
       "15                                                  NaN                   \n",
       "16                                                  NaN                   \n",
       "20                                                  NaN                   \n",
       "30                                                  NaN                   \n",
       "...                                                 ...                   \n",
       "4104                                                NaN                   \n",
       "4107                                                NaN                   \n",
       "4108                                                NaN                   \n",
       "4113                                                NaN                   \n",
       "4127                                                NaN                   \n",
       "\n",
       "      example_data_for_colab.xcms_example_data..B1_NIST1950_2_6540.mzML  \\\n",
       "4                                                   NaN                   \n",
       "15                                                  NaN                   \n",
       "16                                                  NaN                   \n",
       "20                                                  NaN                   \n",
       "30                                                  NaN                   \n",
       "...                                                 ...                   \n",
       "4104                                                NaN                   \n",
       "4107                                                NaN                   \n",
       "4108                                                NaN                   \n",
       "4113                                                NaN                   \n",
       "4127                                                NaN                   \n",
       "\n",
       "      example_data_for_colab.xcms_example_data..B1_NIST1950_3_6540.mzML  \\\n",
       "4                                                   NaN                   \n",
       "15                                                  NaN                   \n",
       "16                                                  NaN                   \n",
       "20                                                  NaN                   \n",
       "30                                                  NaN                   \n",
       "...                                                 ...                   \n",
       "4104                                                NaN                   \n",
       "4107                                                NaN                   \n",
       "4108                                                NaN                   \n",
       "4113                                                NaN                   \n",
       "4127                                                NaN                   \n",
       "\n",
       "      example_data_for_colab.xcms_example_data..blank.2_6540.mzML  \n",
       "4                                                   NaN            \n",
       "15                                                  NaN            \n",
       "16                                                  NaN            \n",
       "20                                                  NaN            \n",
       "30                                                  NaN            \n",
       "...                                                 ...            \n",
       "4104                                                NaN            \n",
       "4107                                                NaN            \n",
       "4108                                                NaN            \n",
       "4113                                                NaN            \n",
       "4127                                                NaN            \n",
       "\n",
       "[827 rows x 11 columns]"
      ]
     },
     "execution_count": 19,
     "metadata": {},
     "output_type": "execute_result"
    }
   ],
   "source": [
    "det.peakList"
   ]
  },
  {
   "cell_type": "markdown",
   "metadata": {},
   "source": [
    "Step 6 output results"
   ]
  },
  {
   "cell_type": "code",
   "execution_count": 22,
   "metadata": {},
   "outputs": [],
   "source": [
    "det.to_csv(peakFile.replace(\".csv\",\"_refined.csv\"))"
   ]
  },
  {
   "cell_type": "markdown",
   "metadata": {
    "id": "tAtTZl2xBb2r"
   },
   "source": [
    "# Change log\n",
    "01/30/2022 notebook created (ES)\n"
   ]
  }
 ],
 "metadata": {
  "colab": {
   "provenance": []
  },
  "gpuClass": "standard",
  "kernelspec": {
   "display_name": "Python 3 (ipykernel)",
   "language": "python",
   "name": "python3"
  },
  "language_info": {
   "codemirror_mode": {
    "name": "ipython",
    "version": 3
   },
   "file_extension": ".py",
   "mimetype": "text/x-python",
   "name": "python",
   "nbconvert_exporter": "python",
   "pygments_lexer": "ipython3",
   "version": "3.9.16"
  }
 },
 "nbformat": 4,
 "nbformat_minor": 4
}
